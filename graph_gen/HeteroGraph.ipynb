{
 "cells": [
  {
   "cell_type": "code",
   "execution_count": 7,
   "id": "initial_id",
   "metadata": {
    "collapsed": true,
    "ExecuteTime": {
     "end_time": "2023-11-14T20:34:59.132253Z",
     "start_time": "2023-11-14T20:34:59.128563Z"
    }
   },
   "outputs": [],
   "source": [
    "import pickle\n",
    "\n",
    "# from deepsnap.hetero_graph import HeteroGraph\n",
    "import numpy as np\n",
    "# import pandas as pd\n",
    "# \n",
    "from matplotlib import pyplot as plt"
   ]
  },
  {
   "cell_type": "code",
   "execution_count": 34,
   "outputs": [],
   "source": [
    "graph = pickle.load(open('../data/graphs/1_concepts_similar.pkl', 'rb'))"
   ],
   "metadata": {
    "collapsed": false,
    "ExecuteTime": {
     "end_time": "2023-11-14T21:00:22.271499Z",
     "start_time": "2023-11-14T21:00:21.642544Z"
    }
   },
   "id": "fe209b08cea8e3a9"
  },
  {
   "cell_type": "code",
   "execution_count": 35,
   "outputs": [],
   "source": [
    "counts = []\n",
    "for i, data in graph.nodes(data=True):\n",
    "    if data['node_type'] == 'event':\n",
    "        counts.append(data['node_target'])\n",
    "\n",
    "counts = np.array(counts)"
   ],
   "metadata": {
    "collapsed": false,
    "ExecuteTime": {
     "end_time": "2023-11-14T21:00:23.158748Z",
     "start_time": "2023-11-14T21:00:23.152464Z"
    }
   },
   "id": "250244742a0c2ce7"
  },
  {
   "cell_type": "code",
   "execution_count": 36,
   "outputs": [],
   "source": [
    "nonzero_counts = counts[counts != -1]"
   ],
   "metadata": {
    "collapsed": false,
    "ExecuteTime": {
     "end_time": "2023-11-14T21:00:23.882867Z",
     "start_time": "2023-11-14T21:00:23.876201Z"
    }
   },
   "id": "5e582e50480fe89"
  },
  {
   "cell_type": "code",
   "execution_count": 37,
   "outputs": [
    {
     "name": "stdout",
     "output_type": "stream",
     "text": [
      "Total events: 8879\n",
      "Total events with positive targets: 608\n"
     ]
    }
   ],
   "source": [
    "print(f\"Total events: {len(counts)}\")\n",
    "print(f\"Total events with positive targets: {len(nonzero_counts)}\")"
   ],
   "metadata": {
    "collapsed": false,
    "ExecuteTime": {
     "end_time": "2023-11-14T21:00:24.781257Z",
     "start_time": "2023-11-14T21:00:24.774195Z"
    }
   },
   "id": "c715c575293c743b"
  },
  {
   "cell_type": "code",
   "execution_count": 38,
   "outputs": [
    {
     "data": {
      "text/plain": "<Figure size 640x480 with 1 Axes>",
      "image/png": "[encoded data removed]"
     },
     "metadata": {},
     "output_type": "display_data"
    }
   ],
   "source": [
    "plt.hist(nonzero_counts, bins=200, rwidth=0.5)\n",
    "plt.show()"
   ],
   "metadata": {
    "collapsed": false,
    "ExecuteTime": {
     "end_time": "2023-11-14T21:00:27.920266Z",
     "start_time": "2023-11-14T21:00:27.792307Z"
    }
   },
   "id": "b3e53d82f817c8ee"
  },
  {
   "cell_type": "code",
   "execution_count": 39,
   "outputs": [
    {
     "data": {
      "text/plain": "(array([  1.,   2.,   3.,   4.,   5.,   6.,   7.,   8.,   9.,  10.,  11.,\n         12.,  13.,  14.,  15.,  16.,  17.,  18.,  19.,  20.,  21.,  22.,\n         23.,  24.,  25.,  26.,  27.,  28.,  29.,  30.,  31.,  32.,  33.,\n         35.,  37.,  39.,  40.,  45.,  46.,  48.,  51.,  52.,  56.,  57.,\n         58.,  60.,  62.,  69.,  79.,  89.,  92.,  94., 100., 111., 121.,\n        122., 123., 131., 137., 141., 144., 150., 152., 164., 170., 186.,\n        221., 233., 313., 335., 394., 431., 447., 607.], dtype=float32),\n array([97, 61, 44, 41, 38, 37, 33, 19, 30, 21, 25, 22, 16, 12,  6,  4,  7,\n         4,  3,  7,  1,  5,  2,  4,  2,  2,  4,  1,  1,  1,  3,  2,  3,  3,\n         4,  1,  1,  1,  1,  2,  1,  1,  1,  1,  1,  1,  3,  2,  1,  1,  1,\n         1,  1,  1,  1,  1,  1,  1,  1,  1,  1,  1,  1,  1,  1,  1,  1,  1,\n         1,  1,  1,  1,  1,  1]))"
     },
     "execution_count": 39,
     "metadata": {},
     "output_type": "execute_result"
    }
   ],
   "source": [
    "np.unique(nonzero_counts, return_counts=True)"
   ],
   "metadata": {
    "collapsed": false,
    "ExecuteTime": {
     "end_time": "2023-11-14T21:00:29.353795Z",
     "start_time": "2023-11-14T21:00:29.348596Z"
    }
   },
   "id": "e1cfef4e8f0c6b86"
  },
  {
   "cell_type": "code",
   "execution_count": null,
   "outputs": [],
   "source": [],
   "metadata": {
    "collapsed": false
   },
   "id": "660db510c5e3ef7e"
  }
 ],
 "metadata": {
  "kernelspec": {
   "display_name": "Python 3",
   "language": "python",
   "name": "python3"
  },
  "language_info": {
   "codemirror_mode": {
    "name": "ipython",
    "version": 2
   },
   "file_extension": ".py",
   "mimetype": "text/x-python",
   "name": "python",
   "nbconvert_exporter": "python",
   "pygments_lexer": "ipython2",
   "version": "2.7.6"
  }
 },
 "nbformat": 4,
 "nbformat_minor": 5
}
