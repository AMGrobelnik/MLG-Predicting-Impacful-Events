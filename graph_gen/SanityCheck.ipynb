{
 "cells": [
  {
   "cell_type": "code",
   "execution_count": 8,
   "outputs": [],
   "source": [
    "import json\n",
    "\n",
    "import numpy as np\n",
    "import pandas as pd"
   ],
   "metadata": {
    "collapsed": false,
    "ExecuteTime": {
     "end_time": "2023-11-14T19:36:06.321301Z",
     "start_time": "2023-11-14T19:36:06.257322Z"
    }
   },
   "id": "2a3ff5fb8b98494d"
  },
  {
   "cell_type": "code",
   "execution_count": 4,
   "outputs": [],
   "source": [
    "events = set()\n",
    "concepts = set()\n",
    "counts = []\n",
    "\n",
    "for event in file:\n",
    "    events.add(event['info']['uri'])\n",
    "    counts.append(event['info']['articleCounts']['total'])\n",
    "    # for similar_event in event['similarEvents']['similarEvents']:\n",
    "    #     events.add(similar_event['uri'])\n",
    "    for concept in event['info']['concepts']:\n",
    "        concepts.add(concept['uri'])"
   ],
   "metadata": {
    "collapsed": false,
    "ExecuteTime": {
     "end_time": "2023-11-14T19:35:50.577415Z",
     "start_time": "2023-11-14T19:35:50.565070Z"
    }
   },
   "id": "84e262bca8af7f59"
  },
  {
   "cell_type": "code",
   "execution_count": 5,
   "outputs": [
    {
     "data": {
      "text/plain": "1000"
     },
     "execution_count": 5,
     "metadata": {},
     "output_type": "execute_result"
    }
   ],
   "source": [
    "len(events)"
   ],
   "metadata": {
    "collapsed": false,
    "ExecuteTime": {
     "end_time": "2023-11-14T19:35:51.350159Z",
     "start_time": "2023-11-14T19:35:51.335443Z"
    }
   },
   "id": "3bf7bc880093a692"
  },
  {
   "cell_type": "code",
   "execution_count": 6,
   "outputs": [
    {
     "data": {
      "text/plain": "8729"
     },
     "execution_count": 6,
     "metadata": {},
     "output_type": "execute_result"
    }
   ],
   "source": [
    "len(concepts)"
   ],
   "metadata": {
    "collapsed": false,
    "ExecuteTime": {
     "end_time": "2023-11-14T19:35:52.095926Z",
     "start_time": "2023-11-14T19:35:52.086351Z"
    }
   },
   "id": "1472754a97728bff"
  },
  {
   "cell_type": "code",
   "execution_count": 52,
   "outputs": [],
   "source": [
    "counts = np.array(counts)"
   ],
   "metadata": {
    "collapsed": false,
    "ExecuteTime": {
     "end_time": "2023-11-14T20:42:45.071841Z",
     "start_time": "2023-11-14T20:42:44.889802Z"
    }
   },
   "id": "f3c2525667cc85ef"
  },
  {
   "cell_type": "code",
   "execution_count": 54,
   "outputs": [
    {
     "data": {
      "text/plain": "(608,)"
     },
     "execution_count": 54,
     "metadata": {},
     "output_type": "execute_result"
    }
   ],
   "source": [
    "counts[counts > 0].shape"
   ],
   "metadata": {
    "collapsed": false,
    "ExecuteTime": {
     "end_time": "2023-11-14T20:43:00.641433Z",
     "start_time": "2023-11-14T20:43:00.479226Z"
    }
   },
   "id": "6cb1256728f0fc30"
  },
  {
   "cell_type": "code",
   "execution_count": 53,
   "outputs": [
    {
     "data": {
      "text/plain": "(array([  1,   2,   3,   4,   5,   6,   7,   8,   9,  10,  11,  12,  13,\n         14,  15,  16,  17,  18,  19,  20,  21,  22,  23,  24,  25,  26,\n         27,  28,  29,  30,  31,  32,  33,  35,  37,  39,  40,  45,  46,\n         48,  51,  52,  56,  57,  58,  60,  62,  69,  79,  89,  92,  94,\n        100, 111, 121, 122, 123, 131, 137, 141, 144, 150, 152, 164, 170,\n        186, 221, 233, 313, 335, 394, 431, 447, 607]),\n array([97, 61, 44, 41, 38, 37, 33, 19, 30, 21, 25, 22, 16, 12,  6,  4,  7,\n         4,  3,  7,  1,  5,  2,  4,  2,  2,  4,  1,  1,  1,  3,  2,  3,  3,\n         4,  1,  1,  1,  1,  2,  1,  1,  1,  1,  1,  1,  3,  2,  1,  1,  1,\n         1,  1,  1,  1,  1,  1,  1,  1,  1,  1,  1,  1,  1,  1,  1,  1,  1,\n         1,  1,  1,  1,  1,  1]))"
     },
     "execution_count": 53,
     "metadata": {},
     "output_type": "execute_result"
    }
   ],
   "source": [
    "np.unique(counts[counts > 0], return_counts=True)"
   ],
   "metadata": {
    "collapsed": false,
    "ExecuteTime": {
     "end_time": "2023-11-14T20:42:45.641201Z",
     "start_time": "2023-11-14T20:42:45.636879Z"
    }
   },
   "id": "6b5d7785d1105655"
  },
  {
   "cell_type": "code",
   "execution_count": null,
   "outputs": [],
   "source": [],
   "metadata": {
    "collapsed": false
   },
   "id": "94e893255a941318"
  },
  {
   "cell_type": "markdown",
   "source": [
    "# Preprocessed"
   ],
   "metadata": {
    "collapsed": false
   },
   "id": "576c07b505fd0e90"
  },
  {
   "cell_type": "code",
   "execution_count": 11,
   "outputs": [],
   "source": [
    "prep_df = pd.read_pickle('../data/preprocessed/events-00001.pkl')"
   ],
   "metadata": {
    "collapsed": false,
    "ExecuteTime": {
     "end_time": "2023-11-14T19:37:05.930820Z",
     "start_time": "2023-11-14T19:37:05.872326Z"
    }
   },
   "id": "14638a61d00980"
  },
  {
   "cell_type": "code",
   "execution_count": 15,
   "outputs": [
    {
     "name": "stdout",
     "output_type": "stream",
     "text": [
      "events: 608\n"
     ]
    }
   ],
   "source": [
    "print(\"events:\", prep_df.shape[0])"
   ],
   "metadata": {
    "collapsed": false,
    "ExecuteTime": {
     "end_time": "2023-11-14T19:37:42.811859Z",
     "start_time": "2023-11-14T19:37:42.662916Z"
    }
   },
   "id": "b9cb1378b9735457"
  },
  {
   "cell_type": "code",
   "execution_count": 18,
   "outputs": [],
   "source": [
    "from datetime import datetime as dt\n",
    "\n",
    "\n",
    "def generate_id(orig_id: str, prefix: str) -> str:\n",
    "    \"\"\"\n",
    "    Generates an ID for a given concept or event\n",
    "    :param orig_id: the original ID of the concept or event\n",
    "    :param prefix: the prefix to be added to the ID (e.g. 'c' for concept, 'e' for event)\n",
    "    \"\"\"\n",
    "    return f\"{prefix}_{orig_id}\"\n",
    "\n",
    "\n",
    "def event_date_to_timestamp(event: dict, similar_event: bool):\n",
    "    event_date = event[\"eventDate\"] if similar_event else event[\"info\"][\"eventDate\"]\n",
    "    if event_date == \"\":\n",
    "        return 0\n",
    "    return dt.strptime(event_date, \"%Y-%m-%d\").timestamp()"
   ],
   "metadata": {
    "collapsed": false,
    "ExecuteTime": {
     "end_time": "2023-11-14T19:44:58.379311Z",
     "start_time": "2023-11-14T19:44:58.192944Z"
    }
   },
   "id": "fa7630129254dfa4"
  },
  {
   "cell_type": "code",
   "execution_count": 46,
   "outputs": [],
   "source": [
    "with open('../data/source/events-00001.json', \"r\") as file:\n",
    "    file = json.load(file)\n",
    "\n",
    "\n",
    "def filter_json(json_content):\n",
    "    filtered_events = []\n",
    "    for event in json_content:\n",
    "        # generate unique ids\n",
    "        event[\"info\"][\"uri\"] = generate_id(event[\"info\"][\"uri\"], \"e\")\n",
    "        event[\"info\"][\"eventDate\"] = event_date_to_timestamp(event, False)\n",
    "\n",
    "        similar_events = event['similarEvents']['similarEvents']\n",
    "        concepts = event['info'][\"concepts\"]\n",
    "        article_counts_total = event['info']['articleCounts']['total']\n",
    "\n",
    "        if article_counts_total == 0:\n",
    "            event['info']['articleCounts']['total'] = -1\n",
    "\n",
    "        try:\n",
    "            # fix json structure\n",
    "            event[\"similarEvents\"] = event[\"similarEvents\"][\"similarEvents\"]\n",
    "\n",
    "            for se in similar_events:\n",
    "                # generate unique ids\n",
    "                se[\"uri\"] = generate_id(se[\"uri\"], \"e\")\n",
    "                # convert to timestamp\n",
    "                se[\"eventDate\"] = event_date_to_timestamp(se, True)\n",
    "\n",
    "            for c in concepts:\n",
    "                # generate unique ids\n",
    "                c[\"id\"] = generate_id(c[\"id\"], \"c\")\n",
    "\n",
    "            filtered_events.append(event)\n",
    "        except:\n",
    "            print(event)\n",
    "            break\n",
    "\n",
    "        event[\"info\"].pop(\"eventDateEnd\", None)\n",
    "        event[\"info\"].pop(\"categories\", None)\n",
    "\n",
    "    dataframe = pd.DataFrame(filtered_events)\n",
    "    return dataframe"
   ],
   "metadata": {
    "collapsed": false,
    "ExecuteTime": {
     "end_time": "2023-11-14T19:51:20.699437Z",
     "start_time": "2023-11-14T19:51:20.493563Z"
    }
   },
   "id": "83177e7db3c89c43"
  },
  {
   "cell_type": "code",
   "execution_count": 47,
   "outputs": [],
   "source": [
    "prep_df = filter_json(file)"
   ],
   "metadata": {
    "collapsed": false,
    "ExecuteTime": {
     "end_time": "2023-11-14T19:51:21.150498Z",
     "start_time": "2023-11-14T19:51:21.132879Z"
    }
   },
   "id": "77fdf32b1caef113"
  },
  {
   "cell_type": "code",
   "execution_count": 48,
   "outputs": [
    {
     "data": {
      "text/plain": "(1000, 2)"
     },
     "execution_count": 48,
     "metadata": {},
     "output_type": "execute_result"
    }
   ],
   "source": [
    "prep_df.shape"
   ],
   "metadata": {
    "collapsed": false,
    "ExecuteTime": {
     "end_time": "2023-11-14T19:51:21.541887Z",
     "start_time": "2023-11-14T19:51:21.535003Z"
    }
   },
   "id": "9a8d3c6964449bb6"
  },
  {
   "cell_type": "code",
   "execution_count": 49,
   "outputs": [
    {
     "data": {
      "text/plain": "                                                info  \\\n0  {'uri': 'e_11', 'articleCounts': {'total': 7, ...   \n1  {'uri': 'e_10', 'articleCounts': {'total': 221...   \n2  {'uri': 'e_13', 'articleCounts': {'total': 9, ...   \n3  {'uri': 'e_12', 'articleCounts': {'total': 1, ...   \n4  {'uri': 'e_15', 'articleCounts': {'total': 8, ...   \n\n                                       similarEvents  \n0  [{'eventDateEnd': '', 'uri': 'e_1206914', 'sim...  \n1  [{'eventDateEnd': '', 'uri': 'e_957210', 'sim'...  \n2  [{'eventDateEnd': '', 'uri': 'e_2070817', 'sim...  \n3  [{'eventDateEnd': '', 'uri': 'e_570885', 'sim'...  \n4  [{'eventDateEnd': '', 'uri': 'e_27569', 'sim':...  ",
      "text/html": "<div>\n<style scoped>\n    .dataframe tbody tr th:only-of-type {\n        vertical-align: middle;\n    }\n\n    .dataframe tbody tr th {\n        vertical-align: top;\n    }\n\n    .dataframe thead th {\n        text-align: right;\n    }\n</style>\n<table border=\"1\" class=\"dataframe\">\n  <thead>\n    <tr style=\"text-align: right;\">\n      <th></th>\n      <th>info</th>\n      <th>similarEvents</th>\n    </tr>\n  </thead>\n  <tbody>\n    <tr>\n      <th>0</th>\n      <td>{'uri': 'e_11', 'articleCounts': {'total': 7, ...</td>\n      <td>[{'eventDateEnd': '', 'uri': 'e_1206914', 'sim...</td>\n    </tr>\n    <tr>\n      <th>1</th>\n      <td>{'uri': 'e_10', 'articleCounts': {'total': 221...</td>\n      <td>[{'eventDateEnd': '', 'uri': 'e_957210', 'sim'...</td>\n    </tr>\n    <tr>\n      <th>2</th>\n      <td>{'uri': 'e_13', 'articleCounts': {'total': 9, ...</td>\n      <td>[{'eventDateEnd': '', 'uri': 'e_2070817', 'sim...</td>\n    </tr>\n    <tr>\n      <th>3</th>\n      <td>{'uri': 'e_12', 'articleCounts': {'total': 1, ...</td>\n      <td>[{'eventDateEnd': '', 'uri': 'e_570885', 'sim'...</td>\n    </tr>\n    <tr>\n      <th>4</th>\n      <td>{'uri': 'e_15', 'articleCounts': {'total': 8, ...</td>\n      <td>[{'eventDateEnd': '', 'uri': 'e_27569', 'sim':...</td>\n    </tr>\n  </tbody>\n</table>\n</div>"
     },
     "execution_count": 49,
     "metadata": {},
     "output_type": "execute_result"
    }
   ],
   "source": [
    "prep_df.head()"
   ],
   "metadata": {
    "collapsed": false,
    "ExecuteTime": {
     "end_time": "2023-11-14T19:51:54.371680Z",
     "start_time": "2023-11-14T19:51:54.233127Z"
    }
   },
   "id": "34db467a071c4bfe"
  },
  {
   "cell_type": "code",
   "execution_count": 50,
   "outputs": [
    {
     "data": {
      "text/plain": "info             {'uri': 'e_11', 'articleCounts': {'total': 7, ...\nsimilarEvents    [{'eventDateEnd': '', 'uri': 'e_1206914', 'sim...\nName: 0, dtype: object"
     },
     "execution_count": 50,
     "metadata": {},
     "output_type": "execute_result"
    }
   ],
   "source": [
    "prep_df.loc[0]"
   ],
   "metadata": {
    "collapsed": false,
    "ExecuteTime": {
     "end_time": "2023-11-14T19:55:18.428245Z",
     "start_time": "2023-11-14T19:55:18.258031Z"
    }
   },
   "id": "7972d91a94ef8b33"
  },
  {
   "cell_type": "code",
   "execution_count": null,
   "outputs": [],
   "source": [],
   "metadata": {
    "collapsed": false
   },
   "id": "a479ddace9f0e378"
  }
 ],
 "metadata": {
  "kernelspec": {
   "display_name": "Python 3",
   "language": "python",
   "name": "python3"
  },
  "language_info": {
   "codemirror_mode": {
    "name": "ipython",
    "version": 2
   },
   "file_extension": ".py",
   "mimetype": "text/x-python",
   "name": "python",
   "nbconvert_exporter": "python",
   "pygments_lexer": "ipython2",
   "version": "2.7.6"
  }
 },
 "nbformat": 4,
 "nbformat_minor": 5
}
