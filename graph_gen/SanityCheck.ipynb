{
 "cells": [
  {
   "cell_type": "code",
   "execution_count": 1,
   "outputs": [],
   "source": [
    "import json\n",
    "\n",
    "import numpy as np\n",
    "import pandas as pd"
   ],
   "metadata": {
    "collapsed": false,
    "ExecuteTime": {
     "end_time": "2023-11-15T09:42:01.265398Z",
     "start_time": "2023-11-15T09:42:01.041065Z"
    }
   },
   "id": "2a3ff5fb8b98494d"
  },
  {
   "cell_type": "code",
   "execution_count": null,
   "outputs": [],
   "source": [
    "with open('../data/source/events-00001.json', \"r\") as file:\n",
    "    file = json.load(file)"
   ],
   "metadata": {
    "collapsed": false
   },
   "id": "fa5d9b16a97ae72c"
  },
  {
   "cell_type": "code",
   "execution_count": 4,
   "outputs": [],
   "source": [
    "events = set()\n",
    "concepts = set()\n",
    "counts = []\n",
    "\n",
    "for event in file:\n",
    "    events.add(event['info']['uri'])\n",
    "    counts.append(event['info']['articleCounts']['total'])\n",
    "    # for similar_event in event['similarEvents']['similarEvents']:\n",
    "    #     events.add(similar_event['uri'])\n",
    "    for concept in event['info']['concepts']:\n",
    "        concepts.add(concept['uri'])"
   ],
   "metadata": {
    "collapsed": false,
    "ExecuteTime": {
     "end_time": "2023-11-14T19:35:50.577415Z",
     "start_time": "2023-11-14T19:35:50.565070Z"
    }
   },
   "id": "84e262bca8af7f59"
  },
  {
   "cell_type": "code",
   "execution_count": 5,
   "outputs": [
    {
     "data": {
      "text/plain": "1000"
     },
     "execution_count": 5,
     "metadata": {},
     "output_type": "execute_result"
    }
   ],
   "source": [
    "len(events)"
   ],
   "metadata": {
    "collapsed": false,
    "ExecuteTime": {
     "end_time": "2023-11-14T19:35:51.350159Z",
     "start_time": "2023-11-14T19:35:51.335443Z"
    }
   },
   "id": "3bf7bc880093a692"
  },
  {
   "cell_type": "code",
   "execution_count": 6,
   "outputs": [
    {
     "data": {
      "text/plain": "8729"
     },
     "execution_count": 6,
     "metadata": {},
     "output_type": "execute_result"
    }
   ],
   "source": [
    "len(concepts)"
   ],
   "metadata": {
    "collapsed": false,
    "ExecuteTime": {
     "end_time": "2023-11-14T19:35:52.095926Z",
     "start_time": "2023-11-14T19:35:52.086351Z"
    }
   },
   "id": "1472754a97728bff"
  },
  {
   "cell_type": "code",
   "execution_count": 52,
   "outputs": [],
   "source": [
    "counts = np.array(counts)"
   ],
   "metadata": {
    "collapsed": false,
    "ExecuteTime": {
     "end_time": "2023-11-14T20:42:45.071841Z",
     "start_time": "2023-11-14T20:42:44.889802Z"
    }
   },
   "id": "f3c2525667cc85ef"
  },
  {
   "cell_type": "code",
   "execution_count": 54,
   "outputs": [
    {
     "data": {
      "text/plain": "(608,)"
     },
     "execution_count": 54,
     "metadata": {},
     "output_type": "execute_result"
    }
   ],
   "source": [
    "counts[counts > 0].shape"
   ],
   "metadata": {
    "collapsed": false,
    "ExecuteTime": {
     "end_time": "2023-11-14T20:43:00.641433Z",
     "start_time": "2023-11-14T20:43:00.479226Z"
    }
   },
   "id": "6cb1256728f0fc30"
  },
  {
   "cell_type": "code",
   "execution_count": 53,
   "outputs": [
    {
     "data": {
      "text/plain": "(array([  1,   2,   3,   4,   5,   6,   7,   8,   9,  10,  11,  12,  13,\n         14,  15,  16,  17,  18,  19,  20,  21,  22,  23,  24,  25,  26,\n         27,  28,  29,  30,  31,  32,  33,  35,  37,  39,  40,  45,  46,\n         48,  51,  52,  56,  57,  58,  60,  62,  69,  79,  89,  92,  94,\n        100, 111, 121, 122, 123, 131, 137, 141, 144, 150, 152, 164, 170,\n        186, 221, 233, 313, 335, 394, 431, 447, 607]),\n array([97, 61, 44, 41, 38, 37, 33, 19, 30, 21, 25, 22, 16, 12,  6,  4,  7,\n         4,  3,  7,  1,  5,  2,  4,  2,  2,  4,  1,  1,  1,  3,  2,  3,  3,\n         4,  1,  1,  1,  1,  2,  1,  1,  1,  1,  1,  1,  3,  2,  1,  1,  1,\n         1,  1,  1,  1,  1,  1,  1,  1,  1,  1,  1,  1,  1,  1,  1,  1,  1,\n         1,  1,  1,  1,  1,  1]))"
     },
     "execution_count": 53,
     "metadata": {},
     "output_type": "execute_result"
    }
   ],
   "source": [
    "np.unique(counts[counts > 0], return_counts=True)"
   ],
   "metadata": {
    "collapsed": false,
    "ExecuteTime": {
     "end_time": "2023-11-14T20:42:45.641201Z",
     "start_time": "2023-11-14T20:42:45.636879Z"
    }
   },
   "id": "6b5d7785d1105655"
  },
  {
   "cell_type": "code",
   "execution_count": null,
   "outputs": [],
   "source": [],
   "metadata": {
    "collapsed": false
   },
   "id": "94e893255a941318"
  },
  {
   "cell_type": "markdown",
   "source": [
    "# Preprocessed"
   ],
   "metadata": {
    "collapsed": false
   },
   "id": "576c07b505fd0e90"
  },
  {
   "cell_type": "code",
   "execution_count": null,
   "outputs": [],
   "source": [
    "import pickle\n",
    "\n",
    "with open('../data/graphs/events.pkl', 'rb') as file:\n",
    "    events = pickle.load(file)"
   ],
   "metadata": {
    "collapsed": false
   },
   "id": "a479ddace9f0e378"
  }
 ],
 "metadata": {
  "kernelspec": {
   "display_name": "Python 3",
   "language": "python",
   "name": "python3"
  },
  "language_info": {
   "codemirror_mode": {
    "name": "ipython",
    "version": 2
   },
   "file_extension": ".py",
   "mimetype": "text/x-python",
   "name": "python",
   "nbconvert_exporter": "python",
   "pygments_lexer": "ipython2",
   "version": "2.7.6"
  }
 },
 "nbformat": 4,
 "nbformat_minor": 5
}
