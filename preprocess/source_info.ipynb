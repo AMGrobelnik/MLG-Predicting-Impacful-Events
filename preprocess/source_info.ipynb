{
 "cells": [
  {
   "cell_type": "code",
   "execution_count": 12,
   "id": "initial_id",
   "metadata": {
    "collapsed": true,
    "ExecuteTime": {
     "end_time": "2024-02-28T10:45:05.475667Z",
     "start_time": "2024-02-28T10:45:05.469827Z"
    }
   },
   "outputs": [],
   "source": [
    "from util.iterate_files import iterate_files\n",
    "import os.path as path"
   ]
  },
  {
   "cell_type": "code",
   "outputs": [],
   "source": [
    "def get_data_info(dir, n):\n",
    "    n_events = 0\n",
    "    locations = []\n",
    "    langs = {}\n",
    "    counts = {}\n",
    "    \n",
    "    def add_entry(d, key, value):\n",
    "        if key in d:\n",
    "            d[key] += value\n",
    "        else:\n",
    "            d[key] = value\n",
    "    \n",
    "    def get_info(file_name, df):\n",
    "        nonlocal n_events, locations, langs, counts\n",
    "        \n",
    "        n_events += len(df)\n",
    "        \n",
    "        for index, row in df.iterrows():\n",
    "            articleCounts = row['info']['articleCounts']\n",
    "            multiling = row['info']['multiLingInfo']\n",
    "            location = row['info']['location'] if 'location' in row['info'] else None\n",
    "            \n",
    "            if location is not None:\n",
    "                if 'labelEng' in location:\n",
    "                    locations.append(location['labelEng'])\n",
    "                else:\n",
    "                    print(location)\n",
    "            \n",
    "            for lang in articleCounts.keys():\n",
    "                add_entry(counts, lang, articleCounts[lang])\n",
    "                \n",
    "            for lang in multiling.keys():\n",
    "                add_entry(langs, lang, 1)\n",
    "            \n",
    "    iterate_files(get_info, dir, n)\n",
    "    \n",
    "    return {\n",
    "        'locations': set(locations),\n",
    "        'langs': langs,\n",
    "        'counts': counts\n",
    "    }"
   ],
   "metadata": {
    "collapsed": false,
    "ExecuteTime": {
     "end_time": "2024-02-28T10:56:41.134463Z",
     "start_time": "2024-02-28T10:56:41.127058Z"
    }
   },
   "id": "d60c4339adcf22df",
   "execution_count": 44
  },
  {
   "cell_type": "code",
   "outputs": [
    {
     "name": "stderr",
     "output_type": "stream",
     "text": [
      "Processing:  80%|█████████████████████████████████████▍         | 2346/2944 [01:34<00:24, 24.78it/s]\n"
     ]
    },
    {
     "ename": "KeyError",
     "evalue": "'labelEng'",
     "output_type": "error",
     "traceback": [
      "\u001B[0;31m---------------------------------------------------------------------------\u001B[0m",
      "\u001B[0;31mKeyError\u001B[0m                                  Traceback (most recent call last)",
      "Cell \u001B[0;32mIn[47], line 2\u001B[0m\n\u001B[1;32m      1\u001B[0m dir_path \u001B[38;5;241m=\u001B[39m path\u001B[38;5;241m.\u001B[39mabspath(\u001B[38;5;124m\"\u001B[39m\u001B[38;5;124m../data/preprocessed\u001B[39m\u001B[38;5;124m\"\u001B[39m)\n\u001B[0;32m----> 2\u001B[0m data \u001B[38;5;241m=\u001B[39m \u001B[43mget_data_info\u001B[49m\u001B[43m(\u001B[49m\u001B[43mdir_path\u001B[49m\u001B[43m,\u001B[49m\u001B[43m \u001B[49m\u001B[38;5;241;43m3000\u001B[39;49m\u001B[43m)\u001B[49m\n",
      "Cell \u001B[0;32mIn[44], line 28\u001B[0m, in \u001B[0;36mget_data_info\u001B[0;34m(dir, n)\u001B[0m\n\u001B[1;32m     25\u001B[0m         \u001B[38;5;28;01mfor\u001B[39;00m lang \u001B[38;5;129;01min\u001B[39;00m multiling\u001B[38;5;241m.\u001B[39mkeys():\n\u001B[1;32m     26\u001B[0m             add_entry(langs, lang, \u001B[38;5;241m1\u001B[39m)\n\u001B[0;32m---> 28\u001B[0m \u001B[43miterate_files\u001B[49m\u001B[43m(\u001B[49m\u001B[43mget_info\u001B[49m\u001B[43m,\u001B[49m\u001B[43m \u001B[49m\u001B[38;5;28;43mdir\u001B[39;49m\u001B[43m,\u001B[49m\u001B[43m \u001B[49m\u001B[43mn\u001B[49m\u001B[43m)\u001B[49m\n\u001B[1;32m     30\u001B[0m \u001B[38;5;28;01mreturn\u001B[39;00m {\n\u001B[1;32m     31\u001B[0m     \u001B[38;5;124m'\u001B[39m\u001B[38;5;124mlocations\u001B[39m\u001B[38;5;124m'\u001B[39m: \u001B[38;5;28mset\u001B[39m(locations),\n\u001B[1;32m     32\u001B[0m     \u001B[38;5;124m'\u001B[39m\u001B[38;5;124mlangs\u001B[39m\u001B[38;5;124m'\u001B[39m: langs,\n\u001B[1;32m     33\u001B[0m     \u001B[38;5;124m'\u001B[39m\u001B[38;5;124mcounts\u001B[39m\u001B[38;5;124m'\u001B[39m: counts\n\u001B[1;32m     34\u001B[0m }\n",
      "File \u001B[0;32m~/PycharmProjects/MLG/preprocess/util/iterate_files.py:24\u001B[0m, in \u001B[0;36miterate_files\u001B[0;34m(action, directory_path, n)\u001B[0m\n\u001B[1;32m     21\u001B[0m file_name \u001B[38;5;241m=\u001B[39m os\u001B[38;5;241m.\u001B[39mpath\u001B[38;5;241m.\u001B[39msplitext(filename)[\u001B[38;5;241m0\u001B[39m]\n\u001B[1;32m     23\u001B[0m df \u001B[38;5;241m=\u001B[39m pd\u001B[38;5;241m.\u001B[39mread_pickle(file_path)\n\u001B[0;32m---> 24\u001B[0m \u001B[43maction\u001B[49m\u001B[43m(\u001B[49m\u001B[43mfile_name\u001B[49m\u001B[43m,\u001B[49m\u001B[43m \u001B[49m\u001B[43mdf\u001B[49m\u001B[43m)\u001B[49m\n",
      "Cell \u001B[0;32mIn[44], line 20\u001B[0m, in \u001B[0;36mget_data_info.<locals>.get_info\u001B[0;34m(file_name, df)\u001B[0m\n\u001B[1;32m     17\u001B[0m location \u001B[38;5;241m=\u001B[39m row[\u001B[38;5;124m'\u001B[39m\u001B[38;5;124minfo\u001B[39m\u001B[38;5;124m'\u001B[39m][\u001B[38;5;124m'\u001B[39m\u001B[38;5;124mlocation\u001B[39m\u001B[38;5;124m'\u001B[39m] \u001B[38;5;28;01mif\u001B[39;00m \u001B[38;5;124m'\u001B[39m\u001B[38;5;124mlocation\u001B[39m\u001B[38;5;124m'\u001B[39m \u001B[38;5;129;01min\u001B[39;00m row[\u001B[38;5;124m'\u001B[39m\u001B[38;5;124minfo\u001B[39m\u001B[38;5;124m'\u001B[39m] \u001B[38;5;28;01melse\u001B[39;00m \u001B[38;5;28;01mNone\u001B[39;00m\n\u001B[1;32m     19\u001B[0m \u001B[38;5;28;01mif\u001B[39;00m location \u001B[38;5;129;01mis\u001B[39;00m \u001B[38;5;129;01mnot\u001B[39;00m \u001B[38;5;28;01mNone\u001B[39;00m:\n\u001B[0;32m---> 20\u001B[0m     locations\u001B[38;5;241m.\u001B[39mappend(\u001B[43mlocation\u001B[49m\u001B[43m[\u001B[49m\u001B[38;5;124;43m'\u001B[39;49m\u001B[38;5;124;43mlabelEng\u001B[39;49m\u001B[38;5;124;43m'\u001B[39;49m\u001B[43m]\u001B[49m)\n\u001B[1;32m     22\u001B[0m \u001B[38;5;28;01mfor\u001B[39;00m lang \u001B[38;5;129;01min\u001B[39;00m articleCounts\u001B[38;5;241m.\u001B[39mkeys():\n\u001B[1;32m     23\u001B[0m     add_entry(counts, lang, articleCounts[lang])\n",
      "\u001B[0;31mKeyError\u001B[0m: 'labelEng'"
     ]
    }
   ],
   "source": [
    "dir_path = path.abspath(\"../data/preprocessed\")\n",
    "data = get_data_info(dir_path, 3000)"
   ],
   "metadata": {
    "collapsed": false,
    "ExecuteTime": {
     "end_time": "2024-02-28T10:58:33.356048Z",
     "start_time": "2024-02-28T10:56:58.588899Z"
    }
   },
   "id": "2473c7b7fa5d2a99",
   "execution_count": 47
  },
  {
   "cell_type": "code",
   "outputs": [
    {
     "data": {
      "text/plain": "{'locations': {'Afghanistan',\n  'Angola',\n  'Argentina',\n  'Armenia',\n  'Australia',\n  'Austria',\n  'Azerbaijan',\n  'Bahrain',\n  'Belarus',\n  'Belgium',\n  'Bolivia',\n  'Brazil',\n  'Bulgaria',\n  'Burma',\n  'Canada',\n  'Central African Republic',\n  'Chile',\n  'China',\n  'Colombia',\n  'Cuba',\n  'Cyprus',\n  'Czech Republic',\n  'Denmark',\n  'Dominican Republic',\n  'Ecuador',\n  'Egypt',\n  'El Salvador',\n  'Finland',\n  'France',\n  'French Guiana',\n  'Germany',\n  'Ghana',\n  'Greece',\n  'Grenada',\n  'Honduras',\n  'Hong Kong',\n  'Iceland',\n  'India',\n  'Indonesia',\n  'Iran',\n  'Israel',\n  'Italy',\n  'Jamaica',\n  'Japan',\n  'Jordan',\n  'Kenya',\n  'Kiev',\n  'Kyrgyzstan',\n  'Lebanon',\n  'Libya',\n  'Liechtenstein',\n  'Luxembourg',\n  'Madagascar',\n  'Malawi',\n  'Mesopotamia',\n  'Mexico',\n  'Monaco',\n  'Morocco',\n  'Mozambique',\n  'Nepal',\n  'Netherlands',\n  'New Zealand',\n  'Nicaragua',\n  'Nigeria',\n  'North Korea',\n  'Norway',\n  'Pakistan',\n  'Palestine',\n  'Paraguay',\n  'Peru',\n  'Philippines',\n  'Poland',\n  'Portugal',\n  'Puerto Rico',\n  'Qatar',\n  'Republic of Ireland',\n  'Romania',\n  'Russia',\n  'Saudi Arabia',\n  'Senegal',\n  'Serbia',\n  'Singapore',\n  'Somalia',\n  'South Africa',\n  'South Sudan',\n  'Spain',\n  'Sudan',\n  'Sweden',\n  'Switzerland',\n  'Syria',\n  'Tajikistan',\n  'Thailand',\n  'Tunisia',\n  'Turkey',\n  'Uganda',\n  'Ukraine',\n  'United Arab Emirates',\n  'United Kingdom',\n  'United States',\n  'Uruguay',\n  'Vatican City',\n  'Venezuela',\n  'Vietnam'},\n 'langs': {'eng': 1859, 'spa': 2271, 'zho': 1312, 'deu': 1979},\n 'counts': {'total': 86720,\n  'eng': 39186,\n  'spa': 19127,\n  'zho': 10587,\n  'deu': 17820}}"
     },
     "execution_count": 48,
     "metadata": {},
     "output_type": "execute_result"
    }
   ],
   "source": [
    "data"
   ],
   "metadata": {
    "collapsed": false,
    "ExecuteTime": {
     "end_time": "2024-02-28T10:58:38.330359Z",
     "start_time": "2024-02-28T10:58:38.324851Z"
    }
   },
   "id": "d3aec1b8281ac4f1",
   "execution_count": 48
  },
  {
   "cell_type": "code",
   "outputs": [],
   "source": [],
   "metadata": {
    "collapsed": false
   },
   "id": "98ed1cef322a612b"
  }
 ],
 "metadata": {
  "kernelspec": {
   "display_name": "Python 3",
   "language": "python",
   "name": "python3"
  },
  "language_info": {
   "codemirror_mode": {
    "name": "ipython",
    "version": 2
   },
   "file_extension": ".py",
   "mimetype": "text/x-python",
   "name": "python",
   "nbconvert_exporter": "python",
   "pygments_lexer": "ipython2",
   "version": "2.7.6"
  }
 },
 "nbformat": 4,
 "nbformat_minor": 5
}
