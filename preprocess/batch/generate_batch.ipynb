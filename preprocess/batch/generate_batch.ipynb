{
 "cells": [
  {
   "cell_type": "code",
   "execution_count": 68,
   "metadata": {},
   "outputs": [],
   "source": [
    "import pickle\n",
    "import os\n",
    "import networkx as nx\n",
    "import walker as w\n",
    "from tqdm import tqdm\n",
    "import numpy as np"
   ]
  },
  {
   "cell_type": "code",
   "execution_count": 2,
   "metadata": {},
   "outputs": [],
   "source": [
    "with open('../../data/graphs/3000_similar_noUnknown_noFutureThr2_noIsolates.pkl', 'rb') as f:\n",
    "    G = pickle.load(f)"
   ]
  },
  {
   "cell_type": "code",
   "execution_count": 3,
   "metadata": {},
   "outputs": [],
   "source": [
    "# with open('../../data/batch/B_random_10.pkl', 'rb') as f:\n",
    "#     B_random = pickle.load(f)\n",
    "with open('../../data/batch/B_recent_10.pkl', 'rb') as f:\n",
    "    B_recent = pickle.load(f)"
   ]
  },
  {
   "cell_type": "code",
   "execution_count": 252,
   "metadata": {},
   "outputs": [],
   "source": [
    "nodes = list(G.nodes())"
   ]
  },
  {
   "cell_type": "code",
   "execution_count": 4,
   "metadata": {},
   "outputs": [],
   "source": [
    "G = G.reverse(copy=False)\n",
    "nodes = list(G.nodes())"
   ]
  },
  {
   "cell_type": "code",
   "execution_count": 27,
   "metadata": {},
   "outputs": [],
   "source": [
    "def ids_to_indices(file_ids, nodes):\n",
    "    index_map = {node: i for i, node in enumerate(nodes)}\n",
    "    index_map_keys = set(index_map.keys())\n",
    "    \n",
    "    indices = []\n",
    "    for file, ids in file_ids.items():\n",
    "        for id in ids:\n",
    "            if id in index_map_keys:\n",
    "                indices.append(index_map[id])\n",
    "    return indices\n"
   ]
  },
  {
   "cell_type": "code",
   "execution_count": 28,
   "metadata": {},
   "outputs": [],
   "source": [
    "B_recent_idx = ids_to_indices(B_recent, nodes)\n",
    "# B_random_idx = ids_to_indices(B_random)"
   ]
  },
  {
   "cell_type": "code",
   "execution_count": 76,
   "metadata": {},
   "outputs": [
    {
     "name": "stdout",
     "output_type": "stream",
     "text": [
      "Random walks - T=94.34s\n"
     ]
    }
   ],
   "source": [
    "walks = w.random_walks(G, n_walks=50, walk_len=5, start_nodes=B_recent_idx)"
   ]
  },
  {
   "cell_type": "code",
   "execution_count": 77,
   "metadata": {},
   "outputs": [
    {
     "data": {
      "text/plain": [
       "array([[ 146871,  146871,  146871,  146871,  146871],\n",
       "       [ 117538,  117538,  117538,  117538,  117538],\n",
       "       [ 453162,  453162,  453162,  453162,  453162],\n",
       "       ...,\n",
       "       [1725122, 1725122, 1725122, 1725122, 1725122],\n",
       "       [1971346, 1971346, 1971346, 1971346, 1971346],\n",
       "       [ 892640,  892640,  892640,  892640,  892640]], dtype=uint32)"
      ]
     },
     "execution_count": 77,
     "metadata": {},
     "output_type": "execute_result"
    }
   ],
   "source": [
    "walks"
   ]
  },
  {
   "cell_type": "code",
   "execution_count": 81,
   "metadata": {},
   "outputs": [],
   "source": [
    "#unique_walks = [walk for walk in walks if not np.all(np.isclose(walk, walk[0]))]\n",
    "unique_walks = walks[~np.all(walks == walks[:,[0]], axis=1)]"
   ]
  },
  {
   "cell_type": "code",
   "execution_count": null,
   "metadata": {},
   "outputs": [],
   "source": [
    "# filter out walks with less than "
   ]
  },
  {
   "cell_type": "code",
   "execution_count": 82,
   "metadata": {},
   "outputs": [
    {
     "data": {
      "text/plain": [
       "(11126150, 9268300)"
      ]
     },
     "execution_count": 82,
     "metadata": {},
     "output_type": "execute_result"
    }
   ],
   "source": [
    "len(walks), len(unique_walks)"
   ]
  },
  {
   "cell_type": "code",
   "execution_count": 97,
   "metadata": {},
   "outputs": [],
   "source": [
    "# group walks by first node\n",
    "\n",
    "from collections import defaultdict\n",
    "walks_by_start = defaultdict(list)\n",
    "\n",
    "for row in unique_walks:\n",
    "    walks_by_start[row[0]].append(row)\n",
    "    \n",
    "for key in walks_by_start:\n",
    "    walks_by_start[key] = np.array(walks_by_start[key])\n",
    "    "
   ]
  },
  {
   "cell_type": "code",
   "execution_count": 98,
   "metadata": {},
   "outputs": [],
   "source": [
    "for key, walk_nodes in walks_by_start.items():\n",
    "    # flatten nodes\n",
    "    walk_nodes = walk_nodes.flatten()\n",
    "    ids = set(nodes)\n",
    "    # remove start node\n",
    "    ids.remove(key)\n",
    "    \n",
    "    walks_by_start[key] = ids"
   ]
  },
  {
   "cell_type": "code",
   "execution_count": 99,
   "metadata": {},
   "outputs": [],
   "source": [
    "counts = []\n",
    "for key, walk_nodes in walks_by_start.items():\n",
    "    counts.append(len(walk_nodes))"
   ]
  },
  {
   "cell_type": "code",
   "execution_count": 100,
   "metadata": {},
   "outputs": [
    {
     "data": {
      "image/png": "[encoded data removed]",
      "text/plain": [
       "<Figure size 640x480 with 1 Axes>"
      ]
     },
     "metadata": {},
     "output_type": "display_data"
    }
   ],
   "source": [
    "# plot distribution of counts\n",
    "import matplotlib.pyplot as plt\n",
    "plt.hist(counts, bins=100)\n",
    "plt.show()"
   ]
  },
  {
   "cell_type": "code",
   "execution_count": 105,
   "metadata": {},
   "outputs": [],
   "source": [
    "# filter out nodes with less than 10 neighbors\n",
    "walks_by_start = {key: nodes for key, nodes in walks_by_start.items() if len(nodes) >= 10}"
   ]
  },
  {
   "cell_type": "code",
   "execution_count": 106,
   "metadata": {},
   "outputs": [],
   "source": [
    "counts = []\n",
    "for key, walk_nodes in walks_by_start.items():\n",
    "    counts.append(len(walk_nodes))"
   ]
  },
  {
   "cell_type": "code",
   "execution_count": 107,
   "metadata": {},
   "outputs": [
    {
     "data": {
      "text/plain": [
       "(124282, 32.80029288231602, 29.0, 10, 140)"
      ]
     },
     "execution_count": 107,
     "metadata": {},
     "output_type": "execute_result"
    }
   ],
   "source": [
    "len(counts), np.average(counts), np.median(counts), np.min(counts), np.max(counts)"
   ]
  },
  {
   "cell_type": "code",
   "execution_count": 108,
   "metadata": {},
   "outputs": [],
   "source": [
    "target_nodes = walks_by_start.keys()"
   ]
  },
  {
   "cell_type": "code",
   "execution_count": 124,
   "metadata": {},
   "outputs": [],
   "source": [
    "# errors = []\n",
    "# for node in (pbar := tqdm(target_nodes)):\n",
    "#     # check if the target node appears in any of the walks\n",
    "#     for key, walk in walks_by_start.items():\n",
    "#         if node == key:\n",
    "#             continue\n",
    "#         if node in walk:\n",
    "#             errors.append((node, key))\n",
    "#             pbar.set_description(f'Found errors: {len(errors)}')\n",
    "        "
   ]
  },
  {
   "cell_type": "code",
   "execution_count": 143,
   "metadata": {},
   "outputs": [],
   "source": [
    "def merge_khops(ids, walks_by_start):\n",
    "    merged = []\n",
    "    # deep copy ids\n",
    "    ids = ids.copy()\n",
    "    \n",
    "    errs = 0\n",
    "    # randomly pick two ids to merge\n",
    "    for _ in (pbar := tqdm(range(len(ids) // 2))):\n",
    "        idx1, idx2 = np.random.choice(len(ids), 2, replace=False)\n",
    "        id1, id2 = ids[idx1], ids[idx2]\n",
    "        \n",
    "        khop1 = walks_by_start[id1]\n",
    "        khop2 = walks_by_start[id2]\n",
    "        \n",
    "        overlap = False\n",
    "        # check if one id is in the other's khop\n",
    "        for i, k in ([id1, khop2], [id2, khop1]):\n",
    "            if i in k:\n",
    "                # dont merge\n",
    "                overlap = True\n",
    "                continue\n",
    "        if overlap:\n",
    "            errs += 1\n",
    "            pbar.set_description(f'Found errors: {errs}')\n",
    "            continue\n",
    "            \n",
    "        # merge\n",
    "        merged.append((id1, id2))\n",
    "        \n",
    "        # remove merged ids\n",
    "        ids.remove(id1)\n",
    "        ids.remove(id2)\n",
    "    \n",
    "    return merged, ids"
   ]
  },
  {
   "cell_type": "code",
   "execution_count": 145,
   "metadata": {},
   "outputs": [
    {
     "name": "stderr",
     "output_type": "stream",
     "text": [
      "Found errors: 5: 100%|██████████| 62141/62141 [02:34<00:00, 401.01it/s] \n"
     ]
    }
   ],
   "source": [
    "merged, ids = merge_khops(list(walks_by_start.keys()), walks_by_start)"
   ]
  },
  {
   "cell_type": "code",
   "execution_count": 147,
   "metadata": {},
   "outputs": [
    {
     "name": "stderr",
     "output_type": "stream",
     "text": [
      "100%|██████████| 5/5 [00:00<?, ?it/s]\n"
     ]
    },
    {
     "data": {
      "text/plain": [
       "(5, 0)"
      ]
     },
     "execution_count": 147,
     "metadata": {},
     "output_type": "execute_result"
    }
   ],
   "source": [
    "merged2, ids2 = merge_khops(ids, walks_by_start)\n",
    "len(merged2), len(ids2)"
   ]
  },
  {
   "cell_type": "code",
   "execution_count": 150,
   "metadata": {},
   "outputs": [],
   "source": [
    "# append merged ids to walks_by_start\n",
    "merged = merged + merged2"
   ]
  },
  {
   "cell_type": "code",
   "execution_count": 151,
   "metadata": {},
   "outputs": [],
   "source": [
    "def merge_merged(walks_by_start, merged):\n",
    "    merged = merged.copy() # array of tuples\n",
    "    merged_merged = []\n",
    "    errs = 0\n",
    "    for _ in (pbar := tqdm(range(len(merged) // 2))):\n",
    "        idx1, idx2 = np.random.choice(len(merged), 2, replace=False)\n",
    "        ids1, ids2 = merged[idx1], merged[idx2]\n",
    "        \n",
    "        err = False\n",
    "        for id1 in ids1:\n",
    "            khop1 = walks_by_start[id1]\n",
    "            for id2 in ids2:\n",
    "                khop2 = walks_by_start[id2]\n",
    "                \n",
    "                if id1 in khop2 or id2 in khop1:\n",
    "                    errs += 1\n",
    "                    pbar.set_description(f'Found errors: {errs}')\n",
    "                    err = True\n",
    "                    break\n",
    "            if err:\n",
    "                break\n",
    "            \n",
    "        if err:\n",
    "            continue\n",
    "        \n",
    "        # merge\n",
    "        ids = ids1 + ids2\n",
    "        merged_merged.append(ids)\n",
    "        \n",
    "        # remove merged idx from merged\n",
    "        merged.remove(ids1)\n",
    "        merged.remove(ids2)\n",
    "        \n",
    "    return merged_merged, merged\n",
    "        "
   ]
  },
  {
   "cell_type": "code",
   "execution_count": 152,
   "metadata": {},
   "outputs": [
    {
     "name": "stderr",
     "output_type": "stream",
     "text": [
      "Found errors: 20: 100%|██████████| 31070/31070 [01:45<00:00, 295.59it/s] \n"
     ]
    }
   ],
   "source": [
    "merged_merged, not_merged = merge_merged(walks_by_start, merged)"
   ]
  },
  {
   "cell_type": "code",
   "execution_count": 153,
   "metadata": {},
   "outputs": [
    {
     "data": {
      "text/plain": [
       "(31050, 41)"
      ]
     },
     "execution_count": 153,
     "metadata": {},
     "output_type": "execute_result"
    }
   ],
   "source": [
    "len(merged_merged), len(not_merged)"
   ]
  },
  {
   "cell_type": "code",
   "execution_count": 154,
   "metadata": {},
   "outputs": [
    {
     "name": "stderr",
     "output_type": "stream",
     "text": [
      "100%|██████████| 20/20 [00:00<00:00, 20882.77it/s]\n"
     ]
    }
   ],
   "source": [
    "merged_merged2, not_merged2 = merge_merged(walks_by_start, not_merged)"
   ]
  },
  {
   "cell_type": "code",
   "execution_count": 155,
   "metadata": {},
   "outputs": [],
   "source": [
    "merged_merged = merged_merged + merged_merged2"
   ]
  },
  {
   "cell_type": "code",
   "execution_count": 159,
   "metadata": {},
   "outputs": [
    {
     "name": "stderr",
     "output_type": "stream",
     "text": [
      "Found errors: 34: 100%|██████████| 15535/15535 [00:17<00:00, 867.91it/s] \n"
     ]
    }
   ],
   "source": [
    "m3, not_merged3 = merge_merged(walks_by_start, merged_merged)"
   ]
  },
  {
   "cell_type": "code",
   "execution_count": 161,
   "metadata": {},
   "outputs": [
    {
     "name": "stderr",
     "output_type": "stream",
     "text": [
      "100%|██████████| 34/34 [00:00<00:00, 11451.56it/s]\n"
     ]
    }
   ],
   "source": [
    "m3_2, not_merged3_2 = merge_merged(walks_by_start, not_merged3)"
   ]
  },
  {
   "cell_type": "code",
   "execution_count": 163,
   "metadata": {},
   "outputs": [],
   "source": [
    "m3 = m3 + m3_2"
   ]
  },
  {
   "cell_type": "code",
   "execution_count": 165,
   "metadata": {},
   "outputs": [
    {
     "name": "stderr",
     "output_type": "stream",
     "text": [
      "Found errors: 89: 100%|██████████| 7767/7767 [00:04<00:00, 1573.61it/s]\n"
     ]
    }
   ],
   "source": [
    "m4, not_merged4 = merge_merged(walks_by_start, m3)"
   ]
  },
  {
   "cell_type": "code",
   "execution_count": 167,
   "metadata": {},
   "outputs": [
    {
     "name": "stderr",
     "output_type": "stream",
     "text": [
      "100%|██████████| 89/89 [00:00<00:00, 17786.02it/s]\n"
     ]
    }
   ],
   "source": [
    "m4_2, not_merged4_2 = merge_merged(walks_by_start, not_merged4)"
   ]
  },
  {
   "cell_type": "code",
   "execution_count": 168,
   "metadata": {},
   "outputs": [],
   "source": [
    "m4 = m4 + m4_2"
   ]
  },
  {
   "cell_type": "code",
   "execution_count": 178,
   "metadata": {},
   "outputs": [],
   "source": [
    "def idx_to_id(idx):\n",
    "    # idx is a single index or an array of indices\n",
    "    if isinstance(idx, int):\n",
    "        return nodes[idx]\n",
    "    else:\n",
    "        return [nodes[i] for i in idx]\n",
    "\n",
    "def merge_khops(merged_ids, walks_by_start):\n",
    "    merged = []\n",
    "    for ids in merged_ids:\n",
    "        khop_ids = set()\n",
    "        for id in ids:\n",
    "            khop = list(walks_by_start[id])\n",
    "            khop_ids.update(idx_to_id(khop))\n",
    "        \n",
    "        merged.append((idx_to_id(ids), khop_ids))\n",
    "        \n",
    "    return merged"
   ]
  },
  {
   "cell_type": "code",
   "execution_count": 179,
   "metadata": {},
   "outputs": [],
   "source": [
    "merged_khops = merge_khops(m4, walks_by_start)"
   ]
  },
  {
   "cell_type": "code",
   "execution_count": 189,
   "metadata": {},
   "outputs": [],
   "source": [
    "counts = []\n",
    "for khop_ids, khop in merged_khops:\n",
    "    counts.append(len(set(khop)))"
   ]
  },
  {
   "cell_type": "code",
   "execution_count": 191,
   "metadata": {},
   "outputs": [
    {
     "data": {
      "text/plain": [
       "(521.8654564181795, 519.0, 295, 877)"
      ]
     },
     "execution_count": 191,
     "metadata": {},
     "output_type": "execute_result"
    }
   ],
   "source": [
    "# average counts (by column)\n",
    "np.average(counts), np.median(counts), np.min(counts), np.max(counts)"
   ]
  },
  {
   "cell_type": "code",
   "execution_count": 187,
   "metadata": {},
   "outputs": [],
   "source": [
    "# save merged khops\n",
    "with open('../../data/batch/B_recent_10_merged_khops.pkl', 'wb') as f:\n",
    "    pickle.dump(merged_khops, f)"
   ]
  },
  {
   "cell_type": "code",
   "execution_count": 245,
   "metadata": {},
   "outputs": [
    {
     "name": "stderr",
     "output_type": "stream",
     "text": [
      "Found errors: 172: 100%|██████████| 3883/3883 [00:01<00:00, 2131.96it/s]\n"
     ]
    }
   ],
   "source": [
    "m5, not_merged5 = merge_merged(walks_by_start, m4)"
   ]
  },
  {
   "cell_type": "code",
   "execution_count": 246,
   "metadata": {},
   "outputs": [
    {
     "name": "stderr",
     "output_type": "stream",
     "text": [
      "Found errors: 8: 100%|██████████| 172/172 [00:00<00:00, 4082.44it/s]\n"
     ]
    }
   ],
   "source": [
    "m5_2, not_merged5_2 = merge_merged(walks_by_start, not_merged5)"
   ]
  },
  {
   "cell_type": "code",
   "execution_count": 247,
   "metadata": {},
   "outputs": [
    {
     "name": "stderr",
     "output_type": "stream",
     "text": [
      "Found errors: 1: 100%|██████████| 8/8 [00:00<00:00, 4001.72it/s]\n"
     ]
    }
   ],
   "source": [
    "m5_3, not_merged5_3 = merge_merged(walks_by_start, not_merged5_2)"
   ]
  },
  {
   "cell_type": "code",
   "execution_count": 248,
   "metadata": {},
   "outputs": [],
   "source": [
    "m5 = m5 + m5_2 + m5_3"
   ]
  },
  {
   "cell_type": "code",
   "execution_count": 250,
   "metadata": {},
   "outputs": [],
   "source": [
    "m5 = m5 + not_merged5_3"
   ]
  },
  {
   "cell_type": "code",
   "execution_count": 254,
   "metadata": {},
   "outputs": [
    {
     "data": {
      "text/plain": [
       "3885"
      ]
     },
     "execution_count": 254,
     "metadata": {},
     "output_type": "execute_result"
    }
   ],
   "source": [
    "len(m5)"
   ]
  },
  {
   "cell_type": "code",
   "execution_count": 253,
   "metadata": {},
   "outputs": [
    {
     "data": {
      "text/plain": [
       "(1037.344658944659, 1033.0, 410, 1461)"
      ]
     },
     "execution_count": 253,
     "metadata": {},
     "output_type": "execute_result"
    }
   ],
   "source": [
    "merge_khops5 = merge_khops(m5, walks_by_start)\n",
    "\n",
    "counts = []\n",
    "for khop_ids, khop in merge_khops5:\n",
    "    counts.append(len(set(khop)))\n",
    "\n",
    "# average counts (by column)\n",
    "np.average(counts), np.median(counts), np.min(counts), np.max(counts)"
   ]
  },
  {
   "cell_type": "code",
   "execution_count": 255,
   "metadata": {},
   "outputs": [],
   "source": [
    "# save merged khops\n",
    "with open('../../data/batch/B_recent_10_merged_khops_1k.pkl', 'wb') as f:\n",
    "    pickle.dump(merge_khops5, f)"
   ]
  },
  {
   "cell_type": "code",
   "execution_count": 257,
   "metadata": {},
   "outputs": [
    {
     "name": "stderr",
     "output_type": "stream",
     "text": [
      "Found errors: 323: 100%|██████████| 1942/1942 [00:01<00:00, 1235.58it/s]\n"
     ]
    }
   ],
   "source": [
    "m6, not_merged6 = merge_merged(walks_by_start, m5)"
   ]
  },
  {
   "cell_type": "code",
   "execution_count": 258,
   "metadata": {},
   "outputs": [
    {
     "name": "stderr",
     "output_type": "stream",
     "text": [
      "Found errors: 65: 100%|██████████| 323/323 [00:00<00:00, 1513.04it/s]\n"
     ]
    }
   ],
   "source": [
    "m6_2, not_merged6_2 = merge_merged(walks_by_start, not_merged6)"
   ]
  },
  {
   "cell_type": "code",
   "execution_count": 259,
   "metadata": {},
   "outputs": [
    {
     "name": "stderr",
     "output_type": "stream",
     "text": [
      "Found errors: 13: 100%|██████████| 65/65 [00:00<00:00, 1114.67it/s]\n"
     ]
    }
   ],
   "source": [
    "m6_3, not_merged6_3 = merge_merged(walks_by_start, not_merged6_2)"
   ]
  },
  {
   "cell_type": "code",
   "execution_count": 260,
   "metadata": {},
   "outputs": [],
   "source": [
    "m6 = m6 + m6_2 + m6_3"
   ]
  },
  {
   "cell_type": "code",
   "execution_count": 261,
   "metadata": {},
   "outputs": [],
   "source": [
    "merged_khops6 = merge_khops(m6, walks_by_start)"
   ]
  },
  {
   "cell_type": "code",
   "execution_count": 262,
   "metadata": {},
   "outputs": [
    {
     "data": {
      "text/plain": [
       "(2050.810264385692, 2048.0, 1366, 2529)"
      ]
     },
     "execution_count": 262,
     "metadata": {},
     "output_type": "execute_result"
    }
   ],
   "source": [
    "counts = []\n",
    "for khop_ids, khop in merged_khops6:\n",
    "    counts.append(len(set(khop)))\n",
    "    \n",
    "# average counts (by column)\n",
    "np.average(counts), np.median(counts), np.min(counts), np.max(counts)"
   ]
  },
  {
   "cell_type": "code",
   "execution_count": 264,
   "metadata": {},
   "outputs": [
    {
     "data": {
      "text/plain": [
       "1929"
      ]
     },
     "execution_count": 264,
     "metadata": {},
     "output_type": "execute_result"
    }
   ],
   "source": [
    "len(counts)"
   ]
  },
  {
   "cell_type": "code",
   "execution_count": 263,
   "metadata": {},
   "outputs": [],
   "source": [
    "# save merged khops\n",
    "with open('../../data/batch/B_recent_10_merged_khops_2k.pkl', 'wb') as f:\n",
    "    pickle.dump(merge_khops5, f)"
   ]
  },
  {
   "cell_type": "code",
   "execution_count": 194,
   "metadata": {},
   "outputs": [],
   "source": [
    "ex_ids = merged_khops[0]\n",
    "ex_targets, ex_khop = ex_ids"
   ]
  },
  {
   "cell_type": "code",
   "execution_count": 195,
   "metadata": {},
   "outputs": [],
   "source": [
    "G = G.reverse(copy=False)"
   ]
  },
  {
   "cell_type": "code",
   "execution_count": 199,
   "metadata": {},
   "outputs": [],
   "source": [
    "ex_subgraph = G.subgraph(list(ex_khop) + ex_targets)"
   ]
  },
  {
   "cell_type": "code",
   "execution_count": 214,
   "metadata": {},
   "outputs": [
    {
     "data": {
      "image/png": "[encoded data removed]",
      "text/plain": [
       "<Figure size 600x600 with 1 Axes>"
      ]
     },
     "metadata": {},
     "output_type": "display_data"
    }
   ],
   "source": [
    "# draw subgraph, drawing the targets in red\n",
    "import matplotlib.pyplot as plt\n",
    "plt.figure(figsize=(6,6))\n",
    "node_color = ['red' if node in ex_targets else 'darkblue' for node in ex_subgraph.nodes()]\n",
    "\n",
    "# Using spring_layout with a higher k value to increase space between nodes\n",
    "pos = nx.spring_layout(ex_subgraph, k=0.1, iterations=45)  # You can adjust k and iterations as needed\n",
    "\n",
    "nx.draw(ex_subgraph, pos, node_color=node_color, with_labels=False, node_size=25, width=0.1)\n",
    "plt.show()"
   ]
  },
  {
   "cell_type": "code",
   "execution_count": 220,
   "metadata": {},
   "outputs": [],
   "source": [
    "def khops_to_subgraph(merged_khops):\n",
    "    subgraphs = []\n",
    "    for targets, khop in tqdm(merged_khops):\n",
    "        subgraph = G.subgraph(list(khop) + targets)\n",
    "        \n",
    "        # add node_type\n",
    "        for node in subgraph.nodes():\n",
    "            if node in targets:\n",
    "                subgraph.nodes[node]['node_type'] = 'event_target'\n",
    "            else:\n",
    "                subgraph.nodes[node]['node_type'] = 'event'\n",
    "        \n",
    "        subgraphs.append(subgraph)\n",
    "    return subgraphs"
   ]
  },
  {
   "cell_type": "code",
   "execution_count": 221,
   "metadata": {},
   "outputs": [
    {
     "name": "stderr",
     "output_type": "stream",
     "text": [
      "100%|██████████| 7767/7767 [00:10<00:00, 755.79it/s]\n"
     ]
    }
   ],
   "source": [
    "subgraphs = khops_to_subgraph(merged_khops)"
   ]
  },
  {
   "cell_type": "code",
   "execution_count": null,
   "metadata": {},
   "outputs": [],
   "source": []
  }
 ],
 "metadata": {
  "kernelspec": {
   "display_name": "mlg",
   "language": "python",
   "name": "python3"
  },
  "language_info": {
   "codemirror_mode": {
    "name": "ipython",
    "version": 3
   },
   "file_extension": ".py",
   "mimetype": "text/x-python",
   "name": "python",
   "nbconvert_exporter": "python",
   "pygments_lexer": "ipython3",
   "version": "3.10.13"
  }
 },
 "nbformat": 4,
 "nbformat_minor": 2
}
