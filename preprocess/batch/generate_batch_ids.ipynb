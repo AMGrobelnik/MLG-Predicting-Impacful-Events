{
 "cells": [
  {
   "cell_type": "code",
   "execution_count": 1,
   "id": "fc95fbf4bb96bb13",
   "metadata": {
    "ExecuteTime": {
     "end_time": "2023-12-09T14:54:17.612514Z",
     "start_time": "2023-12-09T14:54:16.931421Z"
    },
    "collapsed": false,
    "pycharm": {
     "name": "#%%\n"
    }
   },
   "outputs": [],
   "source": [
    "from glob import glob\n",
    "import os\n",
    "import pickle\n",
    "import pandas as pd\n",
    "from tqdm import tqdm\n",
    "import numpy as np\n",
    "import matplotlib.pyplot as plt"
   ]
  },
  {
   "cell_type": "code",
   "execution_count": 2,
   "id": "initial_id",
   "metadata": {
    "ExecuteTime": {
     "end_time": "2023-12-09T14:54:17.617384Z",
     "start_time": "2023-12-09T14:54:17.613239Z"
    },
    "collapsed": true,
    "pycharm": {
     "name": "#%%\n"
    }
   },
   "outputs": [],
   "source": [
    "directory_path = \"../../data/preprocessed\"\n",
    "output_dir = \"../../data/batch\"\n",
    "def iterate_files(action, n=1):\n",
    "    files = sorted(glob(os.path.join(directory_path, \"events-*.pkl\")))\n",
    "    files = files[:n]\n",
    "    \n",
    "    for filename in tqdm(files, ncols=100, desc=\"Processing\"):\n",
    "        file_path = os.path.join(directory_path, filename)\n",
    "        file_name = os.path.splitext(filename)[0]\n",
    "    \n",
    "        df = pd.read_pickle(file_path)\n",
    "        action(file_name, df)"
   ]
  },
  {
   "cell_type": "code",
   "execution_count": 3,
   "id": "a14fb738e66d96e5",
   "metadata": {
    "ExecuteTime": {
     "end_time": "2023-12-06T10:39:53.580729Z",
     "start_time": "2023-12-06T10:39:53.572366Z"
    },
    "collapsed": false,
    "pycharm": {
     "name": "#%%\n"
    }
   },
   "outputs": [],
   "source": [
    "event_dates = []\n",
    "def get_event_date(file_name, df):\n",
    "    # add tuples of (id, date) to event_dates\n",
    "    event_dates.extend([(i, row['info']['eventDate'], row['info']['articleCounts']['total']) for i, row in df.iterrows()])"
   ]
  },
  {
   "cell_type": "code",
   "execution_count": 4,
   "id": "4be9844dcf20536a",
   "metadata": {
    "ExecuteTime": {
     "end_time": "2023-12-06T10:46:27.941223Z",
     "start_time": "2023-12-06T10:44:37.147184Z"
    },
    "collapsed": false,
    "pycharm": {
     "name": "#%%\n"
    }
   },
   "outputs": [
    {
     "name": "stderr",
     "output_type": "stream",
     "text": [
      "Processing:   0%|                                                          | 0/2944 [00:00<?, ?it/s]"
     ]
    },
    {
     "name": "stderr",
     "output_type": "stream",
     "text": [
      "Processing: 100%|███████████████████████████████████████████████| 2944/2944 [04:54<00:00, 10.00it/s]\n"
     ]
    }
   ],
   "source": [
    "iterate_files(get_event_date, 3000)"
   ]
  },
  {
   "cell_type": "code",
   "execution_count": 5,
   "id": "5b885517f0ca933d",
   "metadata": {
    "ExecuteTime": {
     "end_time": "2023-12-06T10:54:42.379704Z",
     "start_time": "2023-12-06T10:54:41.182471Z"
    },
    "collapsed": false,
    "pycharm": {
     "name": "#%%\n"
    }
   },
   "outputs": [],
   "source": [
    "event_df = pd.DataFrame(event_dates, columns=['id', 'event_date', 'count'])\n",
    "event_df.set_index('id', inplace=True)\n",
    "# sort df by event_date (desc)\n",
    "event_df['event_date'] = event_df['event_date'].astype(int)\n",
    "event_df['count'] = event_df['count'].astype(int)\n",
    "event_df.sort_values(by='event_date', inplace=True, ascending=False)"
   ]
  },
  {
   "cell_type": "code",
   "execution_count": 6,
   "id": "1df4e32fb8a7fe4f",
   "metadata": {
    "ExecuteTime": {
     "end_time": "2023-12-06T10:55:29.680403Z",
     "start_time": "2023-12-06T10:55:29.622503Z"
    },
    "collapsed": false,
    "pycharm": {
     "name": "#%%\n"
    }
   },
   "outputs": [],
   "source": [
    "def days_timestamp_to_date(days):\n",
    "    # confirmed to be correct\n",
    "    return pd.to_datetime(days, unit='D', origin=pd.Timestamp('1970-01-01')) \n",
    "# create a new column by applying days_timestamp_to_date to event_date\n",
    "event_df['date'] = days_timestamp_to_date(event_df['event_date'])"
   ]
  },
  {
   "cell_type": "code",
   "execution_count": 9,
   "id": "ca9f90252b24d88d",
   "metadata": {
    "ExecuteTime": {
     "end_time": "2023-12-06T10:57:13.430540Z",
     "start_time": "2023-12-06T10:57:13.215544Z"
    },
    "collapsed": false,
    "pycharm": {
     "name": "#%%\n"
    }
   },
   "outputs": [
    {
     "data": {
      "text/html": [
       "<div>\n",
       "<style scoped>\n",
       "    .dataframe tbody tr th:only-of-type {\n",
       "        vertical-align: middle;\n",
       "    }\n",
       "\n",
       "    .dataframe tbody tr th {\n",
       "        vertical-align: top;\n",
       "    }\n",
       "\n",
       "    .dataframe thead th {\n",
       "        text-align: right;\n",
       "    }\n",
       "</style>\n",
       "<table border=\"1\" class=\"dataframe\">\n",
       "  <thead>\n",
       "    <tr style=\"text-align: right;\">\n",
       "      <th></th>\n",
       "      <th>event_date</th>\n",
       "      <th>count</th>\n",
       "      <th>date</th>\n",
       "    </tr>\n",
       "    <tr>\n",
       "      <th>id</th>\n",
       "      <th></th>\n",
       "      <th></th>\n",
       "      <th></th>\n",
       "    </tr>\n",
       "  </thead>\n",
       "  <tbody>\n",
       "    <tr>\n",
       "      <th>e_659738</th>\n",
       "      <td>2274</td>\n",
       "      <td>8</td>\n",
       "      <td>1976-03-24</td>\n",
       "    </tr>\n",
       "    <tr>\n",
       "      <th>e_382106</th>\n",
       "      <td>2224</td>\n",
       "      <td>5</td>\n",
       "      <td>1976-02-03</td>\n",
       "    </tr>\n",
       "    <tr>\n",
       "      <th>e_836438</th>\n",
       "      <td>2151</td>\n",
       "      <td>8</td>\n",
       "      <td>1975-11-22</td>\n",
       "    </tr>\n",
       "    <tr>\n",
       "      <th>e_421104</th>\n",
       "      <td>2149</td>\n",
       "      <td>9</td>\n",
       "      <td>1975-11-20</td>\n",
       "    </tr>\n",
       "    <tr>\n",
       "      <th>e_911428</th>\n",
       "      <td>1910</td>\n",
       "      <td>8</td>\n",
       "      <td>1975-03-26</td>\n",
       "    </tr>\n",
       "    <tr>\n",
       "      <th>...</th>\n",
       "      <td>...</td>\n",
       "      <td>...</td>\n",
       "      <td>...</td>\n",
       "    </tr>\n",
       "    <tr>\n",
       "      <th>e_1973176</th>\n",
       "      <td>-3321</td>\n",
       "      <td>9</td>\n",
       "      <td>1960-11-28</td>\n",
       "    </tr>\n",
       "    <tr>\n",
       "      <th>e_1398704</th>\n",
       "      <td>-3384</td>\n",
       "      <td>23</td>\n",
       "      <td>1960-09-26</td>\n",
       "    </tr>\n",
       "    <tr>\n",
       "      <th>e_1092281</th>\n",
       "      <td>-3547</td>\n",
       "      <td>9</td>\n",
       "      <td>1960-04-16</td>\n",
       "    </tr>\n",
       "    <tr>\n",
       "      <th>e_2140866</th>\n",
       "      <td>-3622</td>\n",
       "      <td>8</td>\n",
       "      <td>1960-02-01</td>\n",
       "    </tr>\n",
       "    <tr>\n",
       "      <th>e_83857</th>\n",
       "      <td>-3636</td>\n",
       "      <td>5</td>\n",
       "      <td>1960-01-18</td>\n",
       "    </tr>\n",
       "  </tbody>\n",
       "</table>\n",
       "<p>100 rows × 3 columns</p>\n",
       "</div>"
      ],
      "text/plain": [
       "           event_date  count       date\n",
       "id                                     \n",
       "e_659738         2274      8 1976-03-24\n",
       "e_382106         2224      5 1976-02-03\n",
       "e_836438         2151      8 1975-11-22\n",
       "e_421104         2149      9 1975-11-20\n",
       "e_911428         1910      8 1975-03-26\n",
       "...               ...    ...        ...\n",
       "e_1973176       -3321      9 1960-11-28\n",
       "e_1398704       -3384     23 1960-09-26\n",
       "e_1092281       -3547      9 1960-04-16\n",
       "e_2140866       -3622      8 1960-02-01\n",
       "e_83857         -3636      5 1960-01-18\n",
       "\n",
       "[100 rows x 3 columns]"
      ]
     },
     "execution_count": 9,
     "metadata": {},
     "output_type": "execute_result"
    }
   ],
   "source": [
    "event_df[event_df['event_date'] != 0].iloc[-100:]"
   ]
  },
  {
   "cell_type": "code",
   "execution_count": 7,
   "id": "a69b0b3d636caea6",
   "metadata": {
    "ExecuteTime": {
     "end_time": "2023-12-06T13:29:50.447664Z",
     "start_time": "2023-12-06T13:29:50.073332Z"
    },
    "collapsed": false,
    "pycharm": {
     "name": "#%%\n"
    }
   },
   "outputs": [],
   "source": [
    "with open('../../data/preprocessed/event_index.pkl', 'rb') as f:\n",
    "    event_index = pickle.load(f)"
   ]
  },
  {
   "cell_type": "code",
   "execution_count": 8,
   "id": "5e728ad9e7a329db",
   "metadata": {
    "ExecuteTime": {
     "end_time": "2023-12-06T13:29:51.712035Z",
     "start_time": "2023-12-06T13:29:51.142685Z"
    },
    "collapsed": false,
    "pycharm": {
     "name": "#%%\n"
    }
   },
   "outputs": [
    {
     "data": {
      "text/plain": [
       "<Axes: ylabel='Frequency'>"
      ]
     },
     "execution_count": 8,
     "metadata": {},
     "output_type": "execute_result"
    },
    {
     "data": {
      "image/png": "[encoded data removed]",
      "text/plain": [
       "<Figure size 640x480 with 1 Axes>"
      ]
     },
     "metadata": {},
     "output_type": "display_data"
    }
   ],
   "source": [
    "# plot the distribution of event_date on a log scale\n",
    "event_df['event_date'].plot.hist(bins=150, log=True)"
   ]
  },
  {
   "cell_type": "code",
   "execution_count": 11,
   "id": "7ee50309",
   "metadata": {},
   "outputs": [
    {
     "data": {
      "text/plain": [
       "<Axes: ylabel='Frequency'>"
      ]
     },
     "execution_count": 11,
     "metadata": {},
     "output_type": "execute_result"
    },
    {
     "data": {
      "image/png": "[encoded data removed]",
      "text/plain": [
       "<Figure size 640x480 with 1 Axes>"
      ]
     },
     "metadata": {},
     "output_type": "display_data"
    }
   ],
   "source": [
    "event_df['count'].plot.hist(bins=150, log=True)"
   ]
  },
  {
   "cell_type": "code",
   "execution_count": 28,
   "id": "b345dfb3",
   "metadata": {},
   "outputs": [],
   "source": [
    "def get_counts(df):\n",
    "    counts = df['count']\n",
    "    # counts = counts[counts >= 10]\n",
    "    print(len(counts), counts.mean(), counts.median(), len(counts[counts < 40]), len(counts[counts >= 40]))\n",
    "    counts.plot.hist(bins=150, log=True)"
   ]
  },
  {
   "cell_type": "code",
   "execution_count": 23,
   "id": "3e08620651a75d37",
   "metadata": {
    "ExecuteTime": {
     "end_time": "2023-12-06T13:29:55.907187Z",
     "start_time": "2023-12-06T13:29:55.898670Z"
    },
    "collapsed": false,
    "pycharm": {
     "name": "#%%\n"
    }
   },
   "outputs": [
    {
     "data": {
      "text/plain": [
       "(Timestamp('2013-12-31 00:00:00'), Timestamp('2015-09-22 00:00:00'))"
      ]
     },
     "execution_count": 23,
     "metadata": {},
     "output_type": "execute_result"
    }
   ],
   "source": [
    "# 1.6.2014 in days\n",
    "start = 16070\n",
    "# 1.1.2016 in days\n",
    "end = 16700\n",
    "days_timestamp_to_date(start), days_timestamp_to_date(end)"
   ]
  },
  {
   "cell_type": "code",
   "execution_count": 44,
   "id": "5ace959224688268",
   "metadata": {
    "ExecuteTime": {
     "end_time": "2023-12-06T13:29:57.361359Z",
     "start_time": "2023-12-06T13:29:56.733229Z"
    },
    "collapsed": false,
    "pycharm": {
     "name": "#%%\n"
    }
   },
   "outputs": [],
   "source": [
    "events = event_df[(event_df['event_date'] >= start) & (event_df['event_date'] <= end)]\n",
    "top_10 = events['event_date'].quantile(0.8)\n",
    "recent_10 = events[events['event_date'] > top_10]\n",
    "random_10 = events.sample(frac=0.1)"
   ]
  },
  {
   "cell_type": "code",
   "execution_count": 45,
   "id": "1d83c968fa485c67",
   "metadata": {
    "ExecuteTime": {
     "end_time": "2023-12-06T13:29:58.724023Z",
     "start_time": "2023-12-06T13:29:58.333915Z"
    },
    "collapsed": false,
    "pycharm": {
     "name": "#%%\n"
    }
   },
   "outputs": [
    {
     "data": {
      "text/plain": [
       "<Axes: ylabel='Frequency'>"
      ]
     },
     "execution_count": 45,
     "metadata": {},
     "output_type": "execute_result"
    },
    {
     "data": {
      "image/png": "[encoded data removed]",
      "text/plain": [
       "<Figure size 640x480 with 1 Axes>"
      ]
     },
     "metadata": {},
     "output_type": "display_data"
    }
   ],
   "source": [
    "events['event_date'].plot.hist(bins=100, log=True)"
   ]
  },
  {
   "cell_type": "code",
   "execution_count": 89,
   "id": "3f7f874b",
   "metadata": {},
   "outputs": [
    {
     "data": {
      "text/plain": [
       "((2335858, 3), (2632115, 3))"
      ]
     },
     "execution_count": 89,
     "metadata": {},
     "output_type": "execute_result"
    }
   ],
   "source": [
    "events.shape, event_df.shape"
   ]
  },
  {
   "cell_type": "code",
   "execution_count": 46,
   "id": "6b6b5358051510c7",
   "metadata": {
    "ExecuteTime": {
     "end_time": "2023-12-06T13:30:03.615935Z",
     "start_time": "2023-12-06T13:30:00.908058Z"
    },
    "collapsed": false,
    "pycharm": {
     "name": "#%%\n"
    }
   },
   "outputs": [
    {
     "data": {
      "text/plain": [
       "<Axes: ylabel='Frequency'>"
      ]
     },
     "execution_count": 46,
     "metadata": {},
     "output_type": "execute_result"
    },
    {
     "data": {
      "image/png": "[encoded data removed]",
      "text/plain": [
       "<Figure size 640x480 with 1 Axes>"
      ]
     },
     "metadata": {},
     "output_type": "display_data"
    }
   ],
   "source": [
    "recent_10['event_date'].plot.hist(bins=100, log=True)"
   ]
  },
  {
   "cell_type": "code",
   "execution_count": 59,
   "id": "ec53809b",
   "metadata": {},
   "outputs": [
    {
     "name": "stdout",
     "output_type": "stream",
     "text": [
      "181935 24.99786737021464 13.0 134738 47197\n"
     ]
    },
    {
     "data": {
      "text/plain": [
       "<Axes: ylabel='Frequency'>"
      ]
     },
     "execution_count": 59,
     "metadata": {},
     "output_type": "execute_result"
    },
    {
     "data": {
      "image/png": "[encoded data removed]",
      "text/plain": [
       "<Figure size 640x480 with 1 Axes>"
      ]
     },
     "metadata": {},
     "output_type": "display_data"
    }
   ],
   "source": [
    "counts = recent_10['count']\n",
    "# counts = counts[(counts >= 10) & (counts < 1000)]\n",
    "counts = counts[counts >= 10]\n",
    "print(len(counts), counts.mean(), counts.median(), len(counts[counts < 20]), len(counts[counts >= 20]))\n",
    "counts.plot.hist(bins=150, log=True)"
   ]
  },
  {
   "cell_type": "code",
   "execution_count": 80,
   "id": "f6d2f891",
   "metadata": {},
   "outputs": [],
   "source": [
    "recent_high = recent_10[recent_10['count'] >= 25]"
   ]
  },
  {
   "cell_type": "code",
   "execution_count": 84,
   "id": "c838d1c1",
   "metadata": {},
   "outputs": [],
   "source": [
    "recent_med = recent_10[recent_10['count'] < 25]\n",
    "recent_med = recent_med[recent_med['count'] >= 10]\n",
    "recent_med = recent_med.sample(frac=0.2)"
   ]
  },
  {
   "cell_type": "code",
   "execution_count": 85,
   "id": "977402fb",
   "metadata": {},
   "outputs": [],
   "source": [
    "recent_low = recent_10[recent_10['count'] < 10]\n",
    "recent_low = recent_low.sample(frac=0.1)"
   ]
  },
  {
   "cell_type": "code",
   "execution_count": 86,
   "id": "b6e1f659",
   "metadata": {},
   "outputs": [
    {
     "data": {
      "text/plain": [
       "(28402, 29406, 34905, 92713)"
      ]
     },
     "execution_count": 86,
     "metadata": {},
     "output_type": "execute_result"
    }
   ],
   "source": [
    "len(recent_low), len(recent_med), len(recent_high), len(recent_low) + len(recent_med) + len(recent_high)"
   ]
  },
  {
   "cell_type": "code",
   "execution_count": 91,
   "id": "8466e43f",
   "metadata": {},
   "outputs": [],
   "source": [
    "dataset = pd.concat([recent_low, recent_med, recent_high])"
   ]
  },
  {
   "cell_type": "code",
   "execution_count": 110,
   "id": "4fd76bfa",
   "metadata": {},
   "outputs": [
    {
     "data": {
      "text/html": [
       "<div>\n",
       "<style scoped>\n",
       "    .dataframe tbody tr th:only-of-type {\n",
       "        vertical-align: middle;\n",
       "    }\n",
       "\n",
       "    .dataframe tbody tr th {\n",
       "        vertical-align: top;\n",
       "    }\n",
       "\n",
       "    .dataframe thead th {\n",
       "        text-align: right;\n",
       "    }\n",
       "</style>\n",
       "<table border=\"1\" class=\"dataframe\">\n",
       "  <thead>\n",
       "    <tr style=\"text-align: right;\">\n",
       "      <th></th>\n",
       "      <th>event_date</th>\n",
       "      <th>count</th>\n",
       "      <th>date</th>\n",
       "    </tr>\n",
       "    <tr>\n",
       "      <th>id</th>\n",
       "      <th></th>\n",
       "      <th></th>\n",
       "      <th></th>\n",
       "    </tr>\n",
       "  </thead>\n",
       "  <tbody>\n",
       "    <tr>\n",
       "      <th>e_2466592</th>\n",
       "      <td>16478</td>\n",
       "      <td>6</td>\n",
       "      <td>2015-02-12</td>\n",
       "    </tr>\n",
       "    <tr>\n",
       "      <th>e_2651714</th>\n",
       "      <td>16501</td>\n",
       "      <td>6</td>\n",
       "      <td>2015-03-07</td>\n",
       "    </tr>\n",
       "    <tr>\n",
       "      <th>e_2815643</th>\n",
       "      <td>16529</td>\n",
       "      <td>6</td>\n",
       "      <td>2015-04-04</td>\n",
       "    </tr>\n",
       "    <tr>\n",
       "      <th>e_2673091</th>\n",
       "      <td>16509</td>\n",
       "      <td>6</td>\n",
       "      <td>2015-03-15</td>\n",
       "    </tr>\n",
       "    <tr>\n",
       "      <th>e_2886380</th>\n",
       "      <td>16564</td>\n",
       "      <td>6</td>\n",
       "      <td>2015-05-09</td>\n",
       "    </tr>\n",
       "    <tr>\n",
       "      <th>...</th>\n",
       "      <td>...</td>\n",
       "      <td>...</td>\n",
       "      <td>...</td>\n",
       "    </tr>\n",
       "    <tr>\n",
       "      <th>e_2823667</th>\n",
       "      <td>16532</td>\n",
       "      <td>6</td>\n",
       "      <td>2015-04-07</td>\n",
       "    </tr>\n",
       "    <tr>\n",
       "      <th>e_2484026</th>\n",
       "      <td>16480</td>\n",
       "      <td>6</td>\n",
       "      <td>2015-02-14</td>\n",
       "    </tr>\n",
       "    <tr>\n",
       "      <th>e_2891068</th>\n",
       "      <td>16567</td>\n",
       "      <td>6</td>\n",
       "      <td>2015-05-12</td>\n",
       "    </tr>\n",
       "    <tr>\n",
       "      <th>e_2837938</th>\n",
       "      <td>16538</td>\n",
       "      <td>6</td>\n",
       "      <td>2015-04-13</td>\n",
       "    </tr>\n",
       "    <tr>\n",
       "      <th>e_2582127</th>\n",
       "      <td>16491</td>\n",
       "      <td>6</td>\n",
       "      <td>2015-02-25</td>\n",
       "    </tr>\n",
       "  </tbody>\n",
       "</table>\n",
       "<p>5849 rows × 3 columns</p>\n",
       "</div>"
      ],
      "text/plain": [
       "           event_date  count       date\n",
       "id                                     \n",
       "e_2466592       16478      6 2015-02-12\n",
       "e_2651714       16501      6 2015-03-07\n",
       "e_2815643       16529      6 2015-04-04\n",
       "e_2673091       16509      6 2015-03-15\n",
       "e_2886380       16564      6 2015-05-09\n",
       "...               ...    ...        ...\n",
       "e_2823667       16532      6 2015-04-07\n",
       "e_2484026       16480      6 2015-02-14\n",
       "e_2891068       16567      6 2015-05-12\n",
       "e_2837938       16538      6 2015-04-13\n",
       "e_2582127       16491      6 2015-02-25\n",
       "\n",
       "[5849 rows x 3 columns]"
      ]
     },
     "execution_count": 110,
     "metadata": {},
     "output_type": "execute_result"
    }
   ],
   "source": [
    "dataset[dataset['count'] == 6]"
   ]
  },
  {
   "cell_type": "code",
   "execution_count": 101,
   "id": "d149a812",
   "metadata": {},
   "outputs": [
    {
     "data": {
      "text/plain": [
       "<Axes: ylabel='Frequency'>"
      ]
     },
     "execution_count": 101,
     "metadata": {},
     "output_type": "execute_result"
    },
    {
     "data": {
      "image/png": "[encoded data removed]",
      "text/plain": [
       "<Figure size 640x480 with 1 Axes>"
      ]
     },
     "metadata": {},
     "output_type": "display_data"
    }
   ],
   "source": [
    "dataset['count'].plot.hist(bins=1000, log=True)"
   ]
  },
  {
   "cell_type": "code",
   "execution_count": 27,
   "id": "3a0b5945351d58af",
   "metadata": {
    "ExecuteTime": {
     "end_time": "2023-12-06T13:30:04.917054Z",
     "start_time": "2023-12-06T13:30:04.604297Z"
    },
    "collapsed": false,
    "pycharm": {
     "name": "#%%\n"
    }
   },
   "outputs": [
    {
     "data": {
      "text/plain": [
       "<Axes: ylabel='Frequency'>"
      ]
     },
     "execution_count": 27,
     "metadata": {},
     "output_type": "execute_result"
    },
    {
     "data": {
      "image/png": "[encoded data removed]",
      "text/plain": [
       "<Figure size 640x480 with 1 Axes>"
      ]
     },
     "metadata": {},
     "output_type": "display_data"
    }
   ],
   "source": [
    "random_10['event_date'].plot.hist(bins=100, log=True)"
   ]
  },
  {
   "cell_type": "code",
   "execution_count": 111,
   "id": "e9372d876c6b211e",
   "metadata": {
    "ExecuteTime": {
     "end_time": "2023-12-06T13:30:38.921485Z",
     "start_time": "2023-12-06T13:30:38.911812Z"
    },
    "collapsed": false,
    "pycharm": {
     "name": "#%%\n"
    }
   },
   "outputs": [],
   "source": [
    "def id_to_file_name(event_id):\n",
    "    for file_name, event_ids in event_index.items():\n",
    "        if event_id in event_ids:\n",
    "            return file_name\n",
    "    return None"
   ]
  },
  {
   "cell_type": "code",
   "execution_count": 119,
   "id": "269b205b",
   "metadata": {},
   "outputs": [],
   "source": [
    "recent_10 = dataset"
   ]
  },
  {
   "cell_type": "code",
   "execution_count": 113,
   "id": "f493901d962072fc",
   "metadata": {
    "ExecuteTime": {
     "end_time": "2023-12-06T13:31:19.457490Z",
     "start_time": "2023-12-06T13:30:39.991744Z"
    },
    "collapsed": false,
    "pycharm": {
     "name": "#%%\n"
    }
   },
   "outputs": [],
   "source": [
    "# random_10['file_name'] = random_10.index.map(id_to_file_name)\n",
    "# # groupby file_name and save to dict of file_name: set(event_ids)\n",
    "# random_10_grouped = random_10.groupby('file_name')\n",
    "# random_10_dict = {file_name: set(event_ids) for file_name, event_ids in random_10_grouped.groups.items()}"
   ]
  },
  {
   "cell_type": "code",
   "execution_count": 120,
   "id": "9ec71d4cf285aba6",
   "metadata": {
    "ExecuteTime": {
     "end_time": "2023-12-06T13:36:22.883005Z",
     "start_time": "2023-12-06T13:35:05.492166Z"
    },
    "collapsed": false,
    "pycharm": {
     "name": "#%%\n"
    }
   },
   "outputs": [],
   "source": [
    "recent_10['file_name'] = recent_10.index.map(id_to_file_name)\n",
    "# groupby file_name and save to dict of file_name: set(event_ids)\n",
    "recent_10_grouped = recent_10.groupby('file_name')\n",
    "recent_10_dict = {file_name: set(event_ids) for file_name, event_ids in recent_10_grouped.groups.items()}"
   ]
  },
  {
   "cell_type": "code",
   "execution_count": 115,
   "id": "9cc4908c60f3182d",
   "metadata": {
    "ExecuteTime": {
     "end_time": "2023-12-06T13:36:23.057621Z",
     "start_time": "2023-12-06T13:36:22.884573Z"
    },
    "collapsed": false,
    "pycharm": {
     "name": "#%%\n"
    }
   },
   "outputs": [],
   "source": [
    "# save to pickle\n",
    "with open(os.path.join(output_dir, 'B_100k.pkl'), 'wb') as f:\n",
    "    pickle.dump(recent_10_dict, f)\n",
    "# # save to pickle\n",
    "# with open(os.path.join(output_dir, 'B_random_10.pkl'), 'wb') as f:\n",
    "#     pickle.dump(random_10_dict, f)"
   ]
  },
  {
   "cell_type": "code",
   "execution_count": 121,
   "id": "a84705c83cef9d2c",
   "metadata": {
    "ExecuteTime": {
     "end_time": "2023-12-06T13:42:07.886045Z",
     "start_time": "2023-12-06T13:42:07.864395Z"
    },
    "collapsed": false,
    "pycharm": {
     "name": "#%%\n"
    }
   },
   "outputs": [
    {
     "data": {
      "text/plain": [
       "822"
      ]
     },
     "execution_count": 121,
     "metadata": {},
     "output_type": "execute_result"
    }
   ],
   "source": [
    "len(recent_10_dict.keys())"
   ]
  },
  {
   "cell_type": "code",
   "execution_count": 122,
   "id": "161d78153e02b52b",
   "metadata": {
    "ExecuteTime": {
     "end_time": "2023-12-06T13:42:15.911394Z",
     "start_time": "2023-12-06T13:42:15.880411Z"
    },
    "collapsed": false,
    "pycharm": {
     "name": "#%%\n"
    }
   },
   "outputs": [
    {
     "data": {
      "text/plain": [
       "dict_keys(['events-00369', 'events-00726', 'events-01027', 'events-01241', 'events-01570', 'events-01573', 'events-01659', 'events-01932', 'events-01995', 'events-02029', 'events-02040', 'events-02043', 'events-02051', 'events-02058', 'events-02062', 'events-02064', 'events-02066', 'events-02067', 'events-02069', 'events-02070', 'events-02071', 'events-02072', 'events-02074', 'events-02075', 'events-02076', 'events-02077', 'events-02078', 'events-02079', 'events-02080', 'events-02081', 'events-02084', 'events-02085', 'events-02086', 'events-02087', 'events-02088', 'events-02091', 'events-02092', 'events-02093', 'events-02095', 'events-02096', 'events-02097', 'events-02100', 'events-02103', 'events-02104', 'events-02106', 'events-02107', 'events-02108', 'events-02109', 'events-02110', 'events-02111', 'events-02112', 'events-02113', 'events-02116', 'events-02117', 'events-02118', 'events-02119', 'events-02128', 'events-02142', 'events-02143', 'events-02145', 'events-02146', 'events-02147', 'events-02148', 'events-02150', 'events-02151', 'events-02152', 'events-02155', 'events-02156', 'events-02158', 'events-02159', 'events-02160', 'events-02161', 'events-02162', 'events-02163', 'events-02164', 'events-02166', 'events-02167', 'events-02168', 'events-02169', 'events-02170', 'events-02173', 'events-02174', 'events-02175', 'events-02177', 'events-02179', 'events-02180', 'events-02181', 'events-02182', 'events-02183', 'events-02186', 'events-02189', 'events-02190', 'events-02191', 'events-02192', 'events-02195', 'events-02196', 'events-02197', 'events-02198', 'events-02203', 'events-02205', 'events-02206', 'events-02207', 'events-02212', 'events-02214', 'events-02216', 'events-02217', 'events-02218', 'events-02219', 'events-02220', 'events-02221', 'events-02222', 'events-02223', 'events-02224', 'events-02226', 'events-02227', 'events-02228', 'events-02229', 'events-02230', 'events-02231', 'events-02232', 'events-02233', 'events-02234', 'events-02235', 'events-02237', 'events-02238', 'events-02239', 'events-02240', 'events-02241', 'events-02242', 'events-02243', 'events-02244', 'events-02246', 'events-02247', 'events-02248', 'events-02249', 'events-02250', 'events-02252', 'events-02254', 'events-02255', 'events-02256', 'events-02257', 'events-02258', 'events-02259', 'events-02260', 'events-02263', 'events-02264', 'events-02265', 'events-02267', 'events-02268', 'events-02269', 'events-02270', 'events-02271', 'events-02272', 'events-02273', 'events-02274', 'events-02275', 'events-02276', 'events-02277', 'events-02281', 'events-02282', 'events-02283', 'events-02284', 'events-02285', 'events-02286', 'events-02287', 'events-02288', 'events-02289', 'events-02290', 'events-02291', 'events-02292', 'events-02293', 'events-02294', 'events-02295', 'events-02296', 'events-02297', 'events-02298', 'events-02299', 'events-02300', 'events-02301', 'events-02302', 'events-02303', 'events-02304', 'events-02305', 'events-02306', 'events-02307', 'events-02308', 'events-02309', 'events-02310', 'events-02311', 'events-02312', 'events-02313', 'events-02314', 'events-02315', 'events-02316', 'events-02317', 'events-02318', 'events-02319', 'events-02320', 'events-02321', 'events-02322', 'events-02323', 'events-02324', 'events-02325', 'events-02326', 'events-02327', 'events-02328', 'events-02329', 'events-02330', 'events-02331', 'events-02332', 'events-02333', 'events-02334', 'events-02335', 'events-02336', 'events-02337', 'events-02338', 'events-02339', 'events-02340', 'events-02341', 'events-02342', 'events-02343', 'events-02344', 'events-02345', 'events-02346', 'events-02347', 'events-02348', 'events-02349', 'events-02350', 'events-02351', 'events-02352', 'events-02353', 'events-02354', 'events-02355', 'events-02356', 'events-02357', 'events-02358', 'events-02359', 'events-02360', 'events-02361', 'events-02362', 'events-02363', 'events-02364', 'events-02365', 'events-02366', 'events-02367', 'events-02368', 'events-02369', 'events-02370', 'events-02371', 'events-02372', 'events-02373', 'events-02374', 'events-02375', 'events-02376', 'events-02377', 'events-02378', 'events-02379', 'events-02380', 'events-02381', 'events-02382', 'events-02383', 'events-02384', 'events-02385', 'events-02386', 'events-02387', 'events-02388', 'events-02389', 'events-02390', 'events-02391', 'events-02392', 'events-02393', 'events-02394', 'events-02395', 'events-02396', 'events-02397', 'events-02398', 'events-02399', 'events-02400', 'events-02401', 'events-02402', 'events-02403', 'events-02404', 'events-02405', 'events-02406', 'events-02407', 'events-02408', 'events-02409', 'events-02410', 'events-02411', 'events-02412', 'events-02413', 'events-02414', 'events-02415', 'events-02416', 'events-02417', 'events-02418', 'events-02419', 'events-02420', 'events-02421', 'events-02422', 'events-02423', 'events-02424', 'events-02425', 'events-02426', 'events-02427', 'events-02428', 'events-02429', 'events-02430', 'events-02431', 'events-02432', 'events-02433', 'events-02434', 'events-02435', 'events-02436', 'events-02437', 'events-02438', 'events-02439', 'events-02440', 'events-02441', 'events-02442', 'events-02443', 'events-02444', 'events-02445', 'events-02446', 'events-02447', 'events-02448', 'events-02449', 'events-02450', 'events-02451', 'events-02452', 'events-02453', 'events-02454', 'events-02455', 'events-02456', 'events-02457', 'events-02458', 'events-02459', 'events-02460', 'events-02461', 'events-02462', 'events-02463', 'events-02464', 'events-02465', 'events-02466', 'events-02467', 'events-02468', 'events-02469', 'events-02470', 'events-02471', 'events-02472', 'events-02473', 'events-02474', 'events-02475', 'events-02476', 'events-02477', 'events-02478', 'events-02479', 'events-02480', 'events-02481', 'events-02482', 'events-02483', 'events-02484', 'events-02485', 'events-02486', 'events-02487', 'events-02488', 'events-02489', 'events-02490', 'events-02491', 'events-02492', 'events-02493', 'events-02494', 'events-02495', 'events-02496', 'events-02497', 'events-02498', 'events-02499', 'events-02500', 'events-02501', 'events-02502', 'events-02503', 'events-02504', 'events-02505', 'events-02506', 'events-02507', 'events-02508', 'events-02509', 'events-02510', 'events-02511', 'events-02512', 'events-02513', 'events-02514', 'events-02515', 'events-02516', 'events-02517', 'events-02518', 'events-02519', 'events-02520', 'events-02521', 'events-02522', 'events-02523', 'events-02524', 'events-02525', 'events-02526', 'events-02527', 'events-02528', 'events-02529', 'events-02530', 'events-02531', 'events-02532', 'events-02533', 'events-02534', 'events-02535', 'events-02536', 'events-02537', 'events-02538', 'events-02539', 'events-02540', 'events-02541', 'events-02542', 'events-02543', 'events-02544', 'events-02545', 'events-02546', 'events-02547', 'events-02548', 'events-02549', 'events-02550', 'events-02551', 'events-02552', 'events-02553', 'events-02554', 'events-02555', 'events-02556', 'events-02557', 'events-02558', 'events-02559', 'events-02560', 'events-02561', 'events-02562', 'events-02563', 'events-02564', 'events-02565', 'events-02566', 'events-02567', 'events-02568', 'events-02569', 'events-02570', 'events-02571', 'events-02572', 'events-02573', 'events-02574', 'events-02575', 'events-02576', 'events-02577', 'events-02578', 'events-02579', 'events-02580', 'events-02581', 'events-02582', 'events-02583', 'events-02584', 'events-02585', 'events-02586', 'events-02587', 'events-02588', 'events-02589', 'events-02590', 'events-02591', 'events-02592', 'events-02593', 'events-02594', 'events-02595', 'events-02596', 'events-02597', 'events-02598', 'events-02599', 'events-02600', 'events-02601', 'events-02602', 'events-02603', 'events-02604', 'events-02605', 'events-02606', 'events-02607', 'events-02608', 'events-02609', 'events-02610', 'events-02611', 'events-02612', 'events-02613', 'events-02614', 'events-02615', 'events-02616', 'events-02617', 'events-02618', 'events-02619', 'events-02620', 'events-02621', 'events-02622', 'events-02623', 'events-02624', 'events-02625', 'events-02626', 'events-02627', 'events-02628', 'events-02629', 'events-02630', 'events-02631', 'events-02632', 'events-02633', 'events-02634', 'events-02635', 'events-02636', 'events-02637', 'events-02638', 'events-02639', 'events-02640', 'events-02641', 'events-02642', 'events-02643', 'events-02644', 'events-02645', 'events-02646', 'events-02647', 'events-02648', 'events-02649', 'events-02650', 'events-02651', 'events-02652', 'events-02653', 'events-02654', 'events-02655', 'events-02656', 'events-02657', 'events-02658', 'events-02659', 'events-02660', 'events-02661', 'events-02662', 'events-02663', 'events-02664', 'events-02665', 'events-02666', 'events-02667', 'events-02668', 'events-02669', 'events-02670', 'events-02671', 'events-02672', 'events-02673', 'events-02674', 'events-02675', 'events-02676', 'events-02677', 'events-02678', 'events-02679', 'events-02680', 'events-02681', 'events-02682', 'events-02683', 'events-02684', 'events-02685', 'events-02686', 'events-02687', 'events-02688', 'events-02689', 'events-02690', 'events-02691', 'events-02692', 'events-02693', 'events-02694', 'events-02695', 'events-02696', 'events-02697', 'events-02698', 'events-02699', 'events-02700', 'events-02701', 'events-02702', 'events-02703', 'events-02704', 'events-02705', 'events-02706', 'events-02707', 'events-02708', 'events-02709', 'events-02710', 'events-02711', 'events-02712', 'events-02713', 'events-02714', 'events-02715', 'events-02716', 'events-02717', 'events-02718', 'events-02719', 'events-02720', 'events-02721', 'events-02722', 'events-02723', 'events-02724', 'events-02725', 'events-02726', 'events-02727', 'events-02728', 'events-02729', 'events-02730', 'events-02731', 'events-02732', 'events-02733', 'events-02734', 'events-02735', 'events-02736', 'events-02737', 'events-02738', 'events-02739', 'events-02740', 'events-02741', 'events-02742', 'events-02743', 'events-02744', 'events-02745', 'events-02746', 'events-02747', 'events-02748', 'events-02749', 'events-02750', 'events-02751', 'events-02752', 'events-02753', 'events-02754', 'events-02755', 'events-02756', 'events-02757', 'events-02758', 'events-02759', 'events-02760', 'events-02761', 'events-02762', 'events-02763', 'events-02764', 'events-02765', 'events-02766', 'events-02767', 'events-02768', 'events-02769', 'events-02770', 'events-02771', 'events-02772', 'events-02773', 'events-02774', 'events-02775', 'events-02776', 'events-02777', 'events-02778', 'events-02779', 'events-02780', 'events-02781', 'events-02782', 'events-02783', 'events-02784', 'events-02785', 'events-02786', 'events-02787', 'events-02788', 'events-02789', 'events-02790', 'events-02791', 'events-02792', 'events-02793', 'events-02794', 'events-02795', 'events-02796', 'events-02797', 'events-02798', 'events-02799', 'events-02800', 'events-02801', 'events-02802', 'events-02803', 'events-02804', 'events-02805', 'events-02806', 'events-02807', 'events-02808', 'events-02809', 'events-02810', 'events-02811', 'events-02812', 'events-02813', 'events-02814', 'events-02815', 'events-02816', 'events-02817', 'events-02818', 'events-02819', 'events-02820', 'events-02821', 'events-02822', 'events-02823', 'events-02824', 'events-02825', 'events-02826', 'events-02827', 'events-02828', 'events-02829', 'events-02830', 'events-02831', 'events-02832', 'events-02833', 'events-02834', 'events-02835', 'events-02836', 'events-02837', 'events-02838', 'events-02839', 'events-02840', 'events-02841', 'events-02842', 'events-02843', 'events-02844', 'events-02845', 'events-02846', 'events-02847', 'events-02848', 'events-02849', 'events-02850', 'events-02851', 'events-02852', 'events-02853', 'events-02854', 'events-02855', 'events-02856', 'events-02857', 'events-02858', 'events-02859', 'events-02860', 'events-02861', 'events-02862', 'events-02863', 'events-02864', 'events-02865', 'events-02866', 'events-02867', 'events-02868', 'events-02869', 'events-02870', 'events-02871', 'events-02872', 'events-02873', 'events-02874', 'events-02875', 'events-02876', 'events-02877', 'events-02878', 'events-02879', 'events-02880', 'events-02881', 'events-02882', 'events-02883', 'events-02884', 'events-02885', 'events-02886', 'events-02887', 'events-02888', 'events-02889', 'events-02890', 'events-02891', 'events-02892', 'events-02893', 'events-02894', 'events-02895', 'events-02896', 'events-02897', 'events-02898', 'events-02899', 'events-02900', 'events-02901', 'events-02902', 'events-02903', 'events-02904', 'events-02905', 'events-02906', 'events-02907', 'events-02908', 'events-02909', 'events-02910', 'events-02911', 'events-02912', 'events-02913', 'events-02914', 'events-02915', 'events-02916', 'events-02917', 'events-02918', 'events-02919', 'events-02920', 'events-02921', 'events-02922', 'events-02923', 'events-02924', 'events-02925', 'events-02926', 'events-02927', 'events-02928', 'events-02929', 'events-02930', 'events-02931', 'events-02932', 'events-02933', 'events-02934', 'events-02935', 'events-02936', 'events-02937', 'events-02938', 'events-02939', 'events-02940', 'events-02941', 'events-02942', 'events-02943', 'events-02944'])"
      ]
     },
     "execution_count": 122,
     "metadata": {},
     "output_type": "execute_result"
    }
   ],
   "source": [
    "recent_10_dict.keys()"
   ]
  },
  {
   "cell_type": "code",
   "execution_count": 123,
   "id": "3ec1cec7af813cae",
   "metadata": {
    "collapsed": false,
    "pycharm": {
     "name": "#%%\n"
    }
   },
   "outputs": [
    {
     "data": {
      "text/plain": [
       "(92713, 4)"
      ]
     },
     "execution_count": 123,
     "metadata": {},
     "output_type": "execute_result"
    }
   ],
   "source": [
    "recent_10.shape"
   ]
  },
  {
   "cell_type": "code",
   "execution_count": null,
   "id": "7e51fea5",
   "metadata": {},
   "outputs": [],
   "source": []
  }
 ],
 "metadata": {
  "kernelspec": {
   "display_name": "Python 3",
   "language": "python",
   "name": "python3"
  },
  "language_info": {
   "codemirror_mode": {
    "name": "ipython",
    "version": 3
   },
   "file_extension": ".py",
   "mimetype": "text/x-python",
   "name": "python",
   "nbconvert_exporter": "python",
   "pygments_lexer": "ipython3",
   "version": "3.10.13"
  }
 },
 "nbformat": 4,
 "nbformat_minor": 5
}
