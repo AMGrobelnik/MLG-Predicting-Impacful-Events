{
 "cells": [
  {
   "cell_type": "code",
   "execution_count": 1,
   "outputs": [],
   "source": [
    "from glob import glob\n",
    "import os\n",
    "import pickle\n",
    "import pandas as pd\n",
    "from tqdm import tqdm\n",
    "import numpy as np\n",
    "import matplotlib.pyplot as plt"
   ],
   "metadata": {
    "collapsed": false,
    "ExecuteTime": {
     "end_time": "2023-12-06T10:31:54.179730Z",
     "start_time": "2023-12-06T10:31:53.626084Z"
    }
   },
   "id": "fc95fbf4bb96bb13"
  },
  {
   "cell_type": "code",
   "execution_count": 6,
   "id": "initial_id",
   "metadata": {
    "collapsed": true,
    "ExecuteTime": {
     "end_time": "2023-12-06T10:35:47.127055Z",
     "start_time": "2023-12-06T10:35:47.121863Z"
    }
   },
   "outputs": [],
   "source": [
    "directory_path = \"../../data/preprocessed\"\n",
    "output_dir = \"../../data/preprocessed\"\n",
    "def iterate_files(action, n=1):\n",
    "    files = sorted(glob(os.path.join(directory_path, \"events-*.pkl\")))\n",
    "    files = files[:n]\n",
    "    \n",
    "    for filename in tqdm(files, ncols=100, desc=\"Processing\"):\n",
    "        file_path = os.path.join(directory_path, filename)\n",
    "        file_name = os.path.splitext(filename)[0]\n",
    "    \n",
    "        df = pd.read_pickle(file_path)\n",
    "        action(file_name, df)"
   ]
  },
  {
   "cell_type": "code",
   "execution_count": 28,
   "outputs": [],
   "source": [
    "event_dates = []\n",
    "def get_event_date(file_name, df):\n",
    "    # add tuples of (id, date) to event_dates\n",
    "    event_dates.extend([(i, row['info']['eventDate']) for i, row in df.iterrows()])"
   ],
   "metadata": {
    "collapsed": false,
    "ExecuteTime": {
     "end_time": "2023-12-06T10:39:53.580729Z",
     "start_time": "2023-12-06T10:39:53.572366Z"
    }
   },
   "id": "a14fb738e66d96e5"
  },
  {
   "cell_type": "code",
   "execution_count": 41,
   "outputs": [
    {
     "name": "stderr",
     "output_type": "stream",
     "text": [
      "Processing: 100%|███████████████████████████████████████████████| 2944/2944 [01:50<00:00, 26.58it/s]\n"
     ]
    }
   ],
   "source": [
    "iterate_files(get_event_date, 3000)"
   ],
   "metadata": {
    "collapsed": false,
    "ExecuteTime": {
     "end_time": "2023-12-06T10:46:27.941223Z",
     "start_time": "2023-12-06T10:44:37.147184Z"
    }
   },
   "id": "4be9844dcf20536a"
  },
  {
   "cell_type": "code",
   "execution_count": 55,
   "outputs": [],
   "source": [
    "event_df = pd.DataFrame(event_dates, columns=['id', 'event_date'])\n",
    "event_df.set_index('id', inplace=True)\n",
    "# sort df by event_date (desc)\n",
    "event_df['event_date'] = event_df['event_date'].astype(int)\n",
    "event_df.sort_values(by='event_date', inplace=True, ascending=False)"
   ],
   "metadata": {
    "collapsed": false,
    "ExecuteTime": {
     "end_time": "2023-12-06T10:54:42.379704Z",
     "start_time": "2023-12-06T10:54:41.182471Z"
    }
   },
   "id": "5b885517f0ca933d"
  },
  {
   "cell_type": "code",
   "execution_count": 57,
   "outputs": [],
   "source": [
    "def days_timestamp_to_date(days):\n",
    "    # confirmed to be correct\n",
    "    return pd.to_datetime(days, unit='D', origin=pd.Timestamp('1970-01-01')) \n",
    "# create a new column by applying days_timestamp_to_date to event_date\n",
    "event_df['date'] = days_timestamp_to_date(event_df['event_date'])"
   ],
   "metadata": {
    "collapsed": false,
    "ExecuteTime": {
     "end_time": "2023-12-06T10:55:29.680403Z",
     "start_time": "2023-12-06T10:55:29.622503Z"
    }
   },
   "id": "1df4e32fb8a7fe4f"
  },
  {
   "cell_type": "code",
   "execution_count": 60,
   "outputs": [
    {
     "data": {
      "text/plain": "           event_date       date\nid                              \ne_659738         2274 1976-03-24\ne_382106         2224 1976-02-03\ne_836438         2151 1975-11-22\ne_421104         2149 1975-11-20\ne_911428         1910 1975-03-26\n...               ...        ...\ne_1973176       -3321 1960-11-28\ne_1398704       -3384 1960-09-26\ne_1092281       -3547 1960-04-16\ne_2140866       -3622 1960-02-01\ne_83857         -3636 1960-01-18\n\n[100 rows x 2 columns]",
      "text/html": "<div>\n<style scoped>\n    .dataframe tbody tr th:only-of-type {\n        vertical-align: middle;\n    }\n\n    .dataframe tbody tr th {\n        vertical-align: top;\n    }\n\n    .dataframe thead th {\n        text-align: right;\n    }\n</style>\n<table border=\"1\" class=\"dataframe\">\n  <thead>\n    <tr style=\"text-align: right;\">\n      <th></th>\n      <th>event_date</th>\n      <th>date</th>\n    </tr>\n    <tr>\n      <th>id</th>\n      <th></th>\n      <th></th>\n    </tr>\n  </thead>\n  <tbody>\n    <tr>\n      <th>e_659738</th>\n      <td>2274</td>\n      <td>1976-03-24</td>\n    </tr>\n    <tr>\n      <th>e_382106</th>\n      <td>2224</td>\n      <td>1976-02-03</td>\n    </tr>\n    <tr>\n      <th>e_836438</th>\n      <td>2151</td>\n      <td>1975-11-22</td>\n    </tr>\n    <tr>\n      <th>e_421104</th>\n      <td>2149</td>\n      <td>1975-11-20</td>\n    </tr>\n    <tr>\n      <th>e_911428</th>\n      <td>1910</td>\n      <td>1975-03-26</td>\n    </tr>\n    <tr>\n      <th>...</th>\n      <td>...</td>\n      <td>...</td>\n    </tr>\n    <tr>\n      <th>e_1973176</th>\n      <td>-3321</td>\n      <td>1960-11-28</td>\n    </tr>\n    <tr>\n      <th>e_1398704</th>\n      <td>-3384</td>\n      <td>1960-09-26</td>\n    </tr>\n    <tr>\n      <th>e_1092281</th>\n      <td>-3547</td>\n      <td>1960-04-16</td>\n    </tr>\n    <tr>\n      <th>e_2140866</th>\n      <td>-3622</td>\n      <td>1960-02-01</td>\n    </tr>\n    <tr>\n      <th>e_83857</th>\n      <td>-3636</td>\n      <td>1960-01-18</td>\n    </tr>\n  </tbody>\n</table>\n<p>100 rows × 2 columns</p>\n</div>"
     },
     "execution_count": 60,
     "metadata": {},
     "output_type": "execute_result"
    }
   ],
   "source": [
    "event_df[event_df['event_date'] != 0].iloc[-100:]"
   ],
   "metadata": {
    "collapsed": false,
    "ExecuteTime": {
     "end_time": "2023-12-06T10:57:13.430540Z",
     "start_time": "2023-12-06T10:57:13.215544Z"
    }
   },
   "id": "ca9f90252b24d88d"
  },
  {
   "cell_type": "code",
   "execution_count": 62,
   "outputs": [],
   "source": [
    "with open('../../data/preprocessed/event_index.pkl', 'rb') as f:\n",
    "    event_index = pickle.load(f)"
   ],
   "metadata": {
    "collapsed": false,
    "ExecuteTime": {
     "end_time": "2023-12-06T10:58:23.089388Z",
     "start_time": "2023-12-06T10:58:22.638204Z"
    }
   },
   "id": "a69b0b3d636caea6"
  },
  {
   "cell_type": "code",
   "execution_count": 68,
   "outputs": [
    {
     "name": "stdout",
     "output_type": "stream",
     "text": [
      "../../data/preprocessed/events-00660\n"
     ]
    }
   ],
   "source": [
    "# find e_2058117 in event_index\n",
    "for file_name, event_ids in event_index.items():\n",
    "    if 'e_659738' in event_ids :\n",
    "        print(file_name)"
   ],
   "metadata": {
    "collapsed": false,
    "ExecuteTime": {
     "end_time": "2023-12-06T11:02:41.392195Z",
     "start_time": "2023-12-06T11:02:41.385666Z"
    }
   },
   "id": "2da6d18e3c89894f"
  },
  {
   "cell_type": "code",
   "execution_count": 73,
   "outputs": [
    {
     "data": {
      "text/plain": "<Axes: ylabel='Frequency'>"
     },
     "execution_count": 73,
     "metadata": {},
     "output_type": "execute_result"
    },
    {
     "data": {
      "text/plain": "<Figure size 640x480 with 1 Axes>",
      "image/png": "[encoded data removed]"
     },
     "metadata": {},
     "output_type": "display_data"
    }
   ],
   "source": [
    "# plot the distribution of event_date on a log scale\n",
    "event_df['event_date'].plot.hist(bins=150, log=True)"
   ],
   "metadata": {
    "collapsed": false,
    "ExecuteTime": {
     "end_time": "2023-12-06T11:22:41.949160Z",
     "start_time": "2023-12-06T11:22:40.987510Z"
    }
   },
   "id": "5e728ad9e7a329db"
  },
  {
   "cell_type": "code",
   "execution_count": 131,
   "outputs": [
    {
     "data": {
      "text/plain": "(Timestamp('2013-10-22 00:00:00'), Timestamp('2015-08-03 00:00:00'))"
     },
     "execution_count": 131,
     "metadata": {},
     "output_type": "execute_result"
    }
   ],
   "source": [
    "# 1.6.2014 in days\n",
    "start = 16000\n",
    "# 1.1.2016 in days\n",
    "end = 16650\n",
    "days_timestamp_to_date(start), days_timestamp_to_date(end)"
   ],
   "metadata": {
    "collapsed": false,
    "ExecuteTime": {
     "end_time": "2023-12-06T12:16:38.364764Z",
     "start_time": "2023-12-06T12:16:38.359230Z"
    }
   },
   "id": "3e08620651a75d37"
  },
  {
   "cell_type": "code",
   "execution_count": 132,
   "outputs": [],
   "source": [
    "events = event_df[(event_df['event_date'] >= start) & (event_df['event_date'] <= end)]\n",
    "top_10 = events['event_date'].quantile(0.9)\n",
    "recent_10 = events[events['event_date'] > top_10]\n",
    "random_10 = events.sample(frac=0.1)"
   ],
   "metadata": {
    "collapsed": false,
    "ExecuteTime": {
     "end_time": "2023-12-06T12:16:39.174434Z",
     "start_time": "2023-12-06T12:16:38.877033Z"
    }
   },
   "id": "5ace959224688268"
  },
  {
   "cell_type": "code",
   "execution_count": 135,
   "outputs": [
    {
     "data": {
      "text/plain": "<Axes: ylabel='Frequency'>"
     },
     "execution_count": 135,
     "metadata": {},
     "output_type": "execute_result"
    },
    {
     "data": {
      "text/plain": "<Figure size 640x480 with 1 Axes>",
      "image/png": "[encoded data removed]"
     },
     "metadata": {},
     "output_type": "display_data"
    }
   ],
   "source": [
    "events['event_date'].plot.hist(bins=100, log=True)"
   ],
   "metadata": {
    "collapsed": false,
    "ExecuteTime": {
     "end_time": "2023-12-06T12:16:54.305910Z",
     "start_time": "2023-12-06T12:16:54.066474Z"
    }
   },
   "id": "1d83c968fa485c67"
  },
  {
   "cell_type": "code",
   "execution_count": 136,
   "outputs": [
    {
     "data": {
      "text/plain": "<Axes: ylabel='Frequency'>"
     },
     "execution_count": 136,
     "metadata": {},
     "output_type": "execute_result"
    },
    {
     "data": {
      "text/plain": "<Figure size 640x480 with 1 Axes>",
      "image/png": "[encoded data removed]"
     },
     "metadata": {},
     "output_type": "display_data"
    }
   ],
   "source": [
    "recent_10['event_date'].plot.hist(bins=100, log=True)"
   ],
   "metadata": {
    "collapsed": false,
    "ExecuteTime": {
     "end_time": "2023-12-06T12:16:56.517180Z",
     "start_time": "2023-12-06T12:16:56.313362Z"
    }
   },
   "id": "6b6b5358051510c7"
  },
  {
   "cell_type": "code",
   "execution_count": 137,
   "outputs": [
    {
     "data": {
      "text/plain": "<Axes: ylabel='Frequency'>"
     },
     "execution_count": 137,
     "metadata": {},
     "output_type": "execute_result"
    },
    {
     "data": {
      "text/plain": "<Figure size 640x480 with 1 Axes>",
      "image/png": "[encoded data removed]"
     },
     "metadata": {},
     "output_type": "display_data"
    }
   ],
   "source": [
    "random_10['event_date'].plot.hist(bins=100, log=True)"
   ],
   "metadata": {
    "collapsed": false,
    "ExecuteTime": {
     "end_time": "2023-12-06T12:17:01.553193Z",
     "start_time": "2023-12-06T12:17:01.340002Z"
    }
   },
   "id": "3a0b5945351d58af"
  },
  {
   "cell_type": "code",
   "execution_count": null,
   "outputs": [],
   "source": [],
   "metadata": {
    "collapsed": false
   },
   "id": "b3de4284dfa61fe6"
  }
 ],
 "metadata": {
  "kernelspec": {
   "display_name": "Python 3",
   "language": "python",
   "name": "python3"
  },
  "language_info": {
   "codemirror_mode": {
    "name": "ipython",
    "version": 2
   },
   "file_extension": ".py",
   "mimetype": "text/x-python",
   "name": "python",
   "nbconvert_exporter": "python",
   "pygments_lexer": "ipython2",
   "version": "2.7.6"
  }
 },
 "nbformat": 4,
 "nbformat_minor": 5
}
