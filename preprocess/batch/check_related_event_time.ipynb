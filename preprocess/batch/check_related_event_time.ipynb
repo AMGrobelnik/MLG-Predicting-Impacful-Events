{
 "cells": [
  {
   "cell_type": "code",
   "execution_count": 18,
   "id": "initial_id",
   "metadata": {
    "collapsed": true,
    "ExecuteTime": {
     "end_time": "2023-12-08T08:10:07.503712Z",
     "start_time": "2023-12-08T08:10:07.487089Z"
    }
   },
   "outputs": [],
   "source": [
    "import pickle\n",
    "import pandas as pd\n",
    "import numpy as np\n",
    "import os\n",
    "from glob import glob\n",
    "from tqdm import tqdm"
   ]
  },
  {
   "cell_type": "code",
   "execution_count": 21,
   "outputs": [],
   "source": [
    "with open('../../data/batch/B_random_10.pkl', 'rb') as f:\n",
    "    B_random_10 = pickle.load(f)\n",
    "    \n",
    "with open('../../data/batch/B_recent_10.pkl', 'rb') as f:\n",
    "    B_recent_10 = pickle.load(f)\n",
    "    \n",
    "with open('../../data/preprocessed/event_index.pkl', 'rb') as f:\n",
    "    event_index = pickle.load(f)"
   ],
   "metadata": {
    "collapsed": false,
    "ExecuteTime": {
     "end_time": "2023-12-08T08:11:26.571754Z",
     "start_time": "2023-12-08T08:11:25.857439Z"
    }
   },
   "id": "b60021acec2aa02e"
  },
  {
   "cell_type": "code",
   "execution_count": 14,
   "outputs": [],
   "source": [
    "ids = list(B_random_10['events-00023'])"
   ],
   "metadata": {
    "collapsed": false,
    "ExecuteTime": {
     "end_time": "2023-12-08T08:09:17.326107Z",
     "start_time": "2023-12-08T08:09:17.320033Z"
    }
   },
   "id": "ec800bb80ecff931"
  },
  {
   "cell_type": "code",
   "execution_count": 20,
   "outputs": [],
   "source": [
    "directory_path = \"../../data/preprocessed\"\n",
    "output_dir = \"../../data/batch\"\n",
    "def iterate_files(action, n=3000):\n",
    "    files = sorted(glob(os.path.join(directory_path, \"events-*.pkl\")))\n",
    "    files = files[:n]\n",
    "    \n",
    "    for filename in tqdm(files, ncols=100, desc=\"Processing\"):\n",
    "        file_path = os.path.join(directory_path, filename)\n",
    "        file_name = os.path.splitext(filename)[0]\n",
    "    \n",
    "        df = pd.read_pickle(file_path)\n",
    "        action(file_name, df)"
   ],
   "metadata": {
    "collapsed": false,
    "ExecuteTime": {
     "end_time": "2023-12-08T08:10:22.643872Z",
     "start_time": "2023-12-08T08:10:22.641973Z"
    }
   },
   "id": "166515b317a3e561"
  },
  {
   "cell_type": "code",
   "execution_count": 25,
   "outputs": [],
   "source": [
    "def get_file(file_name):\n",
    "    file_path = os.path.join(directory_path, file_name + \".pkl\")\n",
    "    df = pd.read_pickle(file_path)\n",
    "    return df"
   ],
   "metadata": {
    "collapsed": false,
    "ExecuteTime": {
     "end_time": "2023-12-08T08:14:32.973504Z",
     "start_time": "2023-12-08T08:14:32.963667Z"
    }
   },
   "id": "5efad9fee475b69d"
  },
  {
   "cell_type": "code",
   "execution_count": 24,
   "outputs": [],
   "source": [
    "def iterate_file(file_name, action):\n",
    "    file_path = os.path.join(directory_path, file_name + \".pkl\")\n",
    "    df = pd.read_pickle(file_path)\n",
    "    action(file_name, df)"
   ],
   "metadata": {
    "collapsed": false,
    "ExecuteTime": {
     "end_time": "2023-12-08T08:13:19.791708Z",
     "start_time": "2023-12-08T08:13:19.789673Z"
    }
   },
   "id": "148fd28c3589fc05"
  },
  {
   "cell_type": "code",
   "execution_count": 23,
   "outputs": [],
   "source": [
    "def find_event_file(event_id):\n",
    "    for file, event_ids in event_index.items():\n",
    "        if event_id in event_ids:\n",
    "            return file"
   ],
   "metadata": {
    "collapsed": false,
    "ExecuteTime": {
     "end_time": "2023-12-08T08:12:13.783579Z",
     "start_time": "2023-12-08T08:12:13.781395Z"
    }
   },
   "id": "7a35f329924dfa60"
  },
  {
   "cell_type": "code",
   "execution_count": 31,
   "outputs": [],
   "source": [
    "def get_event(event_id):\n",
    "    file_name = find_event_file(event_id)\n",
    "    df = get_file(file_name)\n",
    "    return df.loc[event_id]"
   ],
   "metadata": {
    "collapsed": false,
    "ExecuteTime": {
     "end_time": "2023-12-08T08:16:09.395791Z",
     "start_time": "2023-12-08T08:16:09.393968Z"
    }
   },
   "id": "af573daed4014435"
  },
  {
   "cell_type": "code",
   "execution_count": 74,
   "outputs": [],
   "source": [
    "def check_event_date(event_id):\n",
    "    event = get_event(event_id)\n",
    "    event_date = event['info']['eventDate']\n",
    "    # print(event_date)\n",
    "    \n",
    "    similar_after_event = []\n",
    "    for similar in event['similarEvents']:\n",
    "        similar_date = similar['eventDate']\n",
    "        similar_after_event.append(similar_date + 30 >= event_date)\n",
    "        # print(similar_date)\n",
    "            \n",
    "    # return true if all similar events take place after the event\n",
    "    return all(similar_after_event)"
   ],
   "metadata": {
    "collapsed": false,
    "ExecuteTime": {
     "end_time": "2023-12-08T08:27:25.948545Z",
     "start_time": "2023-12-08T08:27:25.943629Z"
    }
   },
   "id": "ebad73cb6b48eb3"
  },
  {
   "cell_type": "code",
   "execution_count": 70,
   "outputs": [
    {
     "data": {
      "text/plain": "info             {'uri': 'e_22846', 'articleCounts': {'total': ...\nsimilarEvents    [{'eventDateEnd': '', 'uri': 'e_2204068', 'sim...\nName: e_22846, dtype: object"
     },
     "execution_count": 70,
     "metadata": {},
     "output_type": "execute_result"
    }
   ],
   "source": [
    "get_event(ids[0])"
   ],
   "metadata": {
    "collapsed": false,
    "ExecuteTime": {
     "end_time": "2023-12-08T08:26:38.287629Z",
     "start_time": "2023-12-08T08:26:38.228853Z"
    }
   },
   "id": "ce42febe4107e135"
  },
  {
   "cell_type": "code",
   "execution_count": 75,
   "outputs": [
    {
     "name": "stdout",
     "output_type": "stream",
     "text": [
      "True\n",
      "True\n",
      "True\n",
      "True\n",
      "True\n",
      "True\n",
      "True\n",
      "True\n",
      "True\n",
      "True\n",
      "True\n",
      "True\n",
      "True\n",
      "True\n",
      "True\n",
      "True\n",
      "True\n",
      "True\n",
      "True\n",
      "True\n",
      "True\n",
      "True\n",
      "True\n",
      "True\n",
      "True\n",
      "True\n",
      "True\n",
      "True\n",
      "True\n",
      "True\n",
      "True\n",
      "True\n",
      "True\n",
      "True\n",
      "True\n",
      "True\n",
      "True\n",
      "True\n",
      "False\n",
      "True\n",
      "True\n",
      "True\n",
      "True\n",
      "True\n",
      "True\n",
      "True\n",
      "True\n",
      "True\n",
      "True\n",
      "True\n",
      "True\n",
      "True\n",
      "True\n",
      "True\n",
      "True\n",
      "True\n",
      "True\n",
      "True\n",
      "True\n",
      "True\n",
      "True\n",
      "True\n",
      "True\n",
      "True\n",
      "True\n",
      "False\n",
      "True\n",
      "True\n",
      "True\n",
      "True\n",
      "True\n",
      "True\n",
      "True\n",
      "True\n",
      "True\n",
      "True\n",
      "True\n",
      "True\n",
      "True\n",
      "True\n",
      "True\n",
      "True\n",
      "True\n",
      "True\n",
      "True\n",
      "True\n",
      "True\n",
      "True\n",
      "True\n",
      "False\n",
      "True\n"
     ]
    }
   ],
   "source": [
    "for event_id in ids:\n",
    "    print(check_event_date(event_id))"
   ],
   "metadata": {
    "collapsed": false,
    "ExecuteTime": {
     "end_time": "2023-12-08T08:27:31.488502Z",
     "start_time": "2023-12-08T08:27:27.614929Z"
    }
   },
   "id": "d2e31dad80cc2183"
  },
  {
   "cell_type": "code",
   "execution_count": 68,
   "outputs": [
    {
     "name": "stdout",
     "output_type": "stream",
     "text": [
      "16062\n",
      "16242\n",
      "16093\n",
      "16103\n",
      "16150\n",
      "16058\n",
      "16102\n",
      "16103\n",
      "16118\n",
      "16063\n",
      "16061\n",
      "16079\n",
      "16172\n",
      "16216\n",
      "16087\n",
      "16254\n",
      "16145\n",
      "16086\n",
      "16094\n",
      "16466\n",
      "16151\n"
     ]
    },
    {
     "data": {
      "text/plain": "False"
     },
     "execution_count": 68,
     "metadata": {},
     "output_type": "execute_result"
    }
   ],
   "source": [
    "check_event_date(ids[1])"
   ],
   "metadata": {
    "collapsed": false,
    "ExecuteTime": {
     "end_time": "2023-12-08T08:25:36.215600Z",
     "start_time": "2023-12-08T08:25:36.159724Z"
    }
   },
   "id": "202a363bb2fd7b40"
  },
  {
   "cell_type": "code",
   "execution_count": 81,
   "outputs": [],
   "source": [
    "def get_similar_events(event_id):\n",
    "    event = get_event(event_id)\n",
    "    event_date = event['info']['eventDate']\n",
    "    similar_events = event['similarEvents']\n",
    "    \n",
    "    # filter similar events that take place BEFORE the event\n",
    "    similar_events = [similar for similar in similar_events if similar['eventDate'] < event_date]\n",
    "    return similar_events"
   ],
   "metadata": {
    "collapsed": false,
    "ExecuteTime": {
     "end_time": "2023-12-08T08:32:07.219931Z",
     "start_time": "2023-12-08T08:32:07.204573Z"
    }
   },
   "id": "b95619a263d7e9a6"
  },
  {
   "cell_type": "code",
   "execution_count": 86,
   "outputs": [],
   "source": [
    "id = ids[1]\n",
    "event = get_event(id)\n",
    "event_date = event['info']['eventDate']\n",
    "similar_events = []\n",
    "for similar in get_similar_events(id):\n",
    "    similar_events.append(get_event(similar['uri']))"
   ],
   "metadata": {
    "collapsed": false,
    "ExecuteTime": {
     "end_time": "2023-12-08T08:32:21.968652Z",
     "start_time": "2023-12-08T08:32:21.832467Z"
    }
   },
   "id": "8576b0629f5054f4"
  },
  {
   "cell_type": "code",
   "execution_count": 87,
   "outputs": [
    {
     "data": {
      "text/plain": "[info             {'uri': 'e_23914', 'articleCounts': {'spa': 46...\n similarEvents    [{'eventDateEnd': '', 'uri': 'e_888983', 'sim'...\n Name: e_23914, dtype: object,\n info             {'uri': 'e_21730', 'articleCounts': {'spa': 11...\n similarEvents    [{'eventDateEnd': '', 'uri': 'e_199246', 'sim'...\n Name: e_21730, dtype: object]"
     },
     "execution_count": 87,
     "metadata": {},
     "output_type": "execute_result"
    }
   ],
   "source": [
    "similar_events"
   ],
   "metadata": {
    "collapsed": false,
    "ExecuteTime": {
     "end_time": "2023-12-08T08:32:23.341367Z",
     "start_time": "2023-12-08T08:32:23.327017Z"
    }
   },
   "id": "ce235c514072129"
  },
  {
   "cell_type": "code",
   "execution_count": 84,
   "outputs": [
    {
     "data": {
      "text/plain": "[]"
     },
     "execution_count": 84,
     "metadata": {},
     "output_type": "execute_result"
    }
   ],
   "source": [
    "get_similar_events(id)"
   ],
   "metadata": {
    "collapsed": false,
    "ExecuteTime": {
     "end_time": "2023-12-08T08:32:09.980331Z",
     "start_time": "2023-12-08T08:32:09.939954Z"
    }
   },
   "id": "28a1839348cd8ca6"
  },
  {
   "cell_type": "code",
   "execution_count": 88,
   "outputs": [],
   "source": [
    "def get_k_hop(event_id, k=1):\n",
    "    event = get_event(event_id)\n",
    "    event_date = event['info']['eventDate']\n",
    "    similar_events = event['similarEvents']\n",
    "    \n",
    "    # filter similar events that take place BEFORE the event\n",
    "    similar_events = [similar for similar in similar_events if similar['eventDate'] < event_date]\n",
    "    \n",
    "    if k == 1:\n",
    "        return similar_events\n",
    "    \n",
    "    k_hop = []\n",
    "    for similar in similar_events:\n",
    "        k_hop.extend(get_k_hop(similar['uri'], k-1))\n",
    "        \n",
    "    return k_hop"
   ],
   "metadata": {
    "collapsed": false,
    "ExecuteTime": {
     "end_time": "2023-12-08T08:33:04.385490Z",
     "start_time": "2023-12-08T08:33:04.367488Z"
    }
   },
   "id": "e7ac8edc9ea5d304"
  },
  {
   "cell_type": "code",
   "execution_count": 90,
   "outputs": [
    {
     "name": "stdout",
     "output_type": "stream",
     "text": [
      "0\n",
      "2\n",
      "0\n",
      "0\n",
      "38\n",
      "0\n",
      "18\n",
      "0\n",
      "3\n",
      "0\n",
      "0\n",
      "0\n",
      "0\n",
      "0\n",
      "0\n",
      "0\n",
      "0\n",
      "7\n",
      "0\n",
      "0\n",
      "0\n",
      "0\n",
      "1\n",
      "0\n",
      "14\n",
      "0\n",
      "1\n",
      "0\n",
      "0\n",
      "0\n",
      "0\n",
      "69\n",
      "0\n",
      "0\n",
      "1\n",
      "0\n",
      "105\n",
      "66\n",
      "36\n",
      "0\n",
      "0\n",
      "0\n",
      "3\n",
      "0\n",
      "0\n",
      "0\n",
      "0\n",
      "1\n",
      "0\n",
      "3\n",
      "2\n",
      "1\n",
      "2\n",
      "0\n",
      "0\n",
      "0\n",
      "0\n",
      "2\n",
      "3\n",
      "0\n",
      "8\n",
      "0\n",
      "71\n",
      "0\n",
      "0\n",
      "6\n",
      "1\n",
      "0\n",
      "0\n",
      "0\n",
      "1\n",
      "0\n",
      "0\n",
      "0\n",
      "17\n",
      "0\n",
      "0\n",
      "0\n",
      "0\n",
      "1\n",
      "1\n",
      "0\n",
      "0\n",
      "0\n",
      "0\n",
      "0\n",
      "0\n",
      "0\n",
      "0\n",
      "2\n",
      "30\n"
     ]
    }
   ],
   "source": [
    "for event_id in ids:\n",
    "    khop = get_k_hop(event_id, 2)\n",
    "    print(len(khop))"
   ],
   "metadata": {
    "collapsed": false,
    "ExecuteTime": {
     "end_time": "2023-12-08T08:33:51.056962Z",
     "start_time": "2023-12-08T08:33:40.943080Z"
    }
   },
   "id": "fa6d8124b5220742"
  },
  {
   "cell_type": "code",
   "execution_count": null,
   "outputs": [],
   "source": [],
   "metadata": {
    "collapsed": false
   },
   "id": "aa80f8aedd4aceee"
  }
 ],
 "metadata": {
  "kernelspec": {
   "display_name": "Python 3",
   "language": "python",
   "name": "python3"
  },
  "language_info": {
   "codemirror_mode": {
    "name": "ipython",
    "version": 2
   },
   "file_extension": ".py",
   "mimetype": "text/x-python",
   "name": "python",
   "nbconvert_exporter": "python",
   "pygments_lexer": "ipython2",
   "version": "2.7.6"
  }
 },
 "nbformat": 4,
 "nbformat_minor": 5
}
