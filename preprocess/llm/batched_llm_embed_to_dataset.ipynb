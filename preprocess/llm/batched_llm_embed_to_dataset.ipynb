{
 "cells": [
  {
   "cell_type": "code",
   "execution_count": 1,
   "id": "2578715629e8514c",
   "metadata": {
    "collapsed": false,
    "ExecuteTime": {
     "end_time": "2023-11-15T10:36:36.901020Z",
     "start_time": "2023-11-15T10:36:36.286997Z"
    },
    "pycharm": {
     "name": "#%%\n"
    }
   },
   "outputs": [],
   "source": [
    "import pandas as pd\n",
    "\n",
    "df = pd.read_pickle(\"../data/text/dataset.pkl\")"
   ]
  },
  {
   "cell_type": "code",
   "execution_count": 2,
   "id": "f0541bba2f8573f9",
   "metadata": {
    "collapsed": false,
    "ExecuteTime": {
     "end_time": "2023-11-15T10:36:36.904270Z",
     "start_time": "2023-11-15T10:36:36.902244Z"
    },
    "pycharm": {
     "name": "#%%\n"
    }
   },
   "outputs": [
    {
     "data": {
      "text/plain": "(196052, 5)"
     },
     "execution_count": 2,
     "metadata": {},
     "output_type": "execute_result"
    }
   ],
   "source": [
    "df.shape"
   ]
  },
  {
   "cell_type": "code",
   "execution_count": 3,
   "metadata": {
    "ExecuteTime": {
     "end_time": "2023-11-15T10:36:36.915243Z",
     "start_time": "2023-11-15T10:36:36.907585Z"
    },
    "pycharm": {
     "name": "#%%\n"
    }
   },
   "outputs": [
    {
     "data": {
      "text/plain": "     lang                                              title  \\\nid                                                             \ne_11  eng                  Bombing survivor and nurse to wed   \ne_10  eng               Trade Idea: GBP/USD - Sell at 1.6450   \ne_13  eng  Too cool for Yule? Have a hipster Christmas in...   \ne_12  eng  Opening Bell: Cues that will help you trade be...   \ne_15  eng                       On Colorado shooter's arm...   \n\n                                                summary article_count  \\\nid                                                                      \ne_11  A man seriously wounded in the Boston bombing ...             7   \ne_10  Although the British pound rallied to 1.6485 y...           221   \ne_13  Unlike you, hipsters don't want any old Christ...             9   \ne_12  The Sensex plunged 210.03 points to 20,715.58 ...             1   \ne_15  (CNN) -- Colorado shooter Karl Pierson had wri...             8   \n\n     event_date  \nid               \ne_11      16057  \ne_10      16058  \ne_13      16059  \ne_12      16054  \ne_15      16057  ",
      "text/html": "<div>\n<style scoped>\n    .dataframe tbody tr th:only-of-type {\n        vertical-align: middle;\n    }\n\n    .dataframe tbody tr th {\n        vertical-align: top;\n    }\n\n    .dataframe thead th {\n        text-align: right;\n    }\n</style>\n<table border=\"1\" class=\"dataframe\">\n  <thead>\n    <tr style=\"text-align: right;\">\n      <th></th>\n      <th>lang</th>\n      <th>title</th>\n      <th>summary</th>\n      <th>article_count</th>\n      <th>event_date</th>\n    </tr>\n    <tr>\n      <th>id</th>\n      <th></th>\n      <th></th>\n      <th></th>\n      <th></th>\n      <th></th>\n    </tr>\n  </thead>\n  <tbody>\n    <tr>\n      <th>e_11</th>\n      <td>eng</td>\n      <td>Bombing survivor and nurse to wed</td>\n      <td>A man seriously wounded in the Boston bombing ...</td>\n      <td>7</td>\n      <td>16057</td>\n    </tr>\n    <tr>\n      <th>e_10</th>\n      <td>eng</td>\n      <td>Trade Idea: GBP/USD - Sell at 1.6450</td>\n      <td>Although the British pound rallied to 1.6485 y...</td>\n      <td>221</td>\n      <td>16058</td>\n    </tr>\n    <tr>\n      <th>e_13</th>\n      <td>eng</td>\n      <td>Too cool for Yule? Have a hipster Christmas in...</td>\n      <td>Unlike you, hipsters don't want any old Christ...</td>\n      <td>9</td>\n      <td>16059</td>\n    </tr>\n    <tr>\n      <th>e_12</th>\n      <td>eng</td>\n      <td>Opening Bell: Cues that will help you trade be...</td>\n      <td>The Sensex plunged 210.03 points to 20,715.58 ...</td>\n      <td>1</td>\n      <td>16054</td>\n    </tr>\n    <tr>\n      <th>e_15</th>\n      <td>eng</td>\n      <td>On Colorado shooter's arm...</td>\n      <td>(CNN) -- Colorado shooter Karl Pierson had wri...</td>\n      <td>8</td>\n      <td>16057</td>\n    </tr>\n  </tbody>\n</table>\n</div>"
     },
     "execution_count": 3,
     "metadata": {},
     "output_type": "execute_result"
    }
   ],
   "source": [
    "df.head()"
   ],
   "id": "10bf2c3d68fd483"
  },
  {
   "cell_type": "code",
   "execution_count": 1,
   "metadata": {
    "ExecuteTime": {
     "end_time": "2023-11-17T16:05:49.019099Z",
     "start_time": "2023-11-17T16:05:49.013162Z"
    },
    "pycharm": {
     "name": "#%%\n"
    }
   },
   "outputs": [],
   "source": [
    "# search for pkl files that start with batch_\n",
    "import glob\n",
    "\n",
    "pkl_files = sorted(glob.glob(\"../../data/text/embeds/batch_*.pkl\"))"
   ],
   "id": "f791458ca5a1f417"
  },
  {
   "cell_type": "code",
   "execution_count": 25,
   "outputs": [
    {
     "data": {
      "text/plain": "['../../data/text/embeds/batch_0.pkl',\n '../../data/text/embeds/batch_1000.pkl',\n '../../data/text/embeds/batch_10000.pkl',\n '../../data/text/embeds/batch_100000.pkl',\n '../../data/text/embeds/batch_101000.pkl',\n '../../data/text/embeds/batch_102000.pkl',\n '../../data/text/embeds/batch_103000.pkl',\n '../../data/text/embeds/batch_104000.pkl',\n '../../data/text/embeds/batch_105000.pkl',\n '../../data/text/embeds/batch_106000.pkl',\n '../../data/text/embeds/batch_107000.pkl',\n '../../data/text/embeds/batch_108000.pkl',\n '../../data/text/embeds/batch_109000.pkl',\n '../../data/text/embeds/batch_11000.pkl',\n '../../data/text/embeds/batch_110000.pkl',\n '../../data/text/embeds/batch_111000.pkl',\n '../../data/text/embeds/batch_112000.pkl',\n '../../data/text/embeds/batch_113000.pkl',\n '../../data/text/embeds/batch_114000.pkl',\n '../../data/text/embeds/batch_115000.pkl',\n '../../data/text/embeds/batch_116000.pkl',\n '../../data/text/embeds/batch_117000.pkl',\n '../../data/text/embeds/batch_118000.pkl',\n '../../data/text/embeds/batch_119000.pkl',\n '../../data/text/embeds/batch_12000.pkl',\n '../../data/text/embeds/batch_120000.pkl',\n '../../data/text/embeds/batch_121000.pkl',\n '../../data/text/embeds/batch_122000.pkl',\n '../../data/text/embeds/batch_123000.pkl',\n '../../data/text/embeds/batch_124000.pkl',\n '../../data/text/embeds/batch_125000.pkl',\n '../../data/text/embeds/batch_126000.pkl',\n '../../data/text/embeds/batch_127000.pkl',\n '../../data/text/embeds/batch_128000.pkl',\n '../../data/text/embeds/batch_129000.pkl',\n '../../data/text/embeds/batch_13000.pkl',\n '../../data/text/embeds/batch_130000.pkl',\n '../../data/text/embeds/batch_131000.pkl',\n '../../data/text/embeds/batch_132000.pkl',\n '../../data/text/embeds/batch_133000.pkl',\n '../../data/text/embeds/batch_134000.pkl',\n '../../data/text/embeds/batch_135000.pkl',\n '../../data/text/embeds/batch_136000.pkl',\n '../../data/text/embeds/batch_137000.pkl',\n '../../data/text/embeds/batch_138000.pkl',\n '../../data/text/embeds/batch_139000.pkl',\n '../../data/text/embeds/batch_14000.pkl',\n '../../data/text/embeds/batch_140000.pkl',\n '../../data/text/embeds/batch_141000.pkl',\n '../../data/text/embeds/batch_142000.pkl',\n '../../data/text/embeds/batch_143000.pkl',\n '../../data/text/embeds/batch_144000.pkl',\n '../../data/text/embeds/batch_145000.pkl',\n '../../data/text/embeds/batch_146000.pkl',\n '../../data/text/embeds/batch_147000.pkl',\n '../../data/text/embeds/batch_148000.pkl',\n '../../data/text/embeds/batch_149000.pkl',\n '../../data/text/embeds/batch_15000.pkl',\n '../../data/text/embeds/batch_150000.pkl',\n '../../data/text/embeds/batch_151000.pkl',\n '../../data/text/embeds/batch_152000.pkl',\n '../../data/text/embeds/batch_153000.pkl',\n '../../data/text/embeds/batch_154000.pkl',\n '../../data/text/embeds/batch_155000.pkl',\n '../../data/text/embeds/batch_156000.pkl',\n '../../data/text/embeds/batch_157000.pkl',\n '../../data/text/embeds/batch_158000.pkl',\n '../../data/text/embeds/batch_159000.pkl',\n '../../data/text/embeds/batch_16000.pkl',\n '../../data/text/embeds/batch_160000.pkl',\n '../../data/text/embeds/batch_161000.pkl',\n '../../data/text/embeds/batch_162000.pkl',\n '../../data/text/embeds/batch_163000.pkl',\n '../../data/text/embeds/batch_164000.pkl',\n '../../data/text/embeds/batch_165000.pkl',\n '../../data/text/embeds/batch_166000.pkl',\n '../../data/text/embeds/batch_167000.pkl',\n '../../data/text/embeds/batch_168000.pkl',\n '../../data/text/embeds/batch_169000.pkl',\n '../../data/text/embeds/batch_17000.pkl',\n '../../data/text/embeds/batch_170000.pkl',\n '../../data/text/embeds/batch_171000.pkl',\n '../../data/text/embeds/batch_172000.pkl',\n '../../data/text/embeds/batch_173000.pkl',\n '../../data/text/embeds/batch_174000.pkl',\n '../../data/text/embeds/batch_175000.pkl',\n '../../data/text/embeds/batch_176000.pkl',\n '../../data/text/embeds/batch_177000.pkl',\n '../../data/text/embeds/batch_178000.pkl',\n '../../data/text/embeds/batch_179000.pkl',\n '../../data/text/embeds/batch_18000.pkl',\n '../../data/text/embeds/batch_180000.pkl',\n '../../data/text/embeds/batch_181000.pkl',\n '../../data/text/embeds/batch_182000.pkl',\n '../../data/text/embeds/batch_183000.pkl',\n '../../data/text/embeds/batch_184000.pkl',\n '../../data/text/embeds/batch_185000.pkl',\n '../../data/text/embeds/batch_186000.pkl',\n '../../data/text/embeds/batch_187000.pkl',\n '../../data/text/embeds/batch_188000.pkl',\n '../../data/text/embeds/batch_189000.pkl',\n '../../data/text/embeds/batch_19000.pkl',\n '../../data/text/embeds/batch_190000.pkl',\n '../../data/text/embeds/batch_191000.pkl',\n '../../data/text/embeds/batch_192000.pkl',\n '../../data/text/embeds/batch_193000.pkl',\n '../../data/text/embeds/batch_194000.pkl',\n '../../data/text/embeds/batch_2000.pkl',\n '../../data/text/embeds/batch_20000.pkl',\n '../../data/text/embeds/batch_21000.pkl',\n '../../data/text/embeds/batch_22000.pkl',\n '../../data/text/embeds/batch_23000.pkl',\n '../../data/text/embeds/batch_24000.pkl',\n '../../data/text/embeds/batch_25000.pkl',\n '../../data/text/embeds/batch_26000.pkl',\n '../../data/text/embeds/batch_27000.pkl',\n '../../data/text/embeds/batch_28000.pkl',\n '../../data/text/embeds/batch_29000.pkl',\n '../../data/text/embeds/batch_3000.pkl',\n '../../data/text/embeds/batch_30000.pkl',\n '../../data/text/embeds/batch_31000.pkl',\n '../../data/text/embeds/batch_32000.pkl',\n '../../data/text/embeds/batch_33000.pkl',\n '../../data/text/embeds/batch_34000.pkl',\n '../../data/text/embeds/batch_35000.pkl',\n '../../data/text/embeds/batch_36000.pkl',\n '../../data/text/embeds/batch_37000.pkl',\n '../../data/text/embeds/batch_38000.pkl',\n '../../data/text/embeds/batch_39000.pkl',\n '../../data/text/embeds/batch_4000.pkl',\n '../../data/text/embeds/batch_40000.pkl',\n '../../data/text/embeds/batch_41000.pkl',\n '../../data/text/embeds/batch_42000.pkl',\n '../../data/text/embeds/batch_43000.pkl',\n '../../data/text/embeds/batch_44000.pkl',\n '../../data/text/embeds/batch_45000.pkl',\n '../../data/text/embeds/batch_46000.pkl',\n '../../data/text/embeds/batch_47000.pkl',\n '../../data/text/embeds/batch_48000.pkl',\n '../../data/text/embeds/batch_49000.pkl',\n '../../data/text/embeds/batch_5000.pkl',\n '../../data/text/embeds/batch_50000.pkl',\n '../../data/text/embeds/batch_51000.pkl',\n '../../data/text/embeds/batch_52000.pkl',\n '../../data/text/embeds/batch_53000.pkl',\n '../../data/text/embeds/batch_54000.pkl',\n '../../data/text/embeds/batch_55000.pkl',\n '../../data/text/embeds/batch_56000.pkl',\n '../../data/text/embeds/batch_57000.pkl',\n '../../data/text/embeds/batch_58000.pkl',\n '../../data/text/embeds/batch_59000.pkl',\n '../../data/text/embeds/batch_6000.pkl',\n '../../data/text/embeds/batch_60000.pkl',\n '../../data/text/embeds/batch_61000.pkl',\n '../../data/text/embeds/batch_62000.pkl',\n '../../data/text/embeds/batch_63000.pkl',\n '../../data/text/embeds/batch_64000.pkl',\n '../../data/text/embeds/batch_65000.pkl',\n '../../data/text/embeds/batch_66000.pkl',\n '../../data/text/embeds/batch_67000.pkl',\n '../../data/text/embeds/batch_68000.pkl',\n '../../data/text/embeds/batch_69000.pkl',\n '../../data/text/embeds/batch_7000.pkl',\n '../../data/text/embeds/batch_70000.pkl',\n '../../data/text/embeds/batch_71000.pkl',\n '../../data/text/embeds/batch_72000.pkl',\n '../../data/text/embeds/batch_73000.pkl',\n '../../data/text/embeds/batch_74000.pkl',\n '../../data/text/embeds/batch_75000.pkl',\n '../../data/text/embeds/batch_76000.pkl',\n '../../data/text/embeds/batch_77000.pkl',\n '../../data/text/embeds/batch_78000.pkl',\n '../../data/text/embeds/batch_79000.pkl',\n '../../data/text/embeds/batch_8000.pkl',\n '../../data/text/embeds/batch_80000.pkl',\n '../../data/text/embeds/batch_81000.pkl',\n '../../data/text/embeds/batch_82000.pkl',\n '../../data/text/embeds/batch_83000.pkl',\n '../../data/text/embeds/batch_84000.pkl',\n '../../data/text/embeds/batch_85000.pkl',\n '../../data/text/embeds/batch_86000.pkl',\n '../../data/text/embeds/batch_87000.pkl',\n '../../data/text/embeds/batch_88000.pkl',\n '../../data/text/embeds/batch_89000.pkl',\n '../../data/text/embeds/batch_9000.pkl',\n '../../data/text/embeds/batch_90000.pkl',\n '../../data/text/embeds/batch_91000.pkl',\n '../../data/text/embeds/batch_92000.pkl',\n '../../data/text/embeds/batch_93000.pkl',\n '../../data/text/embeds/batch_94000.pkl',\n '../../data/text/embeds/batch_95000.pkl',\n '../../data/text/embeds/batch_96000.pkl',\n '../../data/text/embeds/batch_97000.pkl',\n '../../data/text/embeds/batch_98000.pkl',\n '../../data/text/embeds/batch_99000.pkl']"
     },
     "execution_count": 25,
     "metadata": {},
     "output_type": "execute_result"
    }
   ],
   "source": [
    "pkl_files"
   ],
   "metadata": {
    "collapsed": false,
    "ExecuteTime": {
     "end_time": "2023-11-17T16:57:08.962625Z",
     "start_time": "2023-11-17T16:57:08.956987Z"
    },
    "pycharm": {
     "name": "#%%\n"
    }
   },
   "id": "43de1aaaaf3b433"
  },
  {
   "cell_type": "code",
   "execution_count": 27,
   "outputs": [],
   "source": [
    "import pickle\n",
    "with open('../../data/text/embeds_1_to_199/batch_194000.pkl', \"rb\") as f:\n",
    "        batch = pickle.load(f)"
   ],
   "metadata": {
    "collapsed": false,
    "ExecuteTime": {
     "end_time": "2023-11-17T16:57:22.888983Z",
     "start_time": "2023-11-17T16:57:22.879596Z"
    },
    "pycharm": {
     "name": "#%%\n"
    }
   },
   "id": "dbb95bc3f1588611"
  },
  {
   "cell_type": "code",
   "execution_count": 28,
   "outputs": [
    {
     "data": {
      "text/plain": "'e_198982'"
     },
     "execution_count": 28,
     "metadata": {},
     "output_type": "execute_result"
    }
   ],
   "source": [
    "list(batch.keys())[-1]"
   ],
   "metadata": {
    "collapsed": false,
    "ExecuteTime": {
     "end_time": "2023-11-17T16:57:24.394616Z",
     "start_time": "2023-11-17T16:57:24.377370Z"
    },
    "pycharm": {
     "name": "#%%\n"
    }
   },
   "id": "e4ee3a6b0631513f"
  },
  {
   "cell_type": "code",
   "execution_count": 34,
   "outputs": [],
   "source": [
    "with open(\"../../data/preprocessed/events-00200.pkl\", 'rb') as f:\n",
    "    events = pickle.load(f)"
   ],
   "metadata": {
    "collapsed": false,
    "ExecuteTime": {
     "end_time": "2023-11-17T16:58:21.677366Z",
     "start_time": "2023-11-17T16:58:21.646336Z"
    },
    "pycharm": {
     "name": "#%%\n"
    }
   },
   "id": "6f88c8dc3cec4acd"
  },
  {
   "cell_type": "code",
   "execution_count": 35,
   "outputs": [
    {
     "data": {
      "text/plain": "info             {'uri': 'e_199009', 'articleCounts': {'total':...\nsimilarEvents    [{'eventDateEnd': '', 'uri': 'e_241359', 'sim'...\nName: 0, dtype: object"
     },
     "execution_count": 35,
     "metadata": {},
     "output_type": "execute_result"
    }
   ],
   "source": [
    "events.loc[0]"
   ],
   "metadata": {
    "collapsed": false,
    "ExecuteTime": {
     "end_time": "2023-11-17T16:58:22.106873Z",
     "start_time": "2023-11-17T16:58:22.100640Z"
    },
    "pycharm": {
     "name": "#%%\n"
    }
   },
   "id": "df12616c69829d58"
  },
  {
   "cell_type": "code",
   "execution_count": 5,
   "metadata": {
    "ExecuteTime": {
     "end_time": "2023-11-15T10:36:36.977037Z",
     "start_time": "2023-11-15T10:36:36.923884Z"
    },
    "pycharm": {
     "name": "#%%\n"
    }
   },
   "outputs": [],
   "source": [
    "df[\"title_embed\"] = None\n",
    "df[\"summary_embed\"] = None"
   ],
   "id": "8dc4105aca54bf98"
  },
  {
   "cell_type": "code",
   "execution_count": 6,
   "metadata": {
    "ExecuteTime": {
     "end_time": "2023-11-15T10:36:40.152752Z",
     "start_time": "2023-11-15T10:36:36.930619Z"
    },
    "pycharm": {
     "name": "#%%\n"
    }
   },
   "outputs": [],
   "source": [
    "import pickle\n",
    "\n",
    "for batch_file in pkl_files:\n",
    "    with open(batch_file, \"rb\") as f:\n",
    "        batch = pickle.load(f)\n",
    "\n",
    "    for id in batch.keys():\n",
    "        df.at[id, \"title_embed\"] = batch[id][\"title_embed\"]\n",
    "        df.at[id, \"summary_embed\"] = batch[id][\"summary_embed\"]\n"
   ],
   "id": "1c6b1e5edbe65394"
  },
  {
   "cell_type": "code",
   "execution_count": 7,
   "metadata": {
    "ExecuteTime": {
     "end_time": "2023-11-15T10:36:40.277394Z",
     "start_time": "2023-11-15T10:36:40.253559Z"
    },
    "pycharm": {
     "name": "#%%\n"
    }
   },
   "outputs": [],
   "source": [
    "# find all rows with None values and drop them\n",
    "df = df.dropna()"
   ],
   "id": "d1baf14b45f0a563"
  },
  {
   "cell_type": "code",
   "execution_count": 8,
   "metadata": {
    "ExecuteTime": {
     "end_time": "2023-11-15T10:36:40.297756Z",
     "start_time": "2023-11-15T10:36:40.287241Z"
    },
    "pycharm": {
     "name": "#%%\n"
    }
   },
   "outputs": [
    {
     "data": {
      "text/plain": "     lang                                              title  \\\nid                                                             \ne_11  eng                  Bombing survivor and nurse to wed   \ne_10  eng               Trade Idea: GBP/USD - Sell at 1.6450   \ne_13  eng  Too cool for Yule? Have a hipster Christmas in...   \ne_12  eng  Opening Bell: Cues that will help you trade be...   \ne_15  eng                       On Colorado shooter's arm...   \n\n                                                summary article_count  \\\nid                                                                      \ne_11  A man seriously wounded in the Boston bombing ...             7   \ne_10  Although the British pound rallied to 1.6485 y...           221   \ne_13  Unlike you, hipsters don't want any old Christ...             9   \ne_12  The Sensex plunged 210.03 points to 20,715.58 ...             1   \ne_15  (CNN) -- Colorado shooter Karl Pierson had wri...             8   \n\n     event_date                                        title_embed  \\\nid                                                                   \ne_11      16057  [[0.47470707, -0.08501352, 0.26899937, -0.3635...   \ne_10      16058  [[0.17094071, -0.18888026, 0.28712985, -0.3610...   \ne_13      16059  [[0.2537402, -0.032281302, 0.37904784, -0.3181...   \ne_12      16054  [[0.23880291, 0.03649398, 0.32137018, -0.17099...   \ne_15      16057  [[0.3985864, -0.06734807, 0.40732777, -0.46121...   \n\n                                          summary_embed  \nid                                                       \ne_11  [[0.3377615, -0.26158097, 0.3140225, -0.212071...  \ne_10  [[0.1786896, -0.11662727, 0.19326286, -0.20948...  \ne_13  [[0.026874868, -0.09318099, 0.03552014, -0.026...  \ne_12  [[0.46094257, -0.36103615, 0.31917268, -0.6018...  \ne_15  [[0.5053371, -0.062929116, 0.27972195, -0.4317...  ",
      "text/html": "<div>\n<style scoped>\n    .dataframe tbody tr th:only-of-type {\n        vertical-align: middle;\n    }\n\n    .dataframe tbody tr th {\n        vertical-align: top;\n    }\n\n    .dataframe thead th {\n        text-align: right;\n    }\n</style>\n<table border=\"1\" class=\"dataframe\">\n  <thead>\n    <tr style=\"text-align: right;\">\n      <th></th>\n      <th>lang</th>\n      <th>title</th>\n      <th>summary</th>\n      <th>article_count</th>\n      <th>event_date</th>\n      <th>title_embed</th>\n      <th>summary_embed</th>\n    </tr>\n    <tr>\n      <th>id</th>\n      <th></th>\n      <th></th>\n      <th></th>\n      <th></th>\n      <th></th>\n      <th></th>\n      <th></th>\n    </tr>\n  </thead>\n  <tbody>\n    <tr>\n      <th>e_11</th>\n      <td>eng</td>\n      <td>Bombing survivor and nurse to wed</td>\n      <td>A man seriously wounded in the Boston bombing ...</td>\n      <td>7</td>\n      <td>16057</td>\n      <td>[[0.47470707, -0.08501352, 0.26899937, -0.3635...</td>\n      <td>[[0.3377615, -0.26158097, 0.3140225, -0.212071...</td>\n    </tr>\n    <tr>\n      <th>e_10</th>\n      <td>eng</td>\n      <td>Trade Idea: GBP/USD - Sell at 1.6450</td>\n      <td>Although the British pound rallied to 1.6485 y...</td>\n      <td>221</td>\n      <td>16058</td>\n      <td>[[0.17094071, -0.18888026, 0.28712985, -0.3610...</td>\n      <td>[[0.1786896, -0.11662727, 0.19326286, -0.20948...</td>\n    </tr>\n    <tr>\n      <th>e_13</th>\n      <td>eng</td>\n      <td>Too cool for Yule? Have a hipster Christmas in...</td>\n      <td>Unlike you, hipsters don't want any old Christ...</td>\n      <td>9</td>\n      <td>16059</td>\n      <td>[[0.2537402, -0.032281302, 0.37904784, -0.3181...</td>\n      <td>[[0.026874868, -0.09318099, 0.03552014, -0.026...</td>\n    </tr>\n    <tr>\n      <th>e_12</th>\n      <td>eng</td>\n      <td>Opening Bell: Cues that will help you trade be...</td>\n      <td>The Sensex plunged 210.03 points to 20,715.58 ...</td>\n      <td>1</td>\n      <td>16054</td>\n      <td>[[0.23880291, 0.03649398, 0.32137018, -0.17099...</td>\n      <td>[[0.46094257, -0.36103615, 0.31917268, -0.6018...</td>\n    </tr>\n    <tr>\n      <th>e_15</th>\n      <td>eng</td>\n      <td>On Colorado shooter's arm...</td>\n      <td>(CNN) -- Colorado shooter Karl Pierson had wri...</td>\n      <td>8</td>\n      <td>16057</td>\n      <td>[[0.3985864, -0.06734807, 0.40732777, -0.46121...</td>\n      <td>[[0.5053371, -0.062929116, 0.27972195, -0.4317...</td>\n    </tr>\n  </tbody>\n</table>\n</div>"
     },
     "execution_count": 8,
     "metadata": {},
     "output_type": "execute_result"
    }
   ],
   "source": [
    "df.head()"
   ],
   "id": "b68dbca046496779"
  },
  {
   "cell_type": "code",
   "execution_count": 9,
   "outputs": [],
   "source": [
    "for i, row in df.iterrows():\n",
    "    df.at[i, \"title_embed\"] = row[\"title_embed\"].flatten()\n",
    "    df.at[i, \"summary_embed\"] = row[\"summary_embed\"].flatten()"
   ],
   "metadata": {
    "collapsed": false,
    "ExecuteTime": {
     "end_time": "2023-11-15T10:36:46.219885Z",
     "start_time": "2023-11-15T10:36:40.297956Z"
    },
    "pycharm": {
     "name": "#%%\n"
    }
   },
   "id": "f734490a2916013f"
  },
  {
   "cell_type": "code",
   "execution_count": 10,
   "outputs": [],
   "source": [
    "df.to_pickle(\"../data/text/data_with_embeds.pkl\")"
   ],
   "metadata": {
    "collapsed": false,
    "ExecuteTime": {
     "end_time": "2023-11-15T10:36:48.837968Z",
     "start_time": "2023-11-15T10:36:46.215067Z"
    },
    "pycharm": {
     "name": "#%%\n"
    }
   },
   "id": "2e8734549b904ea0"
  },
  {
   "cell_type": "code",
   "execution_count": 13,
   "id": "c0de75575542f029",
   "metadata": {
    "collapsed": false,
    "ExecuteTime": {
     "end_time": "2023-11-10T16:55:10.083703Z",
     "start_time": "2023-11-10T16:55:10.075956Z"
    },
    "pycharm": {
     "name": "#%%\n"
    }
   },
   "outputs": [
    {
     "data": {
      "text/plain": "lang\neng    0.383823\nspa    0.314989\ndeu    0.207862\nzho    0.093326\nName: proportion, dtype: float64"
     },
     "execution_count": 13,
     "metadata": {},
     "output_type": "execute_result"
    }
   ],
   "source": [
    "# get unique languages and their counts (in percent)\n",
    "df[\"lang\"].value_counts(normalize=True)"
   ]
  },
  {
   "cell_type": "code",
   "execution_count": 14,
   "id": "93c645069c680667",
   "metadata": {
    "collapsed": false,
    "ExecuteTime": {
     "end_time": "2023-11-10T16:55:11.775983Z",
     "start_time": "2023-11-10T16:55:11.743240Z"
    },
    "pycharm": {
     "name": "#%%\n"
    }
   },
   "outputs": [
    {
     "data": {
      "text/plain": "lang\ndeu     8.816079\neng    20.265839\nspa     8.985457\nzho     8.310033\nName: article_count, dtype: object"
     },
     "execution_count": 14,
     "metadata": {},
     "output_type": "execute_result"
    }
   ],
   "source": [
    "# calculate the average article_count by language\n",
    "df.groupby(\"lang\")[\"article_count\"].mean()"
   ]
  },
  {
   "cell_type": "code",
   "execution_count": 15,
   "metadata": {
    "ExecuteTime": {
     "end_time": "2023-11-10T16:55:13.664410Z",
     "start_time": "2023-11-10T16:55:13.633779Z"
    },
    "pycharm": {
     "name": "#%%\n"
    }
   },
   "outputs": [],
   "source": [
    "# drop title and summary\n",
    "df = df.drop([\"title\", \"summary\"], axis=1)"
   ],
   "id": "8cb52956ec6d3cc8"
  },
  {
   "cell_type": "code",
   "execution_count": 16,
   "metadata": {
    "ExecuteTime": {
     "end_time": "2023-11-10T16:55:16.451865Z",
     "start_time": "2023-11-10T16:55:16.437875Z"
    },
    "pycharm": {
     "name": "#%%\n"
    }
   },
   "outputs": [],
   "source": [
    "# one-hot encode the language column\n",
    "# df = pd.get_dummies(df, columns=[\"lang\"])"
   ],
   "id": "65dad8d7ab2b29cb"
  },
  {
   "cell_type": "code",
   "execution_count": 17,
   "metadata": {
    "ExecuteTime": {
     "end_time": "2023-11-10T16:55:16.812858Z",
     "start_time": "2023-11-10T16:55:16.807096Z"
    },
    "pycharm": {
     "name": "#%%\n"
    }
   },
   "outputs": [
    {
     "data": {
      "text/plain": "     lang article_count event_date  \\\nid                                   \ne_11  eng             7      16057   \ne_10  eng           221      16058   \ne_13  eng             9      16059   \ne_12  eng             1      16054   \ne_15  eng             8      16057   \n\n                                            title_embed  \\\nid                                                        \ne_11  [0.47470707, -0.08501352, 0.26899937, -0.36353...   \ne_10  [0.17094071, -0.18888026, 0.28712985, -0.36104...   \ne_13  [0.2537402, -0.032281302, 0.37904784, -0.31818...   \ne_12  [0.23880291, 0.03649398, 0.32137018, -0.170995...   \ne_15  [0.3985864, -0.06734807, 0.40732777, -0.461210...   \n\n                                          summary_embed  \nid                                                       \ne_11  [0.3377615, -0.26158097, 0.3140225, -0.2120716...  \ne_10  [0.1786896, -0.11662727, 0.19326286, -0.20948,...  \ne_13  [0.026874868, -0.09318099, 0.03552014, -0.0260...  \ne_12  [0.46094257, -0.36103615, 0.31917268, -0.60180...  \ne_15  [0.5053371, -0.062929116, 0.27972195, -0.43177...  ",
      "text/html": "<div>\n<style scoped>\n    .dataframe tbody tr th:only-of-type {\n        vertical-align: middle;\n    }\n\n    .dataframe tbody tr th {\n        vertical-align: top;\n    }\n\n    .dataframe thead th {\n        text-align: right;\n    }\n</style>\n<table border=\"1\" class=\"dataframe\">\n  <thead>\n    <tr style=\"text-align: right;\">\n      <th></th>\n      <th>lang</th>\n      <th>article_count</th>\n      <th>event_date</th>\n      <th>title_embed</th>\n      <th>summary_embed</th>\n    </tr>\n    <tr>\n      <th>id</th>\n      <th></th>\n      <th></th>\n      <th></th>\n      <th></th>\n      <th></th>\n    </tr>\n  </thead>\n  <tbody>\n    <tr>\n      <th>e_11</th>\n      <td>eng</td>\n      <td>7</td>\n      <td>16057</td>\n      <td>[0.47470707, -0.08501352, 0.26899937, -0.36353...</td>\n      <td>[0.3377615, -0.26158097, 0.3140225, -0.2120716...</td>\n    </tr>\n    <tr>\n      <th>e_10</th>\n      <td>eng</td>\n      <td>221</td>\n      <td>16058</td>\n      <td>[0.17094071, -0.18888026, 0.28712985, -0.36104...</td>\n      <td>[0.1786896, -0.11662727, 0.19326286, -0.20948,...</td>\n    </tr>\n    <tr>\n      <th>e_13</th>\n      <td>eng</td>\n      <td>9</td>\n      <td>16059</td>\n      <td>[0.2537402, -0.032281302, 0.37904784, -0.31818...</td>\n      <td>[0.026874868, -0.09318099, 0.03552014, -0.0260...</td>\n    </tr>\n    <tr>\n      <th>e_12</th>\n      <td>eng</td>\n      <td>1</td>\n      <td>16054</td>\n      <td>[0.23880291, 0.03649398, 0.32137018, -0.170995...</td>\n      <td>[0.46094257, -0.36103615, 0.31917268, -0.60180...</td>\n    </tr>\n    <tr>\n      <th>e_15</th>\n      <td>eng</td>\n      <td>8</td>\n      <td>16057</td>\n      <td>[0.3985864, -0.06734807, 0.40732777, -0.461210...</td>\n      <td>[0.5053371, -0.062929116, 0.27972195, -0.43177...</td>\n    </tr>\n  </tbody>\n</table>\n</div>"
     },
     "execution_count": 17,
     "metadata": {},
     "output_type": "execute_result"
    }
   ],
   "source": [
    "df.head()"
   ],
   "id": "6ebf023ac0217c97"
  },
  {
   "cell_type": "code",
   "execution_count": 18,
   "metadata": {
    "ExecuteTime": {
     "end_time": "2023-11-10T16:55:29.011219Z",
     "start_time": "2023-11-10T16:55:26.937906Z"
    },
    "pycharm": {
     "name": "#%%\n"
    }
   },
   "outputs": [],
   "source": [
    "# save the dataframe as a pickle file\n",
    "df.to_pickle(\"../data/text/dataset_embedded.pkl\")"
   ],
   "id": "70267c772873ead5"
  },
  {
   "cell_type": "code",
   "execution_count": 19,
   "metadata": {
    "ExecuteTime": {
     "end_time": "2023-11-10T16:55:52.721264Z",
     "start_time": "2023-11-10T16:55:52.597096Z"
    },
    "pycharm": {
     "name": "#%%\n"
    }
   },
   "outputs": [],
   "source": [
    "df = df.drop([\"lang\", \"article_count\", \"event_date\"], axis=1)"
   ],
   "id": "c289ea94fcfb0af3"
  },
  {
   "cell_type": "code",
   "execution_count": 21,
   "outputs": [],
   "source": [
    "df.to_pickle(\"../data/text/llm_embeddings.pkl\")"
   ],
   "metadata": {
    "collapsed": false,
    "ExecuteTime": {
     "end_time": "2023-11-10T16:56:15.309744Z",
     "start_time": "2023-11-10T16:56:13.245299Z"
    },
    "pycharm": {
     "name": "#%%\n"
    }
   },
   "id": "eee37d7e486f6c4d"
  },
  {
   "cell_type": "code",
   "execution_count": null,
   "outputs": [],
   "source": [],
   "metadata": {
    "collapsed": false,
    "pycharm": {
     "name": "#%%\n"
    }
   },
   "id": "b94bd85343e4c0bc"
  }
 ],
 "metadata": {
  "kernelspec": {
   "display_name": "Python 3",
   "language": "python",
   "name": "python3"
  },
  "language_info": {
   "codemirror_mode": {
    "name": "ipython",
    "version": 3
   },
   "file_extension": ".py",
   "mimetype": "text/x-python",
   "name": "python",
   "nbconvert_exporter": "python",
   "pygments_lexer": "ipython3",
   "version": "3.10.8"
  }
 },
 "nbformat": 4,
 "nbformat_minor": 5
}