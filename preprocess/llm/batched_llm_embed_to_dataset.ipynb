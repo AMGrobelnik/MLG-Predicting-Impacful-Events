{
 "cells": [
  {
   "cell_type": "code",
   "execution_count": 1,
   "id": "2578715629e8514c",
   "metadata": {
    "collapsed": false,
    "ExecuteTime": {
     "end_time": "2023-11-15T10:36:36.901020Z",
     "start_time": "2023-11-15T10:36:36.286997Z"
    }
   },
   "outputs": [],
   "source": [
    "import pandas as pd\n",
    "\n",
    "df = pd.read_pickle(\"../data/text/dataset.pkl\")"
   ]
  },
  {
   "cell_type": "code",
   "execution_count": 2,
   "id": "f0541bba2f8573f9",
   "metadata": {
    "collapsed": false,
    "ExecuteTime": {
     "end_time": "2023-11-15T10:36:36.904270Z",
     "start_time": "2023-11-15T10:36:36.902244Z"
    }
   },
   "outputs": [
    {
     "data": {
      "text/plain": "(196052, 5)"
     },
     "execution_count": 2,
     "metadata": {},
     "output_type": "execute_result"
    }
   ],
   "source": [
    "df.shape"
   ]
  },
  {
   "cell_type": "code",
   "execution_count": 3,
   "metadata": {
    "ExecuteTime": {
     "end_time": "2023-11-15T10:36:36.915243Z",
     "start_time": "2023-11-15T10:36:36.907585Z"
    }
   },
   "outputs": [
    {
     "data": {
      "text/plain": "     lang                                              title  \\\nid                                                             \ne_11  eng                  Bombing survivor and nurse to wed   \ne_10  eng               Trade Idea: GBP/USD - Sell at 1.6450   \ne_13  eng  Too cool for Yule? Have a hipster Christmas in...   \ne_12  eng  Opening Bell: Cues that will help you trade be...   \ne_15  eng                       On Colorado shooter's arm...   \n\n                                                summary article_count  \\\nid                                                                      \ne_11  A man seriously wounded in the Boston bombing ...             7   \ne_10  Although the British pound rallied to 1.6485 y...           221   \ne_13  Unlike you, hipsters don't want any old Christ...             9   \ne_12  The Sensex plunged 210.03 points to 20,715.58 ...             1   \ne_15  (CNN) -- Colorado shooter Karl Pierson had wri...             8   \n\n     event_date  \nid               \ne_11      16057  \ne_10      16058  \ne_13      16059  \ne_12      16054  \ne_15      16057  ",
      "text/html": "<div>\n<style scoped>\n    .dataframe tbody tr th:only-of-type {\n        vertical-align: middle;\n    }\n\n    .dataframe tbody tr th {\n        vertical-align: top;\n    }\n\n    .dataframe thead th {\n        text-align: right;\n    }\n</style>\n<table border=\"1\" class=\"dataframe\">\n  <thead>\n    <tr style=\"text-align: right;\">\n      <th></th>\n      <th>lang</th>\n      <th>title</th>\n      <th>summary</th>\n      <th>article_count</th>\n      <th>event_date</th>\n    </tr>\n    <tr>\n      <th>id</th>\n      <th></th>\n      <th></th>\n      <th></th>\n      <th></th>\n      <th></th>\n    </tr>\n  </thead>\n  <tbody>\n    <tr>\n      <th>e_11</th>\n      <td>eng</td>\n      <td>Bombing survivor and nurse to wed</td>\n      <td>A man seriously wounded in the Boston bombing ...</td>\n      <td>7</td>\n      <td>16057</td>\n    </tr>\n    <tr>\n      <th>e_10</th>\n      <td>eng</td>\n      <td>Trade Idea: GBP/USD - Sell at 1.6450</td>\n      <td>Although the British pound rallied to 1.6485 y...</td>\n      <td>221</td>\n      <td>16058</td>\n    </tr>\n    <tr>\n      <th>e_13</th>\n      <td>eng</td>\n      <td>Too cool for Yule? Have a hipster Christmas in...</td>\n      <td>Unlike you, hipsters don't want any old Christ...</td>\n      <td>9</td>\n      <td>16059</td>\n    </tr>\n    <tr>\n      <th>e_12</th>\n      <td>eng</td>\n      <td>Opening Bell: Cues that will help you trade be...</td>\n      <td>The Sensex plunged 210.03 points to 20,715.58 ...</td>\n      <td>1</td>\n      <td>16054</td>\n    </tr>\n    <tr>\n      <th>e_15</th>\n      <td>eng</td>\n      <td>On Colorado shooter's arm...</td>\n      <td>(CNN) -- Colorado shooter Karl Pierson had wri...</td>\n      <td>8</td>\n      <td>16057</td>\n    </tr>\n  </tbody>\n</table>\n</div>"
     },
     "execution_count": 3,
     "metadata": {},
     "output_type": "execute_result"
    }
   ],
   "source": [
    "df.head()"
   ],
   "id": "10bf2c3d68fd483"
  },
  {
   "cell_type": "code",
   "execution_count": 4,
   "metadata": {
    "ExecuteTime": {
     "end_time": "2023-11-15T10:36:36.927248Z",
     "start_time": "2023-11-15T10:36:36.915476Z"
    }
   },
   "outputs": [],
   "source": [
    "# search for pkl files that start with batch_\n",
    "import glob\n",
    "\n",
    "pkl_files = sorted(glob.glob(\"../data/text/embeds/batch_*.pkl\"))"
   ],
   "id": "f791458ca5a1f417"
  },
  {
   "cell_type": "code",
   "execution_count": 5,
   "metadata": {
    "ExecuteTime": {
     "end_time": "2023-11-15T10:36:36.977037Z",
     "start_time": "2023-11-15T10:36:36.923884Z"
    }
   },
   "outputs": [],
   "source": [
    "df[\"title_embed\"] = None\n",
    "df[\"summary_embed\"] = None"
   ],
   "id": "8dc4105aca54bf98"
  },
  {
   "cell_type": "code",
   "execution_count": 6,
   "metadata": {
    "ExecuteTime": {
     "end_time": "2023-11-15T10:36:40.152752Z",
     "start_time": "2023-11-15T10:36:36.930619Z"
    }
   },
   "outputs": [],
   "source": [
    "import pickle\n",
    "\n",
    "for batch_file in pkl_files:\n",
    "    with open(batch_file, \"rb\") as f:\n",
    "        batch = pickle.load(f)\n",
    "\n",
    "    for id in batch.keys():\n",
    "        df.at[id, \"title_embed\"] = batch[id][\"title_embed\"]\n",
    "        df.at[id, \"summary_embed\"] = batch[id][\"summary_embed\"]\n"
   ],
   "id": "1c6b1e5edbe65394"
  },
  {
   "cell_type": "code",
   "execution_count": 7,
   "metadata": {
    "ExecuteTime": {
     "end_time": "2023-11-15T10:36:40.277394Z",
     "start_time": "2023-11-15T10:36:40.253559Z"
    }
   },
   "outputs": [],
   "source": [
    "# find all rows with None values and drop them\n",
    "df = df.dropna()"
   ],
   "id": "d1baf14b45f0a563"
  },
  {
   "cell_type": "code",
   "execution_count": 8,
   "metadata": {
    "ExecuteTime": {
     "end_time": "2023-11-15T10:36:40.297756Z",
     "start_time": "2023-11-15T10:36:40.287241Z"
    }
   },
   "outputs": [
    {
     "data": {
      "text/plain": "     lang                                              title  \\\nid                                                             \ne_11  eng                  Bombing survivor and nurse to wed   \ne_10  eng               Trade Idea: GBP/USD - Sell at 1.6450   \ne_13  eng  Too cool for Yule? Have a hipster Christmas in...   \ne_12  eng  Opening Bell: Cues that will help you trade be...   \ne_15  eng                       On Colorado shooter's arm...   \n\n                                                summary article_count  \\\nid                                                                      \ne_11  A man seriously wounded in the Boston bombing ...             7   \ne_10  Although the British pound rallied to 1.6485 y...           221   \ne_13  Unlike you, hipsters don't want any old Christ...             9   \ne_12  The Sensex plunged 210.03 points to 20,715.58 ...             1   \ne_15  (CNN) -- Colorado shooter Karl Pierson had wri...             8   \n\n     event_date                                        title_embed  \\\nid                                                                   \ne_11      16057  [[0.47470707, -0.08501352, 0.26899937, -0.3635...   \ne_10      16058  [[0.17094071, -0.18888026, 0.28712985, -0.3610...   \ne_13      16059  [[0.2537402, -0.032281302, 0.37904784, -0.3181...   \ne_12      16054  [[0.23880291, 0.03649398, 0.32137018, -0.17099...   \ne_15      16057  [[0.3985864, -0.06734807, 0.40732777, -0.46121...   \n\n                                          summary_embed  \nid                                                       \ne_11  [[0.3377615, -0.26158097, 0.3140225, -0.212071...  \ne_10  [[0.1786896, -0.11662727, 0.19326286, -0.20948...  \ne_13  [[0.026874868, -0.09318099, 0.03552014, -0.026...  \ne_12  [[0.46094257, -0.36103615, 0.31917268, -0.6018...  \ne_15  [[0.5053371, -0.062929116, 0.27972195, -0.4317...  ",
      "text/html": "<div>\n<style scoped>\n    .dataframe tbody tr th:only-of-type {\n        vertical-align: middle;\n    }\n\n    .dataframe tbody tr th {\n        vertical-align: top;\n    }\n\n    .dataframe thead th {\n        text-align: right;\n    }\n</style>\n<table border=\"1\" class=\"dataframe\">\n  <thead>\n    <tr style=\"text-align: right;\">\n      <th></th>\n      <th>lang</th>\n      <th>title</th>\n      <th>summary</th>\n      <th>article_count</th>\n      <th>event_date</th>\n      <th>title_embed</th>\n      <th>summary_embed</th>\n    </tr>\n    <tr>\n      <th>id</th>\n      <th></th>\n      <th></th>\n      <th></th>\n      <th></th>\n      <th></th>\n      <th></th>\n      <th></th>\n    </tr>\n  </thead>\n  <tbody>\n    <tr>\n      <th>e_11</th>\n      <td>eng</td>\n      <td>Bombing survivor and nurse to wed</td>\n      <td>A man seriously wounded in the Boston bombing ...</td>\n      <td>7</td>\n      <td>16057</td>\n      <td>[[0.47470707, -0.08501352, 0.26899937, -0.3635...</td>\n      <td>[[0.3377615, -0.26158097, 0.3140225, -0.212071...</td>\n    </tr>\n    <tr>\n      <th>e_10</th>\n      <td>eng</td>\n      <td>Trade Idea: GBP/USD - Sell at 1.6450</td>\n      <td>Although the British pound rallied to 1.6485 y...</td>\n      <td>221</td>\n      <td>16058</td>\n      <td>[[0.17094071, -0.18888026, 0.28712985, -0.3610...</td>\n      <td>[[0.1786896, -0.11662727, 0.19326286, -0.20948...</td>\n    </tr>\n    <tr>\n      <th>e_13</th>\n      <td>eng</td>\n      <td>Too cool for Yule? Have a hipster Christmas in...</td>\n      <td>Unlike you, hipsters don't want any old Christ...</td>\n      <td>9</td>\n      <td>16059</td>\n      <td>[[0.2537402, -0.032281302, 0.37904784, -0.3181...</td>\n      <td>[[0.026874868, -0.09318099, 0.03552014, -0.026...</td>\n    </tr>\n    <tr>\n      <th>e_12</th>\n      <td>eng</td>\n      <td>Opening Bell: Cues that will help you trade be...</td>\n      <td>The Sensex plunged 210.03 points to 20,715.58 ...</td>\n      <td>1</td>\n      <td>16054</td>\n      <td>[[0.23880291, 0.03649398, 0.32137018, -0.17099...</td>\n      <td>[[0.46094257, -0.36103615, 0.31917268, -0.6018...</td>\n    </tr>\n    <tr>\n      <th>e_15</th>\n      <td>eng</td>\n      <td>On Colorado shooter's arm...</td>\n      <td>(CNN) -- Colorado shooter Karl Pierson had wri...</td>\n      <td>8</td>\n      <td>16057</td>\n      <td>[[0.3985864, -0.06734807, 0.40732777, -0.46121...</td>\n      <td>[[0.5053371, -0.062929116, 0.27972195, -0.4317...</td>\n    </tr>\n  </tbody>\n</table>\n</div>"
     },
     "execution_count": 8,
     "metadata": {},
     "output_type": "execute_result"
    }
   ],
   "source": [
    "df.head()"
   ],
   "id": "b68dbca046496779"
  },
  {
   "cell_type": "code",
   "execution_count": 9,
   "outputs": [],
   "source": [
    "for i, row in df.iterrows():\n",
    "    df.at[i, \"title_embed\"] = row[\"title_embed\"].flatten()\n",
    "    df.at[i, \"summary_embed\"] = row[\"summary_embed\"].flatten()"
   ],
   "metadata": {
    "collapsed": false,
    "ExecuteTime": {
     "end_time": "2023-11-15T10:36:46.219885Z",
     "start_time": "2023-11-15T10:36:40.297956Z"
    }
   },
   "id": "f734490a2916013f"
  },
  {
   "cell_type": "code",
   "execution_count": 10,
   "outputs": [],
   "source": [
    "df.to_pickle(\"../data/text/data_with_embeds.pkl\")"
   ],
   "metadata": {
    "collapsed": false,
    "ExecuteTime": {
     "end_time": "2023-11-15T10:36:48.837968Z",
     "start_time": "2023-11-15T10:36:46.215067Z"
    }
   },
   "id": "2e8734549b904ea0"
  },
  {
   "cell_type": "code",
   "execution_count": 13,
   "id": "c0de75575542f029",
   "metadata": {
    "collapsed": false,
    "ExecuteTime": {
     "end_time": "2023-11-10T16:55:10.083703Z",
     "start_time": "2023-11-10T16:55:10.075956Z"
    }
   },
   "outputs": [
    {
     "data": {
      "text/plain": "lang\neng    0.383823\nspa    0.314989\ndeu    0.207862\nzho    0.093326\nName: proportion, dtype: float64"
     },
     "execution_count": 13,
     "metadata": {},
     "output_type": "execute_result"
    }
   ],
   "source": [
    "# get unique languages and their counts (in percent)\n",
    "df[\"lang\"].value_counts(normalize=True)"
   ]
  },
  {
   "cell_type": "code",
   "execution_count": 14,
   "id": "93c645069c680667",
   "metadata": {
    "collapsed": false,
    "ExecuteTime": {
     "end_time": "2023-11-10T16:55:11.775983Z",
     "start_time": "2023-11-10T16:55:11.743240Z"
    }
   },
   "outputs": [
    {
     "data": {
      "text/plain": "lang\ndeu     8.816079\neng    20.265839\nspa     8.985457\nzho     8.310033\nName: article_count, dtype: object"
     },
     "execution_count": 14,
     "metadata": {},
     "output_type": "execute_result"
    }
   ],
   "source": [
    "# calculate the average article_count by language\n",
    "df.groupby(\"lang\")[\"article_count\"].mean()"
   ]
  },
  {
   "cell_type": "code",
   "execution_count": 15,
   "metadata": {
    "ExecuteTime": {
     "end_time": "2023-11-10T16:55:13.664410Z",
     "start_time": "2023-11-10T16:55:13.633779Z"
    }
   },
   "outputs": [],
   "source": [
    "# drop title and summary\n",
    "df = df.drop([\"title\", \"summary\"], axis=1)"
   ],
   "id": "8cb52956ec6d3cc8"
  },
  {
   "cell_type": "code",
   "execution_count": 16,
   "metadata": {
    "ExecuteTime": {
     "end_time": "2023-11-10T16:55:16.451865Z",
     "start_time": "2023-11-10T16:55:16.437875Z"
    }
   },
   "outputs": [],
   "source": [
    "# one-hot encode the language column\n",
    "# df = pd.get_dummies(df, columns=[\"lang\"])"
   ],
   "id": "65dad8d7ab2b29cb"
  },
  {
   "cell_type": "code",
   "execution_count": 17,
   "metadata": {
    "ExecuteTime": {
     "end_time": "2023-11-10T16:55:16.812858Z",
     "start_time": "2023-11-10T16:55:16.807096Z"
    }
   },
   "outputs": [
    {
     "data": {
      "text/plain": "     lang article_count event_date  \\\nid                                   \ne_11  eng             7      16057   \ne_10  eng           221      16058   \ne_13  eng             9      16059   \ne_12  eng             1      16054   \ne_15  eng             8      16057   \n\n                                            title_embed  \\\nid                                                        \ne_11  [0.47470707, -0.08501352, 0.26899937, -0.36353...   \ne_10  [0.17094071, -0.18888026, 0.28712985, -0.36104...   \ne_13  [0.2537402, -0.032281302, 0.37904784, -0.31818...   \ne_12  [0.23880291, 0.03649398, 0.32137018, -0.170995...   \ne_15  [0.3985864, -0.06734807, 0.40732777, -0.461210...   \n\n                                          summary_embed  \nid                                                       \ne_11  [0.3377615, -0.26158097, 0.3140225, -0.2120716...  \ne_10  [0.1786896, -0.11662727, 0.19326286, -0.20948,...  \ne_13  [0.026874868, -0.09318099, 0.03552014, -0.0260...  \ne_12  [0.46094257, -0.36103615, 0.31917268, -0.60180...  \ne_15  [0.5053371, -0.062929116, 0.27972195, -0.43177...  ",
      "text/html": "<div>\n<style scoped>\n    .dataframe tbody tr th:only-of-type {\n        vertical-align: middle;\n    }\n\n    .dataframe tbody tr th {\n        vertical-align: top;\n    }\n\n    .dataframe thead th {\n        text-align: right;\n    }\n</style>\n<table border=\"1\" class=\"dataframe\">\n  <thead>\n    <tr style=\"text-align: right;\">\n      <th></th>\n      <th>lang</th>\n      <th>article_count</th>\n      <th>event_date</th>\n      <th>title_embed</th>\n      <th>summary_embed</th>\n    </tr>\n    <tr>\n      <th>id</th>\n      <th></th>\n      <th></th>\n      <th></th>\n      <th></th>\n      <th></th>\n    </tr>\n  </thead>\n  <tbody>\n    <tr>\n      <th>e_11</th>\n      <td>eng</td>\n      <td>7</td>\n      <td>16057</td>\n      <td>[0.47470707, -0.08501352, 0.26899937, -0.36353...</td>\n      <td>[0.3377615, -0.26158097, 0.3140225, -0.2120716...</td>\n    </tr>\n    <tr>\n      <th>e_10</th>\n      <td>eng</td>\n      <td>221</td>\n      <td>16058</td>\n      <td>[0.17094071, -0.18888026, 0.28712985, -0.36104...</td>\n      <td>[0.1786896, -0.11662727, 0.19326286, -0.20948,...</td>\n    </tr>\n    <tr>\n      <th>e_13</th>\n      <td>eng</td>\n      <td>9</td>\n      <td>16059</td>\n      <td>[0.2537402, -0.032281302, 0.37904784, -0.31818...</td>\n      <td>[0.026874868, -0.09318099, 0.03552014, -0.0260...</td>\n    </tr>\n    <tr>\n      <th>e_12</th>\n      <td>eng</td>\n      <td>1</td>\n      <td>16054</td>\n      <td>[0.23880291, 0.03649398, 0.32137018, -0.170995...</td>\n      <td>[0.46094257, -0.36103615, 0.31917268, -0.60180...</td>\n    </tr>\n    <tr>\n      <th>e_15</th>\n      <td>eng</td>\n      <td>8</td>\n      <td>16057</td>\n      <td>[0.3985864, -0.06734807, 0.40732777, -0.461210...</td>\n      <td>[0.5053371, -0.062929116, 0.27972195, -0.43177...</td>\n    </tr>\n  </tbody>\n</table>\n</div>"
     },
     "execution_count": 17,
     "metadata": {},
     "output_type": "execute_result"
    }
   ],
   "source": [
    "df.head()"
   ],
   "id": "6ebf023ac0217c97"
  },
  {
   "cell_type": "code",
   "execution_count": 18,
   "metadata": {
    "ExecuteTime": {
     "end_time": "2023-11-10T16:55:29.011219Z",
     "start_time": "2023-11-10T16:55:26.937906Z"
    }
   },
   "outputs": [],
   "source": [
    "# save the dataframe as a pickle file\n",
    "df.to_pickle(\"../data/text/dataset_embedded.pkl\")"
   ],
   "id": "70267c772873ead5"
  },
  {
   "cell_type": "code",
   "execution_count": 19,
   "metadata": {
    "ExecuteTime": {
     "end_time": "2023-11-10T16:55:52.721264Z",
     "start_time": "2023-11-10T16:55:52.597096Z"
    }
   },
   "outputs": [],
   "source": [
    "df = df.drop([\"lang\", \"article_count\", \"event_date\"], axis=1)"
   ],
   "id": "c289ea94fcfb0af3"
  },
  {
   "cell_type": "code",
   "execution_count": 21,
   "outputs": [],
   "source": [
    "df.to_pickle(\"../data/text/llm_embeddings.pkl\")"
   ],
   "metadata": {
    "collapsed": false,
    "ExecuteTime": {
     "end_time": "2023-11-10T16:56:15.309744Z",
     "start_time": "2023-11-10T16:56:13.245299Z"
    }
   },
   "id": "eee37d7e486f6c4d"
  },
  {
   "cell_type": "code",
   "execution_count": null,
   "outputs": [],
   "source": [],
   "metadata": {
    "collapsed": false
   },
   "id": "b94bd85343e4c0bc"
  }
 ],
 "metadata": {
  "kernelspec": {
   "display_name": "Python 3",
   "language": "python",
   "name": "python3"
  },
  "language_info": {
   "codemirror_mode": {
    "name": "ipython",
    "version": 3
   },
   "file_extension": ".py",
   "mimetype": "text/x-python",
   "name": "python",
   "nbconvert_exporter": "python",
   "pygments_lexer": "ipython3",
   "version": "3.10.8"
  }
 },
 "nbformat": 4,
 "nbformat_minor": 5
}
