{
 "cells": [
  {
   "cell_type": "code",
   "execution_count": 2,
   "metadata": {
    "ExecuteTime": {
     "end_time": "2023-12-01T19:56:49.903693Z",
     "start_time": "2023-12-01T19:56:49.896502Z"
    }
   },
   "outputs": [],
   "source": [
    "import torch\n",
    "import matplotlib.pyplot as plt\n",
    "from openTSNE import TSNE\n",
    "import pickle\n",
    "from deepsnap.hetero_graph import HeteroGraph\n",
    "import networkx as nx\n",
    "from hetero_gnn import HeteroGNN\n",
    "from train_gnn_llm import graph_tensors_to_device\n",
    "from matplotlib.colors import Normalize\n",
    "import numpy as np"
   ]
  },
  {
   "cell_type": "markdown",
   "metadata": {},
   "source": [
    "# TSNE embedding analysis"
   ]
  },
  {
   "cell_type": "code",
   "execution_count": 3,
   "metadata": {
    "ExecuteTime": {
     "end_time": "2023-12-01T19:56:51.225571Z",
     "start_time": "2023-12-01T19:56:51.210157Z"
    }
   },
   "outputs": [],
   "source": [
    "train_args = {\n",
    "    \"device\": torch.device(\"cuda\" if torch.cuda.is_available() else \"cpu\"),\n",
    "    \"hidden_size\": 81,\n",
    "    \"epochs\": 233,\n",
    "    \"weight_decay\": 0.00002203762357664057,\n",
    "    \"lr\": 0.003873757421883433,\n",
    "    \"attn_size\": 48,\n",
    "    \"num_layers\": 6,\n",
    "    \"aggr\": \"attn\",\n",
    "}\n",
    "\n",
    "\n",
    "tsne = TSNE(\n",
    "    perplexity=30,\n",
    "    metric=\"euclidean\",\n",
    "    n_jobs=8,\n",
    "    random_state=42,\n",
    "    verbose=True,\n",
    ")"
   ]
  },
  {
   "cell_type": "code",
   "execution_count": 4,
   "metadata": {
    "ExecuteTime": {
     "end_time": "2023-12-01T19:56:53.508354Z",
     "start_time": "2023-12-01T19:56:53.493908Z"
    }
   },
   "outputs": [],
   "source": [
    "def plot_tsne(node_features, node_targets, emb):\n",
    "    plt.figure(figsize=(12, 8))\n",
    "    \n",
    "    \n",
    "    \n",
    "    # norm = Normalize(vmin=node_targets.min(), vmax=node_targets.max())\n",
    "    plt.scatter(emb[:, 0], emb[:, 1], c=node_targets, cmap='viridis', alpha=0.8, s=5, linewidths=0)\n",
    "\n",
    "    # plt.scatter(emb[~mask, 0], emb[~mask, 1], \n",
    "    #         c='blue', alpha=0.8, s=5, linewidths=0, label=\"< 40 articles\")\n",
    "    # plt.scatter(emb[mask, 0], emb[mask, 1], \n",
    "    #         c='red', alpha=0.4, s=5, linewidths=0, label=\"40 or more articles\")\n",
    "    \n",
    "    plt.title(\"t-SNE of Node Embeddings\")\n",
    "    plt.xlabel(\"Component 1\")\n",
    "    plt.ylabel(\"Component 2\")\n",
    "    plt.colorbar()\n",
    "    plt.show()"
   ]
  },
  {
   "cell_type": "code",
   "execution_count": 5,
   "metadata": {
    "ExecuteTime": {
     "end_time": "2023-12-01T19:58:03.927498Z",
     "start_time": "2023-12-01T19:56:55.357916Z"
    }
   },
   "outputs": [
    {
     "name": "stdout",
     "output_type": "stream",
     "text": [
      "TYPE ('event', 'similar', 'event')\n",
      "\t Feature 769\n",
      "\t Feature 769\n",
      "TYPE ('event', 'related', 'concept')\n",
      "\t Feature 769\n",
      "\t Feature 1\n",
      "TYPE ('concept', 'related', 'event')\n",
      "\t Feature 1\n",
      "\t Feature 769\n",
      "KEY ('event', 'similar', 'event') <class 'tuple'>\n",
      "KEY NUMS ('event', 'similar', 'event') 33429 33429\n",
      "MAX EDGES tensor(32647) tensor(32647) 33429 33429\n",
      "KEY ('event', 'related', 'concept') <class 'tuple'>\n",
      "KEY NUMS ('event', 'related', 'concept') 33429 22124\n",
      "MAX EDGES tensor(32647) tensor(22123) 33429 22124\n",
      "KEY ('concept', 'related', 'event') <class 'tuple'>\n",
      "KEY NUMS ('concept', 'related', 'event') 22124 33429\n",
      "MAX EDGES tensor(22123) tensor(32647) 22124 33429\n",
      "--------------------------------------------------------------------------------\n",
      "TSNE(early_exaggeration=12, n_jobs=8, random_state=42, verbose=True)\n",
      "--------------------------------------------------------------------------------\n",
      "===> Finding 90 nearest neighbors using Annoy approximate search using euclidean distance...\n",
      "   --> Time elapsed: 2.93 seconds\n",
      "===> Calculating affinity matrix...\n",
      "   --> Time elapsed: 0.24 seconds\n",
      "===> Calculating PCA-based initialization...\n",
      "   --> Time elapsed: 0.10 seconds\n",
      "===> Running optimization with exaggeration=12.00, lr=2785.75 for 250 iterations...\n",
      "Iteration   50, KL divergence 5.4529, 50 iterations in 0.7161 sec\n",
      "Iteration  100, KL divergence 4.1772, 50 iterations in 0.7188 sec\n",
      "Iteration  150, KL divergence 3.8214, 50 iterations in 0.7258 sec\n",
      "Iteration  200, KL divergence 3.6218, 50 iterations in 0.7098 sec\n",
      "Iteration  250, KL divergence 3.4938, 50 iterations in 0.7255 sec\n",
      "   --> Time elapsed: 3.60 seconds\n",
      "===> Running optimization with exaggeration=1.00, lr=33429.00 for 500 iterations...\n",
      "Iteration   50, KL divergence 1.9515, 50 iterations in 0.9340 sec\n",
      "Iteration  100, KL divergence 1.5659, 50 iterations in 1.7614 sec\n",
      "Iteration  150, KL divergence 1.3666, 50 iterations in 2.7298 sec\n",
      "Iteration  200, KL divergence 1.2407, 50 iterations in 3.6620 sec\n",
      "Iteration  250, KL divergence 1.1519, 50 iterations in 4.5143 sec\n",
      "Iteration  300, KL divergence 1.0865, 50 iterations in 5.6924 sec\n",
      "Iteration  350, KL divergence 1.0373, 50 iterations in 6.7289 sec\n",
      "Iteration  400, KL divergence 1.0021, 50 iterations in 7.6901 sec\n",
      "Iteration  450, KL divergence 0.9668, 50 iterations in 8.2717 sec\n",
      "Iteration  500, KL divergence 0.9390, 50 iterations in 9.1655 sec\n",
      "   --> Time elapsed: 51.15 seconds\n",
      "===> Finding 15 nearest neighbors in existing embedding using Annoy approximate search...\n",
      "   --> Time elapsed: 1.53 seconds\n",
      "===> Calculating affinity matrix...\n",
      "   --> Time elapsed: 0.04 seconds\n",
      "===> Running optimization with exaggeration=4.00, lr=0.10 for 0 iterations...\n",
      "   --> Time elapsed: 0.00 seconds\n",
      "===> Running optimization with exaggeration=1.50, lr=0.10 for 250 iterations...\n",
      "Iteration   50, KL divergence 434394.3249, 50 iterations in 0.4083 sec\n",
      "Iteration  100, KL divergence 433674.6677, 50 iterations in 0.4124 sec\n",
      "Iteration  150, KL divergence 433406.7661, 50 iterations in 0.4227 sec\n",
      "Iteration  200, KL divergence 433263.8398, 50 iterations in 0.4619 sec\n",
      "Iteration  250, KL divergence 433168.9236, 50 iterations in 0.4212 sec\n",
      "   --> Time elapsed: 2.13 seconds\n"
     ]
    }
   ],
   "source": [
    "with open(\"./4_concepts_similar_llm.pkl\", \"rb\") as f:\n",
    "    G = pickle.load(f)\n",
    "\n",
    "# Create a HeteroGraph object from the networkx graph\n",
    "hetero_graph = HeteroGraph(G, netlib=nx, directed=True)\n",
    "graph_tensors_to_device(hetero_graph)\n",
    "\n",
    "model = HeteroGNN(\n",
    "    hetero_graph,\n",
    "    train_args,\n",
    "    num_layers=train_args[\"num_layers\"],\n",
    "    aggr=train_args[\"aggr\"],\n",
    "    return_embedding=True,\n",
    ").to(train_args[\"device\"])\n",
    "\n",
    "model.load_state_dict(torch.load(\"./best_model.pkl\", map_location=torch.device(train_args['device'])))\n",
    "\n",
    "preds = model(hetero_graph.node_feature, hetero_graph.edge_index)\n",
    "\n",
    "node_embeddings = preds['event'].cpu().detach().numpy()\n",
    "# Train and evaluate the t-SNE model\n",
    "embedding_train = tsne.fit(node_embeddings)\n",
    "pickle.dump(embedding_train, open(\"./tsne_model.pkl\", \"wb\"))\n",
    "embeddings_2d = embedding_train.transform(node_embeddings)"
   ]
  },
  {
   "cell_type": "code",
   "execution_count": null,
   "metadata": {
    "is_executing": true
   },
   "outputs": [],
   "source": [
    "node_features = hetero_graph.node_feature['event']\n",
    "node_targets = hetero_graph.node_target['event'].flatten()\n",
    "\n",
    "# Remove artifically added nodes\n",
    "mask = node_targets != -1\n",
    "node_features = node_features[mask]\n",
    "node_targets = node_targets[mask]\n",
    "embeddings = embeddings_2d[mask]\n",
    "\n",
    "# log transform targets\n",
    "node_targets = np.log(node_targets)\n",
    "\n",
    "plot_tsne(node_features, node_targets, embeddings)"
   ]
  },
  {
   "cell_type": "markdown",
   "source": [
    "# Evalutation scores\n",
    "* absolute, relative, only outliers performance\n",
    "* review popular scores"
   ],
   "metadata": {
    "collapsed": false
   }
  },
  {
   "cell_type": "markdown",
   "source": [
    "# LLM vs noLLm\n",
    "* graph x = min articles, y = performance"
   ],
   "metadata": {
    "collapsed": false
   }
  }
 ],
 "metadata": {
  "kernelspec": {
   "display_name": "mlg",
   "language": "python",
   "name": "python3"
  },
  "language_info": {
   "codemirror_mode": {
    "name": "ipython",
    "version": 3
   },
   "file_extension": ".py",
   "mimetype": "text/x-python",
   "name": "python",
   "nbconvert_exporter": "python",
   "pygments_lexer": "ipython3",
   "version": "3.10.13"
  }
 },
 "nbformat": 4,
 "nbformat_minor": 2
}
