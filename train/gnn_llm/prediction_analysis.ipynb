{
 "cells": [
  {
   "cell_type": "code",
   "execution_count": 1,
   "metadata": {},
   "outputs": [
    {
     "name": "stderr",
     "output_type": "stream",
     "text": [
      "c:\\Users\\Adrian\\Desktop\\MLG-Predicting-Impacful-Events\\train\\gnn_llm\\hetero_gnn.py:209: SyntaxWarning: \"is\" with a literal. Did you mean \"==\"?\n",
      "  generate_convs(hetero_graph, HeteroGNNConv, self.hidden_size, first_layer=i is 0),\n",
      "c:\\Users\\Adrian\\anaconda3\\envs\\mlg\\lib\\site-packages\\tqdm\\auto.py:21: TqdmWarning: IProgress not found. Please update jupyter and ipywidgets. See https://ipywidgets.readthedocs.io/en/stable/user_install.html\n",
      "  from .autonotebook import tqdm as notebook_tqdm\n"
     ]
    }
   ],
   "source": [
    "import torch\n",
    "import matplotlib.pyplot as plt\n",
    "from openTSNE import TSNE\n",
    "import pickle\n",
    "from deepsnap.hetero_graph import HeteroGraph\n",
    "import networkx as nx\n",
    "from hetero_gnn import HeteroGNN\n",
    "from train_gnn_llm import graph_tensors_to_device"
   ]
  },
  {
   "cell_type": "markdown",
   "metadata": {},
   "source": [
    "# TSNE embedding analysis"
   ]
  },
  {
   "cell_type": "code",
   "execution_count": 2,
   "metadata": {},
   "outputs": [],
   "source": [
    "train_args = {\n",
    "    \"device\": torch.device(\"cuda\" if torch.cuda.is_available() else \"cpu\"),\n",
    "    \"hidden_size\": 81,\n",
    "    \"epochs\": 233,\n",
    "    \"weight_decay\": 0.00002203762357664057,\n",
    "    \"lr\": 0.003873757421883433,\n",
    "    \"attn_size\": 48,\n",
    "    \"num_layers\": 6,\n",
    "    \"aggr\": \"attn\",\n",
    "}\n",
    "\n",
    "\n",
    "tsne = TSNE(\n",
    "    perplexity=30,\n",
    "    metric=\"euclidean\",\n",
    "    n_jobs=8,\n",
    "    random_state=42,\n",
    "    verbose=True,\n",
    "    n_iter=50,\n",
    ")"
   ]
  },
  {
   "cell_type": "code",
   "execution_count": 3,
   "metadata": {},
   "outputs": [],
   "source": [
    "def plot_tsne(embeddings_2d):\n",
    "    plt.figure(figsize=(12, 8))\n",
    "    plt.scatter(embeddings_2d[:, 0], embeddings_2d[:, 1], marker=\"o\", cmap=\"Spectral\")\n",
    "    plt.title(\"t-SNE of Node Embeddings\")\n",
    "    plt.xlabel(\"Component 1\")\n",
    "    plt.ylabel(\"Component 2\")\n",
    "    plt.colorbar()\n",
    "    plt.show()"
   ]
  },
  {
   "cell_type": "code",
   "execution_count": 4,
   "metadata": {},
   "outputs": [
    {
     "name": "stdout",
     "output_type": "stream",
     "text": [
      "TYPE ('event', 'similar', 'event')\n",
      "\t Feature 769\n",
      "\t Feature 769\n",
      "TYPE ('event', 'related', 'concept')\n",
      "\t Feature 769\n",
      "\t Feature 1\n",
      "TYPE ('concept', 'related', 'event')\n",
      "\t Feature 1\n",
      "\t Feature 769\n",
      "KEY ('event', 'similar', 'event') <class 'tuple'>\n",
      "KEY NUMS ('event', 'similar', 'event') 8487 8487\n",
      "MAX EDGES tensor(8283) tensor(8283) 8487 8487\n",
      "KEY ('event', 'related', 'concept') <class 'tuple'>\n",
      "KEY NUMS ('event', 'related', 'concept') 8487 8729\n",
      "MAX EDGES tensor(8265) tensor(8728) 8487 8729\n",
      "KEY ('concept', 'related', 'event') <class 'tuple'>\n",
      "KEY NUMS ('concept', 'related', 'event') 8729 8487\n",
      "MAX EDGES tensor(8728) tensor(8265) 8729 8487\n",
      "--------------------------------------------------------------------------------\n",
      "TSNE(early_exaggeration=12, n_iter=50, n_jobs=8, random_state=42, verbose=True)\n",
      "--------------------------------------------------------------------------------\n",
      "===> Finding 90 nearest neighbors using Annoy approximate search using euclidean distance...\n"
     ]
    }
   ],
   "source": [
    "with open(\"./1_concepts_similar_llm.pkl\", \"rb\") as f:\n",
    "    G = pickle.load(f)\n",
    "\n",
    "# Create a HeteroGraph object from the networkx graph\n",
    "hetero_graph = HeteroGraph(G, netlib=nx, directed=True)\n",
    "graph_tensors_to_device(hetero_graph)\n",
    "\n",
    "model = HeteroGNN(\n",
    "    hetero_graph,\n",
    "    train_args,\n",
    "    num_layers=train_args[\"num_layers\"],\n",
    "    aggr=train_args[\"aggr\"],\n",
    "    return_embedding=True,\n",
    ").to(train_args[\"device\"])\n",
    "\n",
    "model.load_state_dict(torch.load(\"./best_model.pkl\"))\n",
    "\n",
    "preds = model(hetero_graph.node_feature, hetero_graph.edge_index)\n",
    "\n",
    "node_embeddings = preds['event']\n",
    "\n",
    "# Train and evaluate the t-SNE model\n",
    "embedding_train = tsne.fit(node_embeddings)\n",
    "embeddings_2d = embedding_train.transform(node_embeddings)"
   ]
  },
  {
   "cell_type": "code",
   "execution_count": null,
   "metadata": {},
   "outputs": [],
   "source": [
    "# Call the function with your embeddings\n",
    "plot_tsne(embeddings_2d)"
   ]
  }
 ],
 "metadata": {
  "kernelspec": {
   "display_name": "mlg",
   "language": "python",
   "name": "python3"
  },
  "language_info": {
   "codemirror_mode": {
    "name": "ipython",
    "version": 3
   },
   "file_extension": ".py",
   "mimetype": "text/x-python",
   "name": "python",
   "nbconvert_exporter": "python",
   "pygments_lexer": "ipython3",
   "version": "3.10.13"
  }
 },
 "nbformat": 4,
 "nbformat_minor": 2
}
