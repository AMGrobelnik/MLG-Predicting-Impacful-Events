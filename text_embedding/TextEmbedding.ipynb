{
 "cells": [
  {
   "cell_type": "code",
   "execution_count": 1,
   "outputs": [],
   "source": [
    "import pandas as pd\n",
    "\n",
    "df = pd.read_pickle(\"../data/text/text.pkl\")"
   ],
   "metadata": {
    "collapsed": false,
    "ExecuteTime": {
     "end_time": "2023-11-01T18:45:23.814216Z",
     "start_time": "2023-11-01T18:45:23.192266Z"
    }
   },
   "id": "2578715629e8514c"
  },
  {
   "cell_type": "code",
   "execution_count": 2,
   "outputs": [
    {
     "data": {
      "text/plain": "(194061, 4)"
     },
     "execution_count": 2,
     "metadata": {},
     "output_type": "execute_result"
    }
   ],
   "source": [
    "df.shape"
   ],
   "metadata": {
    "collapsed": false,
    "ExecuteTime": {
     "end_time": "2023-11-01T18:45:23.819318Z",
     "start_time": "2023-11-01T18:45:23.813743Z"
    }
   },
   "id": "f0541bba2f8573f9"
  },
  {
   "cell_type": "code",
   "execution_count": 3,
   "outputs": [
    {
     "data": {
      "text/plain": "     lang                                              title  \\\nid                                                             \ne_11  eng                  Bombing survivor and nurse to wed   \ne_10  eng               Trade Idea: GBP/USD - Sell at 1.6450   \ne_13  eng  Too cool for Yule? Have a hipster Christmas in...   \ne_12  eng  Opening Bell: Cues that will help you trade be...   \ne_15  eng                       On Colorado shooter's arm...   \n\n                                                summary article_count  \nid                                                                     \ne_11  A man seriously wounded in the Boston bombing ...             7  \ne_10  Although the British pound rallied to 1.6485 y...           221  \ne_13  Unlike you, hipsters don't want any old Christ...             9  \ne_12  The Sensex plunged 210.03 points to 20,715.58 ...             1  \ne_15  (CNN) -- Colorado shooter Karl Pierson had wri...             8  ",
      "text/html": "<div>\n<style scoped>\n    .dataframe tbody tr th:only-of-type {\n        vertical-align: middle;\n    }\n\n    .dataframe tbody tr th {\n        vertical-align: top;\n    }\n\n    .dataframe thead th {\n        text-align: right;\n    }\n</style>\n<table border=\"1\" class=\"dataframe\">\n  <thead>\n    <tr style=\"text-align: right;\">\n      <th></th>\n      <th>lang</th>\n      <th>title</th>\n      <th>summary</th>\n      <th>article_count</th>\n    </tr>\n    <tr>\n      <th>id</th>\n      <th></th>\n      <th></th>\n      <th></th>\n      <th></th>\n    </tr>\n  </thead>\n  <tbody>\n    <tr>\n      <th>e_11</th>\n      <td>eng</td>\n      <td>Bombing survivor and nurse to wed</td>\n      <td>A man seriously wounded in the Boston bombing ...</td>\n      <td>7</td>\n    </tr>\n    <tr>\n      <th>e_10</th>\n      <td>eng</td>\n      <td>Trade Idea: GBP/USD - Sell at 1.6450</td>\n      <td>Although the British pound rallied to 1.6485 y...</td>\n      <td>221</td>\n    </tr>\n    <tr>\n      <th>e_13</th>\n      <td>eng</td>\n      <td>Too cool for Yule? Have a hipster Christmas in...</td>\n      <td>Unlike you, hipsters don't want any old Christ...</td>\n      <td>9</td>\n    </tr>\n    <tr>\n      <th>e_12</th>\n      <td>eng</td>\n      <td>Opening Bell: Cues that will help you trade be...</td>\n      <td>The Sensex plunged 210.03 points to 20,715.58 ...</td>\n      <td>1</td>\n    </tr>\n    <tr>\n      <th>e_15</th>\n      <td>eng</td>\n      <td>On Colorado shooter's arm...</td>\n      <td>(CNN) -- Colorado shooter Karl Pierson had wri...</td>\n      <td>8</td>\n    </tr>\n  </tbody>\n</table>\n</div>"
     },
     "execution_count": 3,
     "metadata": {},
     "output_type": "execute_result"
    }
   ],
   "source": [
    "df.head()"
   ],
   "metadata": {
    "collapsed": false,
    "ExecuteTime": {
     "end_time": "2023-11-01T18:45:23.832512Z",
     "start_time": "2023-11-01T18:45:23.820512Z"
    }
   },
   "id": "baaea188c80e9590"
  },
  {
   "cell_type": "code",
   "execution_count": 9,
   "outputs": [
    {
     "data": {
      "text/plain": "lang\neng    0.383823\nspa    0.314989\ndeu    0.207862\nzho    0.093326\nName: proportion, dtype: float64"
     },
     "execution_count": 9,
     "metadata": {},
     "output_type": "execute_result"
    }
   ],
   "source": [
    "# get unique languages and their counts (in percent)\n",
    "df[\"lang\"].value_counts(normalize=True)"
   ],
   "metadata": {
    "collapsed": false,
    "ExecuteTime": {
     "end_time": "2023-11-01T18:46:43.896042Z",
     "start_time": "2023-11-01T18:46:43.892410Z"
    }
   },
   "id": "c0de75575542f029"
  },
  {
   "cell_type": "code",
   "execution_count": 23,
   "outputs": [
    {
     "data": {
      "text/plain": "lang\ndeu     8.816079\neng    20.265839\nspa     8.985457\nzho     8.310033\nName: article_count, dtype: object"
     },
     "execution_count": 23,
     "metadata": {},
     "output_type": "execute_result"
    }
   ],
   "source": [
    "# calculate the average article_count by language\n",
    "df.groupby(\"lang\")[\"article_count\"].mean()"
   ],
   "metadata": {
    "collapsed": false,
    "ExecuteTime": {
     "end_time": "2023-11-01T18:53:33.060467Z",
     "start_time": "2023-11-01T18:53:33.006052Z"
    }
   },
   "id": "93c645069c680667"
  },
  {
   "cell_type": "code",
   "execution_count": null,
   "outputs": [],
   "source": [],
   "metadata": {
    "collapsed": false
   },
   "id": "619b4897e87c6b08"
  }
 ],
 "metadata": {
  "kernelspec": {
   "display_name": "Python 3",
   "language": "python",
   "name": "python3"
  },
  "language_info": {
   "codemirror_mode": {
    "name": "ipython",
    "version": 2
   },
   "file_extension": ".py",
   "mimetype": "text/x-python",
   "name": "python",
   "nbconvert_exporter": "python",
   "pygments_lexer": "ipython2",
   "version": "2.7.6"
  }
 },
 "nbformat": 4,
 "nbformat_minor": 5
}
