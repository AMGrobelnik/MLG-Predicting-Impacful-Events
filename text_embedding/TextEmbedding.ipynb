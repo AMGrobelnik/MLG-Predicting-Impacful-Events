{
 "cells": [
  {
   "cell_type": "code",
   "execution_count": 2,
   "id": "2578715629e8514c",
   "metadata": {
    "ExecuteTime": {
     "end_time": "2023-11-01T18:45:23.814216Z",
     "start_time": "2023-11-01T18:45:23.192266Z"
    },
    "collapsed": false
   },
   "outputs": [],
   "source": [
    "import pandas as pd\n",
    "\n",
    "df = pd.read_pickle(\"../data/text/dataset.pkl\")"
   ]
  },
  {
   "cell_type": "code",
   "execution_count": 3,
   "id": "f0541bba2f8573f9",
   "metadata": {
    "ExecuteTime": {
     "end_time": "2023-11-01T18:45:23.819318Z",
     "start_time": "2023-11-01T18:45:23.813743Z"
    },
    "collapsed": false
   },
   "outputs": [
    {
     "data": {
      "text/plain": [
       "(195056, 5)"
      ]
     },
     "execution_count": 3,
     "metadata": {},
     "output_type": "execute_result"
    }
   ],
   "source": [
    "df.shape"
   ]
  },
  {
   "cell_type": "code",
   "execution_count": 4,
   "metadata": {},
   "outputs": [
    {
     "data": {
      "text/html": [
       "<div>\n",
       "<style scoped>\n",
       "    .dataframe tbody tr th:only-of-type {\n",
       "        vertical-align: middle;\n",
       "    }\n",
       "\n",
       "    .dataframe tbody tr th {\n",
       "        vertical-align: top;\n",
       "    }\n",
       "\n",
       "    .dataframe thead th {\n",
       "        text-align: right;\n",
       "    }\n",
       "</style>\n",
       "<table border=\"1\" class=\"dataframe\">\n",
       "  <thead>\n",
       "    <tr style=\"text-align: right;\">\n",
       "      <th></th>\n",
       "      <th>lang</th>\n",
       "      <th>title</th>\n",
       "      <th>summary</th>\n",
       "      <th>article_count</th>\n",
       "      <th>event_date</th>\n",
       "    </tr>\n",
       "    <tr>\n",
       "      <th>id</th>\n",
       "      <th></th>\n",
       "      <th></th>\n",
       "      <th></th>\n",
       "      <th></th>\n",
       "      <th></th>\n",
       "    </tr>\n",
       "  </thead>\n",
       "  <tbody>\n",
       "    <tr>\n",
       "      <th>e_11</th>\n",
       "      <td>eng</td>\n",
       "      <td>Bombing survivor and nurse to wed</td>\n",
       "      <td>A man seriously wounded in the Boston bombing ...</td>\n",
       "      <td>7</td>\n",
       "      <td>1.387325e+09</td>\n",
       "    </tr>\n",
       "    <tr>\n",
       "      <th>e_10</th>\n",
       "      <td>eng</td>\n",
       "      <td>Trade Idea: GBP/USD - Sell at 1.6450</td>\n",
       "      <td>Although the British pound rallied to 1.6485 y...</td>\n",
       "      <td>221</td>\n",
       "      <td>1.387411e+09</td>\n",
       "    </tr>\n",
       "    <tr>\n",
       "      <th>e_13</th>\n",
       "      <td>eng</td>\n",
       "      <td>Too cool for Yule? Have a hipster Christmas in...</td>\n",
       "      <td>Unlike you, hipsters don't want any old Christ...</td>\n",
       "      <td>9</td>\n",
       "      <td>1.387498e+09</td>\n",
       "    </tr>\n",
       "    <tr>\n",
       "      <th>e_12</th>\n",
       "      <td>eng</td>\n",
       "      <td>Opening Bell: Cues that will help you trade be...</td>\n",
       "      <td>The Sensex plunged 210.03 points to 20,715.58 ...</td>\n",
       "      <td>1</td>\n",
       "      <td>1.387066e+09</td>\n",
       "    </tr>\n",
       "    <tr>\n",
       "      <th>e_15</th>\n",
       "      <td>eng</td>\n",
       "      <td>On Colorado shooter's arm...</td>\n",
       "      <td>(CNN) -- Colorado shooter Karl Pierson had wri...</td>\n",
       "      <td>8</td>\n",
       "      <td>1.387325e+09</td>\n",
       "    </tr>\n",
       "  </tbody>\n",
       "</table>\n",
       "</div>"
      ],
      "text/plain": [
       "     lang                                              title  \\\n",
       "id                                                             \n",
       "e_11  eng                  Bombing survivor and nurse to wed   \n",
       "e_10  eng               Trade Idea: GBP/USD - Sell at 1.6450   \n",
       "e_13  eng  Too cool for Yule? Have a hipster Christmas in...   \n",
       "e_12  eng  Opening Bell: Cues that will help you trade be...   \n",
       "e_15  eng                       On Colorado shooter's arm...   \n",
       "\n",
       "                                                summary article_count  \\\n",
       "id                                                                      \n",
       "e_11  A man seriously wounded in the Boston bombing ...             7   \n",
       "e_10  Although the British pound rallied to 1.6485 y...           221   \n",
       "e_13  Unlike you, hipsters don't want any old Christ...             9   \n",
       "e_12  The Sensex plunged 210.03 points to 20,715.58 ...             1   \n",
       "e_15  (CNN) -- Colorado shooter Karl Pierson had wri...             8   \n",
       "\n",
       "        event_date  \n",
       "id                  \n",
       "e_11  1.387325e+09  \n",
       "e_10  1.387411e+09  \n",
       "e_13  1.387498e+09  \n",
       "e_12  1.387066e+09  \n",
       "e_15  1.387325e+09  "
      ]
     },
     "execution_count": 4,
     "metadata": {},
     "output_type": "execute_result"
    }
   ],
   "source": [
    "df.head()"
   ]
  },
  {
   "cell_type": "code",
   "execution_count": 5,
   "metadata": {},
   "outputs": [],
   "source": [
    "# search for pkl files that start with batch_\n",
    "import glob\n",
    "import os\n",
    "\n",
    "pkl_files = sorted(glob.glob(\"../data/text/batch_*.pkl\"))"
   ]
  },
  {
   "cell_type": "code",
   "execution_count": 6,
   "metadata": {},
   "outputs": [],
   "source": [
    "df[\"title_embed\"] = None\n",
    "df[\"summary_embed\"] = None"
   ]
  },
  {
   "cell_type": "code",
   "execution_count": 7,
   "metadata": {},
   "outputs": [],
   "source": [
    "import pickle\n",
    "\n",
    "for batch_file in pkl_files:\n",
    "  with open(batch_file, \"rb\") as f:\n",
    "      batch = pickle.load(f)\n",
    "  \n",
    "  for id in batch.keys():\n",
    "    df.at[id, \"title_embed\"] = batch[id][\"title_embed\"]\n",
    "    df.at[id, \"summary_embed\"] = batch[id][\"summary_embed\"]\n",
    "  "
   ]
  },
  {
   "cell_type": "code",
   "execution_count": 8,
   "metadata": {},
   "outputs": [],
   "source": [
    "# find all rows with None values and drop them\n",
    "df = df.dropna()"
   ]
  },
  {
   "cell_type": "code",
   "execution_count": 9,
   "metadata": {},
   "outputs": [
    {
     "data": {
      "text/html": [
       "<div>\n",
       "<style scoped>\n",
       "    .dataframe tbody tr th:only-of-type {\n",
       "        vertical-align: middle;\n",
       "    }\n",
       "\n",
       "    .dataframe tbody tr th {\n",
       "        vertical-align: top;\n",
       "    }\n",
       "\n",
       "    .dataframe thead th {\n",
       "        text-align: right;\n",
       "    }\n",
       "</style>\n",
       "<table border=\"1\" class=\"dataframe\">\n",
       "  <thead>\n",
       "    <tr style=\"text-align: right;\">\n",
       "      <th></th>\n",
       "      <th>lang</th>\n",
       "      <th>title</th>\n",
       "      <th>summary</th>\n",
       "      <th>article_count</th>\n",
       "      <th>event_date</th>\n",
       "      <th>title_embed</th>\n",
       "      <th>summary_embed</th>\n",
       "    </tr>\n",
       "    <tr>\n",
       "      <th>id</th>\n",
       "      <th></th>\n",
       "      <th></th>\n",
       "      <th></th>\n",
       "      <th></th>\n",
       "      <th></th>\n",
       "      <th></th>\n",
       "      <th></th>\n",
       "    </tr>\n",
       "  </thead>\n",
       "  <tbody>\n",
       "    <tr>\n",
       "      <th>e_11</th>\n",
       "      <td>eng</td>\n",
       "      <td>Bombing survivor and nurse to wed</td>\n",
       "      <td>A man seriously wounded in the Boston bombing ...</td>\n",
       "      <td>7</td>\n",
       "      <td>1.387325e+09</td>\n",
       "      <td>[[0.47470707, -0.08501352, 0.26899937, -0.3635...</td>\n",
       "      <td>[[0.3377615, -0.26158097, 0.3140225, -0.212071...</td>\n",
       "    </tr>\n",
       "    <tr>\n",
       "      <th>e_10</th>\n",
       "      <td>eng</td>\n",
       "      <td>Trade Idea: GBP/USD - Sell at 1.6450</td>\n",
       "      <td>Although the British pound rallied to 1.6485 y...</td>\n",
       "      <td>221</td>\n",
       "      <td>1.387411e+09</td>\n",
       "      <td>[[0.17094071, -0.18888026, 0.28712985, -0.3610...</td>\n",
       "      <td>[[0.1786896, -0.11662727, 0.19326286, -0.20948...</td>\n",
       "    </tr>\n",
       "    <tr>\n",
       "      <th>e_13</th>\n",
       "      <td>eng</td>\n",
       "      <td>Too cool for Yule? Have a hipster Christmas in...</td>\n",
       "      <td>Unlike you, hipsters don't want any old Christ...</td>\n",
       "      <td>9</td>\n",
       "      <td>1.387498e+09</td>\n",
       "      <td>[[0.2537402, -0.032281302, 0.37904784, -0.3181...</td>\n",
       "      <td>[[0.026874868, -0.09318099, 0.03552014, -0.026...</td>\n",
       "    </tr>\n",
       "    <tr>\n",
       "      <th>e_12</th>\n",
       "      <td>eng</td>\n",
       "      <td>Opening Bell: Cues that will help you trade be...</td>\n",
       "      <td>The Sensex plunged 210.03 points to 20,715.58 ...</td>\n",
       "      <td>1</td>\n",
       "      <td>1.387066e+09</td>\n",
       "      <td>[[0.23880291, 0.03649398, 0.32137018, -0.17099...</td>\n",
       "      <td>[[0.46094257, -0.36103615, 0.31917268, -0.6018...</td>\n",
       "    </tr>\n",
       "    <tr>\n",
       "      <th>e_15</th>\n",
       "      <td>eng</td>\n",
       "      <td>On Colorado shooter's arm...</td>\n",
       "      <td>(CNN) -- Colorado shooter Karl Pierson had wri...</td>\n",
       "      <td>8</td>\n",
       "      <td>1.387325e+09</td>\n",
       "      <td>[[0.3985864, -0.06734807, 0.40732777, -0.46121...</td>\n",
       "      <td>[[0.5053371, -0.062929116, 0.27972195, -0.4317...</td>\n",
       "    </tr>\n",
       "  </tbody>\n",
       "</table>\n",
       "</div>"
      ],
      "text/plain": [
       "     lang                                              title  \\\n",
       "id                                                             \n",
       "e_11  eng                  Bombing survivor and nurse to wed   \n",
       "e_10  eng               Trade Idea: GBP/USD - Sell at 1.6450   \n",
       "e_13  eng  Too cool for Yule? Have a hipster Christmas in...   \n",
       "e_12  eng  Opening Bell: Cues that will help you trade be...   \n",
       "e_15  eng                       On Colorado shooter's arm...   \n",
       "\n",
       "                                                summary article_count  \\\n",
       "id                                                                      \n",
       "e_11  A man seriously wounded in the Boston bombing ...             7   \n",
       "e_10  Although the British pound rallied to 1.6485 y...           221   \n",
       "e_13  Unlike you, hipsters don't want any old Christ...             9   \n",
       "e_12  The Sensex plunged 210.03 points to 20,715.58 ...             1   \n",
       "e_15  (CNN) -- Colorado shooter Karl Pierson had wri...             8   \n",
       "\n",
       "        event_date                                        title_embed  \\\n",
       "id                                                                      \n",
       "e_11  1.387325e+09  [[0.47470707, -0.08501352, 0.26899937, -0.3635...   \n",
       "e_10  1.387411e+09  [[0.17094071, -0.18888026, 0.28712985, -0.3610...   \n",
       "e_13  1.387498e+09  [[0.2537402, -0.032281302, 0.37904784, -0.3181...   \n",
       "e_12  1.387066e+09  [[0.23880291, 0.03649398, 0.32137018, -0.17099...   \n",
       "e_15  1.387325e+09  [[0.3985864, -0.06734807, 0.40732777, -0.46121...   \n",
       "\n",
       "                                          summary_embed  \n",
       "id                                                       \n",
       "e_11  [[0.3377615, -0.26158097, 0.3140225, -0.212071...  \n",
       "e_10  [[0.1786896, -0.11662727, 0.19326286, -0.20948...  \n",
       "e_13  [[0.026874868, -0.09318099, 0.03552014, -0.026...  \n",
       "e_12  [[0.46094257, -0.36103615, 0.31917268, -0.6018...  \n",
       "e_15  [[0.5053371, -0.062929116, 0.27972195, -0.4317...  "
      ]
     },
     "execution_count": 9,
     "metadata": {},
     "output_type": "execute_result"
    }
   ],
   "source": [
    "df.head()"
   ]
  },
  {
   "cell_type": "code",
   "execution_count": 10,
   "id": "c0de75575542f029",
   "metadata": {
    "ExecuteTime": {
     "end_time": "2023-11-01T18:46:43.896042Z",
     "start_time": "2023-11-01T18:46:43.892410Z"
    },
    "collapsed": false
   },
   "outputs": [
    {
     "data": {
      "text/plain": [
       "lang\n",
       "eng    0.383823\n",
       "spa    0.314989\n",
       "deu    0.207862\n",
       "zho    0.093326\n",
       "Name: proportion, dtype: float64"
      ]
     },
     "execution_count": 10,
     "metadata": {},
     "output_type": "execute_result"
    }
   ],
   "source": [
    "# get unique languages and their counts (in percent)\n",
    "df[\"lang\"].value_counts(normalize=True)"
   ]
  },
  {
   "cell_type": "code",
   "execution_count": 11,
   "id": "93c645069c680667",
   "metadata": {
    "ExecuteTime": {
     "end_time": "2023-11-01T18:53:33.060467Z",
     "start_time": "2023-11-01T18:53:33.006052Z"
    },
    "collapsed": false
   },
   "outputs": [
    {
     "data": {
      "text/plain": [
       "lang\n",
       "deu     8.816079\n",
       "eng    20.265839\n",
       "spa     8.985457\n",
       "zho     8.310033\n",
       "Name: article_count, dtype: object"
      ]
     },
     "execution_count": 11,
     "metadata": {},
     "output_type": "execute_result"
    }
   ],
   "source": [
    "# calculate the average article_count by language\n",
    "df.groupby(\"lang\")[\"article_count\"].mean()"
   ]
  },
  {
   "cell_type": "code",
   "execution_count": 12,
   "metadata": {},
   "outputs": [],
   "source": [
    "# drop title and summary\n",
    "df = df.drop([\"title\", \"summary\"], axis=1)"
   ]
  },
  {
   "cell_type": "code",
   "execution_count": 13,
   "metadata": {},
   "outputs": [],
   "source": [
    "# one-hot encode the language column\n",
    "# df = pd.get_dummies(df, columns=[\"lang\"])"
   ]
  },
  {
   "cell_type": "code",
   "execution_count": 14,
   "metadata": {},
   "outputs": [
    {
     "data": {
      "text/html": [
       "<div>\n",
       "<style scoped>\n",
       "    .dataframe tbody tr th:only-of-type {\n",
       "        vertical-align: middle;\n",
       "    }\n",
       "\n",
       "    .dataframe tbody tr th {\n",
       "        vertical-align: top;\n",
       "    }\n",
       "\n",
       "    .dataframe thead th {\n",
       "        text-align: right;\n",
       "    }\n",
       "</style>\n",
       "<table border=\"1\" class=\"dataframe\">\n",
       "  <thead>\n",
       "    <tr style=\"text-align: right;\">\n",
       "      <th></th>\n",
       "      <th>lang</th>\n",
       "      <th>article_count</th>\n",
       "      <th>event_date</th>\n",
       "      <th>title_embed</th>\n",
       "      <th>summary_embed</th>\n",
       "    </tr>\n",
       "    <tr>\n",
       "      <th>id</th>\n",
       "      <th></th>\n",
       "      <th></th>\n",
       "      <th></th>\n",
       "      <th></th>\n",
       "      <th></th>\n",
       "    </tr>\n",
       "  </thead>\n",
       "  <tbody>\n",
       "    <tr>\n",
       "      <th>e_11</th>\n",
       "      <td>eng</td>\n",
       "      <td>7</td>\n",
       "      <td>1.387325e+09</td>\n",
       "      <td>[[0.47470707, -0.08501352, 0.26899937, -0.3635...</td>\n",
       "      <td>[[0.3377615, -0.26158097, 0.3140225, -0.212071...</td>\n",
       "    </tr>\n",
       "    <tr>\n",
       "      <th>e_10</th>\n",
       "      <td>eng</td>\n",
       "      <td>221</td>\n",
       "      <td>1.387411e+09</td>\n",
       "      <td>[[0.17094071, -0.18888026, 0.28712985, -0.3610...</td>\n",
       "      <td>[[0.1786896, -0.11662727, 0.19326286, -0.20948...</td>\n",
       "    </tr>\n",
       "    <tr>\n",
       "      <th>e_13</th>\n",
       "      <td>eng</td>\n",
       "      <td>9</td>\n",
       "      <td>1.387498e+09</td>\n",
       "      <td>[[0.2537402, -0.032281302, 0.37904784, -0.3181...</td>\n",
       "      <td>[[0.026874868, -0.09318099, 0.03552014, -0.026...</td>\n",
       "    </tr>\n",
       "    <tr>\n",
       "      <th>e_12</th>\n",
       "      <td>eng</td>\n",
       "      <td>1</td>\n",
       "      <td>1.387066e+09</td>\n",
       "      <td>[[0.23880291, 0.03649398, 0.32137018, -0.17099...</td>\n",
       "      <td>[[0.46094257, -0.36103615, 0.31917268, -0.6018...</td>\n",
       "    </tr>\n",
       "    <tr>\n",
       "      <th>e_15</th>\n",
       "      <td>eng</td>\n",
       "      <td>8</td>\n",
       "      <td>1.387325e+09</td>\n",
       "      <td>[[0.3985864, -0.06734807, 0.40732777, -0.46121...</td>\n",
       "      <td>[[0.5053371, -0.062929116, 0.27972195, -0.4317...</td>\n",
       "    </tr>\n",
       "  </tbody>\n",
       "</table>\n",
       "</div>"
      ],
      "text/plain": [
       "     lang article_count    event_date  \\\n",
       "id                                      \n",
       "e_11  eng             7  1.387325e+09   \n",
       "e_10  eng           221  1.387411e+09   \n",
       "e_13  eng             9  1.387498e+09   \n",
       "e_12  eng             1  1.387066e+09   \n",
       "e_15  eng             8  1.387325e+09   \n",
       "\n",
       "                                            title_embed  \\\n",
       "id                                                        \n",
       "e_11  [[0.47470707, -0.08501352, 0.26899937, -0.3635...   \n",
       "e_10  [[0.17094071, -0.18888026, 0.28712985, -0.3610...   \n",
       "e_13  [[0.2537402, -0.032281302, 0.37904784, -0.3181...   \n",
       "e_12  [[0.23880291, 0.03649398, 0.32137018, -0.17099...   \n",
       "e_15  [[0.3985864, -0.06734807, 0.40732777, -0.46121...   \n",
       "\n",
       "                                          summary_embed  \n",
       "id                                                       \n",
       "e_11  [[0.3377615, -0.26158097, 0.3140225, -0.212071...  \n",
       "e_10  [[0.1786896, -0.11662727, 0.19326286, -0.20948...  \n",
       "e_13  [[0.026874868, -0.09318099, 0.03552014, -0.026...  \n",
       "e_12  [[0.46094257, -0.36103615, 0.31917268, -0.6018...  \n",
       "e_15  [[0.5053371, -0.062929116, 0.27972195, -0.4317...  "
      ]
     },
     "execution_count": 14,
     "metadata": {},
     "output_type": "execute_result"
    }
   ],
   "source": [
    "df.head()"
   ]
  },
  {
   "cell_type": "code",
   "execution_count": 15,
   "metadata": {},
   "outputs": [],
   "source": [
    "# save the dataframe as a pickle file\n",
    "df.to_pickle(\"../data/text/dataset_embedded.pkl\")"
   ]
  },
  {
   "cell_type": "code",
   "execution_count": 16,
   "metadata": {},
   "outputs": [
    {
     "data": {
      "text/plain": [
       "(1, 768)"
      ]
     },
     "execution_count": 16,
     "metadata": {},
     "output_type": "execute_result"
    }
   ],
   "source": [
    "df.at['e_11', 'title_embed'].shape"
   ]
  },
  {
   "cell_type": "code",
   "execution_count": null,
   "metadata": {},
   "outputs": [],
   "source": []
  }
 ],
 "metadata": {
  "kernelspec": {
   "display_name": "Python 3",
   "language": "python",
   "name": "python3"
  },
  "language_info": {
   "codemirror_mode": {
    "name": "ipython",
    "version": 3
   },
   "file_extension": ".py",
   "mimetype": "text/x-python",
   "name": "python",
   "nbconvert_exporter": "python",
   "pygments_lexer": "ipython3",
   "version": "3.10.8"
  }
 },
 "nbformat": 4,
 "nbformat_minor": 5
}
