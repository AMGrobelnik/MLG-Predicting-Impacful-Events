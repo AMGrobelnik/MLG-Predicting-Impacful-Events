{
 "cells": [
  {
   "cell_type": "code",
   "execution_count": 1,
   "metadata": {},
   "outputs": [],
   "source": [
    "import copy\n",
    "import torch\n",
    "import deepsnap\n",
    "import numpy as np\n",
    "import torch.nn as nn\n",
    "import torch.nn.functional as F\n",
    "import torch_geometric.nn as pyg_nn\n",
    "\n",
    "from sklearn.metrics import f1_score\n",
    "from deepsnap.hetero_gnn import forward_op\n",
    "from deepsnap.hetero_graph import HeteroGraph\n",
    "from torch_sparse import SparseTensor, matmul\n",
    "\n",
    "import pickle\n",
    "import networkx as nx"
   ]
  },
  {
   "cell_type": "code",
   "execution_count": 2,
   "metadata": {},
   "outputs": [],
   "source": [
    "# Please do not change the following parameters\n",
    "args = {\n",
    "    'device': torch.device('cuda' if torch.cuda.is_available() else 'cpu'),\n",
    "    'hidden_size': 64,\n",
    "    'epochs': 100,\n",
    "    'weight_decay': 1e-5,\n",
    "    'lr': 0.003,\n",
    "    'attn_size': 32,\n",
    "}"
   ]
  },
  {
   "cell_type": "code",
   "execution_count": 5,
   "metadata": {},
   "outputs": [
    {
     "name": "stdout",
     "output_type": "stream",
     "text": [
      "Device: cpu\n",
      "{'paper': tensor([0, 0, 0,  ..., 2, 2, 2])}\n",
      "tensor([1061,  965,  999])\n"
     ]
    }
   ],
   "source": [
    "print(\"Device: {}\".format(args['device']))\n",
    "\n",
    "# Load the data\n",
    "data = torch.load(\"acm.pkl\")\n",
    "\n",
    "# Message types\n",
    "message_type_1 = (\"paper\", \"author\", \"paper\")\n",
    "message_type_2 = (\"paper\", \"subject\", \"paper\")\n",
    "\n",
    "# Dictionary of edge indices\n",
    "edge_index = {}\n",
    "edge_index[message_type_1] = data['pap']\n",
    "edge_index[message_type_2] = data['psp']\n",
    "\n",
    "# Dictionary of node features\n",
    "node_feature = {}\n",
    "node_feature[\"paper\"] = data['feature']\n",
    "\n",
    "# Dictionary of node labels\n",
    "node_label = {}\n",
    "node_label[\"paper\"] = data['label']\n",
    "\n",
    "print(node_label)\n",
    "print(torch.bincount(node_label['paper']))\n",
    "\n",
    "# Load the train, validation and test indices\n",
    "train_idx = {\"paper\": data['train_idx'].to(args['device'])}\n",
    "val_idx = {\"paper\": data['val_idx'].to(args['device'])}\n",
    "test_idx = {\"paper\": data['test_idx'].to(args['device'])}\n",
    "\n",
    "# Construct a deepsnap tensor backend HeteroGraph\n",
    "hetero_graph = HeteroGraph(\n",
    "    node_feature=node_feature,\n",
    "    node_label=node_label,\n",
    "    edge_index=edge_index,\n",
    "    directed=True\n",
    ")\n",
    "\n",
    "#print(f\"ACM heterogeneous graph: {hetero_graph.num_nodes()} nodes, {hetero_graph.num_edges()} edges\")\n",
    "\n",
    "# Node feature and node label to device\n",
    "for key in hetero_graph.node_feature:\n",
    "    hetero_graph.node_feature[key] = hetero_graph.node_feature[key].to(args['device'])\n",
    "for key in hetero_graph.node_label:\n",
    "    hetero_graph.node_label[key] = hetero_graph.node_label[key].to(args['device'])\n",
    "\n",
    "# Edge_index to sparse tensor and to device\n",
    "for key in hetero_graph.edge_index:\n",
    "    edge_index = hetero_graph.edge_index[key]\n",
    "    adj = SparseTensor(row=edge_index[0], col=edge_index[1], sparse_sizes=(hetero_graph.num_nodes('paper'), hetero_graph.num_nodes('paper')))\n",
    "    hetero_graph.edge_index[key] = adj.t().to(args['device'])\n",
    "#print(hetero_graph.edge_index[message_type_1])\n",
    "#print(hetero_graph.edge_index[message_type_2])"
   ]
  }
 ],
 "metadata": {
  "kernelspec": {
   "display_name": "Python 3",
   "language": "python",
   "name": "python3"
  },
  "language_info": {
   "codemirror_mode": {
    "name": "ipython",
    "version": 3
   },
   "file_extension": ".py",
   "mimetype": "text/x-python",
   "name": "python",
   "nbconvert_exporter": "python",
   "pygments_lexer": "ipython3",
   "version": "3.11.6"
  }
 },
 "nbformat": 4,
 "nbformat_minor": 2
}
