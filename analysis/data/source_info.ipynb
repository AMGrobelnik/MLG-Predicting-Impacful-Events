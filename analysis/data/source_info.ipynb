{
 "cells": [
  {
   "cell_type": "code",
   "execution_count": 1,
   "id": "initial_id",
   "metadata": {
    "collapsed": true,
    "ExecuteTime": {
     "end_time": "2024-02-28T12:53:02.958712Z",
     "start_time": "2024-02-28T12:53:02.604948Z"
    }
   },
   "outputs": [],
   "source": [
    "from preprocess.util.iterate_files import iterate_files\n",
    "import os.path as path\n",
    "from collections import Counter"
   ]
  },
  {
   "cell_type": "code",
   "outputs": [],
   "source": [
    "def get_data_info(dir, n):\n",
    "    n_events = 0\n",
    "    locations = []\n",
    "    langs = {}\n",
    "    counts = {}\n",
    "    \n",
    "    def add_entry(d, key, value):\n",
    "        if key in d:\n",
    "            d[key] += value\n",
    "        else:\n",
    "            d[key] = value\n",
    "    \n",
    "    def get_info(file_name, df):\n",
    "        nonlocal n_events, locations, langs, counts\n",
    "        \n",
    "        n_events += len(df)\n",
    "        \n",
    "        for index, row in df.iterrows():\n",
    "            articleCounts = row['info']['articleCounts']\n",
    "            multiling = row['info']['multiLingInfo']\n",
    "            location = row['info']['location'] if 'location' in row['info'] else None\n",
    "            \n",
    "            if location is not None:\n",
    "                if 'labelEng' in location:\n",
    "                    locations.append(location['labelEng'])\n",
    "                else:\n",
    "                    print(location)\n",
    "            \n",
    "            for lang in articleCounts.keys():\n",
    "                add_entry(counts, lang, articleCounts[lang])\n",
    "                \n",
    "            for lang in multiling.keys():\n",
    "                add_entry(langs, lang, 1)\n",
    "            \n",
    "    iterate_files(get_info, dir, n)\n",
    "    \n",
    "    locations_counts = Counter(locations)\n",
    "    \n",
    "    return {\n",
    "        'n_events': n_events,\n",
    "        'locations': locations_counts,\n",
    "        'langs': langs,\n",
    "        'counts': counts\n",
    "    }"
   ],
   "metadata": {
    "collapsed": false,
    "ExecuteTime": {
     "end_time": "2024-02-28T12:53:03.451802Z",
     "start_time": "2024-02-28T12:53:03.441374Z"
    }
   },
   "id": "d60c4339adcf22df",
   "execution_count": 2
  },
  {
   "cell_type": "code",
   "outputs": [
    {
     "name": "stderr",
     "output_type": "stream",
     "text": [
      "Processing:   3%|█▋                                              | 102/2944 [00:03<01:43, 27.58it/s]\n"
     ]
    },
    {
     "ename": "KeyboardInterrupt",
     "evalue": "",
     "output_type": "error",
     "traceback": [
      "\u001B[0;31m---------------------------------------------------------------------------\u001B[0m",
      "\u001B[0;31mKeyboardInterrupt\u001B[0m                         Traceback (most recent call last)",
      "Cell \u001B[0;32mIn[3], line 2\u001B[0m\n\u001B[1;32m      1\u001B[0m dir_path \u001B[38;5;241m=\u001B[39m path\u001B[38;5;241m.\u001B[39mabspath(\u001B[38;5;124m\"\u001B[39m\u001B[38;5;124m../../data/preprocessed\u001B[39m\u001B[38;5;124m\"\u001B[39m)\n\u001B[0;32m----> 2\u001B[0m data \u001B[38;5;241m=\u001B[39m \u001B[43mget_data_info\u001B[49m\u001B[43m(\u001B[49m\u001B[43mdir_path\u001B[49m\u001B[43m,\u001B[49m\u001B[43m \u001B[49m\u001B[38;5;241;43m3000\u001B[39;49m\u001B[43m)\u001B[49m\n",
      "Cell \u001B[0;32mIn[2], line 35\u001B[0m, in \u001B[0;36mget_data_info\u001B[0;34m(dir, n)\u001B[0m\n\u001B[1;32m     32\u001B[0m         \u001B[38;5;28;01mfor\u001B[39;00m lang \u001B[38;5;129;01min\u001B[39;00m multiling\u001B[38;5;241m.\u001B[39mkeys():\n\u001B[1;32m     33\u001B[0m             add_entry(langs, lang, \u001B[38;5;241m1\u001B[39m)\n\u001B[0;32m---> 35\u001B[0m \u001B[43miterate_files\u001B[49m\u001B[43m(\u001B[49m\u001B[43mget_info\u001B[49m\u001B[43m,\u001B[49m\u001B[43m \u001B[49m\u001B[38;5;28;43mdir\u001B[39;49m\u001B[43m,\u001B[49m\u001B[43m \u001B[49m\u001B[43mn\u001B[49m\u001B[43m)\u001B[49m\n\u001B[1;32m     37\u001B[0m locations_counts \u001B[38;5;241m=\u001B[39m Counter(locations)\n\u001B[1;32m     39\u001B[0m \u001B[38;5;28;01mreturn\u001B[39;00m {\n\u001B[1;32m     40\u001B[0m     \u001B[38;5;124m'\u001B[39m\u001B[38;5;124mn_events\u001B[39m\u001B[38;5;124m'\u001B[39m: n_events,\n\u001B[1;32m     41\u001B[0m     \u001B[38;5;124m'\u001B[39m\u001B[38;5;124mlocations\u001B[39m\u001B[38;5;124m'\u001B[39m: locations_counts,\n\u001B[1;32m     42\u001B[0m     \u001B[38;5;124m'\u001B[39m\u001B[38;5;124mlangs\u001B[39m\u001B[38;5;124m'\u001B[39m: langs,\n\u001B[1;32m     43\u001B[0m     \u001B[38;5;124m'\u001B[39m\u001B[38;5;124mcounts\u001B[39m\u001B[38;5;124m'\u001B[39m: counts\n\u001B[1;32m     44\u001B[0m }\n",
      "File \u001B[0;32m~/PycharmProjects/MLG/preprocess/util/iterate_files.py:23\u001B[0m, in \u001B[0;36miterate_files\u001B[0;34m(action, directory_path, n)\u001B[0m\n\u001B[1;32m     20\u001B[0m file_path \u001B[38;5;241m=\u001B[39m os\u001B[38;5;241m.\u001B[39mpath\u001B[38;5;241m.\u001B[39mjoin(directory_path, filename)\n\u001B[1;32m     21\u001B[0m file_name \u001B[38;5;241m=\u001B[39m os\u001B[38;5;241m.\u001B[39mpath\u001B[38;5;241m.\u001B[39msplitext(filename)[\u001B[38;5;241m0\u001B[39m]\n\u001B[0;32m---> 23\u001B[0m df \u001B[38;5;241m=\u001B[39m \u001B[43mpd\u001B[49m\u001B[38;5;241;43m.\u001B[39;49m\u001B[43mread_pickle\u001B[49m\u001B[43m(\u001B[49m\u001B[43mfile_path\u001B[49m\u001B[43m)\u001B[49m\n\u001B[1;32m     24\u001B[0m action(file_name, df)\n",
      "File \u001B[0;32m~/miniconda3/envs/mlg/lib/python3.11/site-packages/pandas/io/pickle.py:206\u001B[0m, in \u001B[0;36mread_pickle\u001B[0;34m(filepath_or_buffer, compression, storage_options)\u001B[0m\n\u001B[1;32m    203\u001B[0m     \u001B[38;5;28;01mwith\u001B[39;00m warnings\u001B[38;5;241m.\u001B[39mcatch_warnings(record\u001B[38;5;241m=\u001B[39m\u001B[38;5;28;01mTrue\u001B[39;00m):\n\u001B[1;32m    204\u001B[0m         \u001B[38;5;66;03m# We want to silence any warnings about, e.g. moved modules.\u001B[39;00m\n\u001B[1;32m    205\u001B[0m         warnings\u001B[38;5;241m.\u001B[39msimplefilter(\u001B[38;5;124m\"\u001B[39m\u001B[38;5;124mignore\u001B[39m\u001B[38;5;124m\"\u001B[39m, \u001B[38;5;167;01mWarning\u001B[39;00m)\n\u001B[0;32m--> 206\u001B[0m         \u001B[38;5;28;01mreturn\u001B[39;00m pickle\u001B[38;5;241m.\u001B[39mload(handles\u001B[38;5;241m.\u001B[39mhandle)\n\u001B[1;32m    207\u001B[0m \u001B[38;5;28;01mexcept\u001B[39;00m excs_to_catch:\n\u001B[1;32m    208\u001B[0m     \u001B[38;5;66;03m# e.g.\u001B[39;00m\n\u001B[1;32m    209\u001B[0m     \u001B[38;5;66;03m#  \"No module named 'pandas.core.sparse.series'\"\u001B[39;00m\n\u001B[1;32m    210\u001B[0m     \u001B[38;5;66;03m#  \"Can't get attribute '__nat_unpickle' on <module 'pandas._libs.tslib\"\u001B[39;00m\n\u001B[1;32m    211\u001B[0m     \u001B[38;5;28;01mreturn\u001B[39;00m pc\u001B[38;5;241m.\u001B[39mload(handles\u001B[38;5;241m.\u001B[39mhandle, encoding\u001B[38;5;241m=\u001B[39m\u001B[38;5;28;01mNone\u001B[39;00m)\n",
      "File \u001B[0;32minternals.pyx:634\u001B[0m, in \u001B[0;36mpandas._libs.internals._unpickle_block\u001B[0;34m()\u001B[0m\n",
      "File \u001B[0;32m~/miniconda3/envs/mlg/lib/python3.11/site-packages/pandas/core/internals/blocks.py:2317\u001B[0m, in \u001B[0;36mmaybe_coerce_values\u001B[0;34m(values)\u001B[0m\n\u001B[1;32m   2310\u001B[0m     \u001B[38;5;18m__slots__\u001B[39m \u001B[38;5;241m=\u001B[39m ()\n\u001B[1;32m   2313\u001B[0m \u001B[38;5;66;03m# -----------------------------------------------------------------\u001B[39;00m\n\u001B[1;32m   2314\u001B[0m \u001B[38;5;66;03m# Constructor Helpers\u001B[39;00m\n\u001B[0;32m-> 2317\u001B[0m \u001B[38;5;28;01mdef\u001B[39;00m \u001B[38;5;21mmaybe_coerce_values\u001B[39m(values: ArrayLike) \u001B[38;5;241m-\u001B[39m\u001B[38;5;241m>\u001B[39m ArrayLike:\n\u001B[1;32m   2318\u001B[0m \u001B[38;5;250m    \u001B[39m\u001B[38;5;124;03m\"\"\"\u001B[39;00m\n\u001B[1;32m   2319\u001B[0m \u001B[38;5;124;03m    Input validation for values passed to __init__. Ensure that\u001B[39;00m\n\u001B[1;32m   2320\u001B[0m \u001B[38;5;124;03m    any datetime64/timedelta64 dtypes are in nanoseconds.  Ensure\u001B[39;00m\n\u001B[0;32m   (...)\u001B[0m\n\u001B[1;32m   2329\u001B[0m \u001B[38;5;124;03m    values : np.ndarray or ExtensionArray\u001B[39;00m\n\u001B[1;32m   2330\u001B[0m \u001B[38;5;124;03m    \"\"\"\u001B[39;00m\n\u001B[1;32m   2331\u001B[0m     \u001B[38;5;66;03m# Caller is responsible for ensuring NumpyExtensionArray is already extracted.\u001B[39;00m\n",
      "\u001B[0;31mKeyboardInterrupt\u001B[0m: "
     ]
    }
   ],
   "source": [
    "dir_path = path.abspath(\"../../data/preprocessed\")\n",
    "data = get_data_info(dir_path, 3000)"
   ],
   "metadata": {
    "collapsed": false,
    "ExecuteTime": {
     "end_time": "2024-02-28T12:53:07.915064Z",
     "start_time": "2024-02-28T12:53:03.938531Z"
    }
   },
   "id": "2473c7b7fa5d2a99",
   "execution_count": 3
  },
  {
   "cell_type": "code",
   "outputs": [],
   "source": [
    "n_events, locations, langs, article_counts = data['n_events'], data['locations'], data['langs'], data['counts']"
   ],
   "metadata": {
    "collapsed": false,
    "ExecuteTime": {
     "end_time": "2024-02-28T11:45:32.539322Z",
     "start_time": "2024-02-28T11:45:32.532621Z"
    }
   },
   "id": "d3aec1b8281ac4f1",
   "execution_count": 97
  },
  {
   "cell_type": "code",
   "outputs": [
    {
     "data": {
      "text/plain": "2632115"
     },
     "execution_count": 68,
     "metadata": {},
     "output_type": "execute_result"
    }
   ],
   "source": [
    "n_events"
   ],
   "metadata": {
    "collapsed": false,
    "ExecuteTime": {
     "end_time": "2024-02-28T11:33:15.282481Z",
     "start_time": "2024-02-28T11:33:15.275818Z"
    }
   },
   "id": "98ed1cef322a612b",
   "execution_count": 68
  },
  {
   "cell_type": "code",
   "outputs": [
    {
     "name": "stdout",
     "output_type": "stream",
     "text": [
      "United States: 24.59%\n",
      "Germany: 10.67%\n",
      "Spain: 7.80%\n",
      "United Kingdom: 5.56%\n",
      "Canada: 2.46%\n",
      "India: 2.27%\n",
      "France: 2.09%\n",
      "Russia: 2.04%\n",
      "Mexico: 1.75%\n",
      "Austria: 1.73%\n",
      "Australia: 1.71%\n",
      "Italy: 1.61%\n",
      "China: 1.49%\n",
      "Argentina: 1.44%\n",
      "Switzerland: 1.26%\n",
      "Japan: 1.14%\n",
      "Brazil: 1.06%\n",
      "Venezuela: 1.00%\n",
      "Israel: 0.83%\n",
      "Chile: 0.80%\n",
      "Belgium: 0.59%\n",
      "Syria: 0.51%\n",
      "South Africa: 0.51%\n",
      "Peru: 0.49%\n",
      "Pakistan: 0.48%\n",
      "Greece: 0.47%\n",
      "Colombia: 0.45%\n",
      "Nigeria: 0.43%\n",
      "Hong Kong: 0.41%\n",
      "New Zealand: 0.41%\n",
      "Kiev: 0.37%\n",
      "Republic of Ireland: 0.35%\n",
      "Ukraine: 0.34%\n",
      "Cuba: 0.34%\n",
      "Turkey: 0.32%\n",
      "Philippines: 0.32%\n",
      "Taiwan: 0.32%\n",
      "United Arab Emirates: 0.30%\n",
      "Singapore: 0.30%\n",
      "Iran: 0.29%\n",
      "Portugal: 0.29%\n",
      "Kenya: 0.29%\n",
      "Bolivia: 0.28%\n",
      "Malaysia: 0.28%\n",
      "Egypt: 0.27%\n",
      "Mesopotamia: 0.27%\n",
      "Netherlands: 0.26%\n",
      "Thailand: 0.24%\n",
      "Palestine: 0.22%\n",
      "Saudi Arabia: 0.21%\n",
      "Dominican Republic: 0.21%\n",
      "Afghanistan: 0.20%\n",
      "London: 0.20%\n",
      "Sweden: 0.19%\n",
      "Lebanon: 0.19%\n",
      "Uruguay: 0.19%\n",
      "Korea: 0.19%\n",
      "Ecuador: 0.18%\n",
      "North Korea: 0.17%\n",
      "Beijing: 0.16%\n",
      "Serbia: 0.16%\n",
      "Vatican City: 0.16%\n",
      "Libya: 0.15%\n",
      "Poland: 0.15%\n",
      "Paris: 0.15%\n",
      "Indonesia: 0.14%\n",
      "Puerto Rico: 0.14%\n",
      "Norway: 0.13%\n",
      "Qatar: 0.13%\n",
      "Berlin: 0.13%\n",
      "Yemen: 0.13%\n",
      "Moscow: 0.12%\n",
      "Denmark: 0.12%\n",
      "Ireland: 0.11%\n",
      "Belarus: 0.11%\n",
      "Finland: 0.11%\n",
      "Sri Lanka: 0.11%\n",
      "Slovenia: 0.11%\n",
      "Nepal: 0.11%\n",
      "Ghana: 0.11%\n",
      "Armenia: 0.10%\n",
      "Madrid: 0.10%\n",
      "New York City: 0.10%\n",
      "Jordan: 0.10%\n",
      "Donetsk: 0.10%\n",
      "Athens: 0.10%\n",
      "Czech Republic: 0.10%\n",
      "Paraguay: 0.09%\n",
      "New York: 0.09%\n",
      "California: 0.09%\n",
      "England: 0.09%\n",
      "Los Angeles: 0.09%\n",
      "Barcelona: 0.08%\n",
      "Texas: 0.08%\n",
      "Morocco: 0.08%\n",
      "Bangladesh: 0.08%\n",
      "Bulgaria: 0.08%\n",
      "Burma: 0.08%\n",
      "Liberia: 0.08%\n",
      "Jamaica: 0.08%\n",
      "-----------\n",
      "Total: 90.14%\n"
     ]
    }
   ],
   "source": [
    "# get location distribution\n",
    "most_common = locations.most_common(100)\n",
    "total_events = sum(locations.values())\n",
    "total_per = 0\n",
    "for i in range(len(most_common)):\n",
    "    name, counts = most_common[i]\n",
    "    print(f\"{name}: {counts/total_events*100:.2f}%\")\n",
    "    total_per += counts/total_events*100\n",
    "    \n",
    "print(\"-----------\")\n",
    "print(f\"Total: {total_per:.2f}%\")"
   ],
   "metadata": {
    "collapsed": false,
    "ExecuteTime": {
     "end_time": "2024-02-28T11:42:42.899109Z",
     "start_time": "2024-02-28T11:42:42.864483Z"
    }
   },
   "id": "53895b6f90cae0ec",
   "execution_count": 93
  },
  {
   "cell_type": "code",
   "outputs": [
    {
     "data": {
      "text/plain": "({'eng': 1499144,\n  'spa': 483132,\n  'zho': 174710,\n  'deu': 406045,\n  'slv': 13099,\n  'ita': 13362,\n  'hrv': 7874,\n  'rus': 25075,\n  'fra': 32509,\n  'por': 14514,\n  'cat': 1312,\n  'tur': 5760,\n  'ara': 9776,\n  'srp': 2068},\n 14)"
     },
     "execution_count": 70,
     "metadata": {},
     "output_type": "execute_result"
    }
   ],
   "source": [
    "langs, len(langs)"
   ],
   "metadata": {
    "collapsed": false,
    "ExecuteTime": {
     "end_time": "2024-02-28T11:33:16.468298Z",
     "start_time": "2024-02-28T11:33:16.458943Z"
    }
   },
   "id": "118c1fdc51982b78",
   "execution_count": 70
  },
  {
   "cell_type": "code",
   "outputs": [
    {
     "name": "stdout",
     "output_type": "stream",
     "text": [
      "eng: 55.76%\n",
      "spa: 17.97%\n",
      "zho: 6.50%\n",
      "deu: 15.10%\n",
      "slv: 0.49%\n",
      "ita: 0.50%\n",
      "hrv: 0.29%\n",
      "rus: 0.93%\n",
      "fra: 1.21%\n",
      "por: 0.54%\n",
      "cat: 0.05%\n",
      "tur: 0.21%\n",
      "ara: 0.36%\n",
      "srp: 0.08%\n"
     ]
    }
   ],
   "source": [
    "total_langs = sum(langs.values())\n",
    "for lang, count in langs.items():\n",
    "    print(f\"{lang}: {count/total_langs*100:.2f}%\")"
   ],
   "metadata": {
    "collapsed": false,
    "ExecuteTime": {
     "end_time": "2024-02-28T11:44:05.605352Z",
     "start_time": "2024-02-28T11:44:05.601927Z"
    }
   },
   "id": "3580dbd58c74f01d",
   "execution_count": 94
  },
  {
   "cell_type": "code",
   "outputs": [
    {
     "data": {
      "text/plain": "{'total': 33549078,\n 'eng': 22264068,\n 'spa': 4404404,\n 'zho': 1701025,\n 'deu': 3940879,\n 'slv': 113851,\n 'ita': 128387,\n 'hrv': 70323,\n 'rus': 243206,\n 'fra': 370115,\n 'por': 142587,\n 'cat': 12125,\n 'tur': 52789,\n 'ara': 85793,\n 'srp': 19526}"
     },
     "execution_count": 99,
     "metadata": {},
     "output_type": "execute_result"
    }
   ],
   "source": [
    "article_counts"
   ],
   "metadata": {
    "collapsed": false,
    "ExecuteTime": {
     "end_time": "2024-02-28T11:45:52.838567Z",
     "start_time": "2024-02-28T11:45:52.832069Z"
    }
   },
   "id": "8f866d359a693e7b",
   "execution_count": 99
  },
  {
   "cell_type": "code",
   "outputs": [
    {
     "name": "stdout",
     "output_type": "stream",
     "text": [
      "total: 100.00%\n",
      "eng: 66.36%\n",
      "spa: 13.13%\n",
      "zho: 5.07%\n",
      "deu: 11.75%\n",
      "slv: 0.34%\n",
      "ita: 0.38%\n",
      "hrv: 0.21%\n",
      "rus: 0.72%\n",
      "fra: 1.10%\n",
      "por: 0.43%\n",
      "cat: 0.04%\n",
      "tur: 0.16%\n",
      "ara: 0.26%\n",
      "srp: 0.06%\n"
     ]
    }
   ],
   "source": [
    "total_counts = sum(article_counts.values()) - article_counts['total']\n",
    "for lang, count in article_counts.items():\n",
    "    print(f\"{lang}: {count/total_counts*100:.2f}%\")"
   ],
   "metadata": {
    "collapsed": false,
    "ExecuteTime": {
     "end_time": "2024-02-28T11:46:14.561131Z",
     "start_time": "2024-02-28T11:46:14.553763Z"
    }
   },
   "id": "8d48115c62c81f4c",
   "execution_count": 100
  },
  {
   "cell_type": "code",
   "outputs": [],
   "source": [],
   "metadata": {
    "collapsed": false
   },
   "id": "d2b30958b5cc6414"
  }
 ],
 "metadata": {
  "kernelspec": {
   "display_name": "Python 3",
   "language": "python",
   "name": "python3"
  },
  "language_info": {
   "codemirror_mode": {
    "name": "ipython",
    "version": 2
   },
   "file_extension": ".py",
   "mimetype": "text/x-python",
   "name": "python",
   "nbconvert_exporter": "python",
   "pygments_lexer": "ipython2",
   "version": "2.7.6"
  }
 },
 "nbformat": 4,
 "nbformat_minor": 5
}
