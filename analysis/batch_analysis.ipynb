{
 "cells": [
  {
   "cell_type": "code",
   "execution_count": 1,
   "id": "initial_id",
   "metadata": {
    "collapsed": true,
    "ExecuteTime": {
     "end_time": "2023-12-16T22:38:14.936084Z",
     "start_time": "2023-12-16T22:38:13.312683Z"
    }
   },
   "outputs": [],
   "source": [
    "import pickle\n",
    "import networkx as nx\n",
    "import matplotlib.pyplot as plt\n",
    "import numpy as np\n",
    "import pandas as pd"
   ]
  },
  {
   "cell_type": "code",
   "execution_count": 2,
   "outputs": [],
   "source": [
    "with open('./graphs.pkl', 'rb') as f:\n",
    "    graphs = pickle.load(f)"
   ],
   "metadata": {
    "collapsed": false,
    "ExecuteTime": {
     "end_time": "2023-12-16T22:38:29.486589Z",
     "start_time": "2023-12-16T22:38:14.937171Z"
    }
   },
   "id": "71761ec12eeabc6"
  },
  {
   "cell_type": "code",
   "execution_count": 3,
   "outputs": [
    {
     "name": "stdout",
     "output_type": "stream",
     "text": [
      "c_7261 {'node_type': 'concept', 'node_feature': array([ 1.49000000e+02,  5.56243844e-02, -1.32697016e-01,  1.80167049e-01,\n",
      "       -8.54894668e-02,  1.19979054e-01,  1.53961644e-01, -5.16535603e-02,\n",
      "       -1.38601307e-02, -7.87414759e-02,  3.96418236e-02,  1.13002896e-01,\n",
      "        7.74992630e-02,  8.91781598e-03, -1.92961782e-01, -2.27575675e-02,\n",
      "       -1.22387916e-01, -1.02404319e-01, -6.29378334e-02, -7.91537315e-02,\n",
      "        6.92976937e-02,  1.20116279e-01,  4.12906967e-02, -3.20180416e-01,\n",
      "        1.54964238e-01, -9.94347557e-02, -1.53273270e-02,  8.92051086e-02,\n",
      "       -5.03597781e-02,  1.05510265e-01, -5.62509522e-05,  6.90224171e-02,\n",
      "        2.94789709e-02,  6.50980398e-02,  5.58857024e-01,  1.00221947e-01,\n",
      "       -2.15795830e-01, -6.94271028e-02,  1.14316893e+00, -4.50918555e-01,\n",
      "        1.35639966e-01, -2.68275104e-02, -7.06465095e-02, -2.14624301e-01,\n",
      "       -9.21650082e-02, -3.63600254e-02, -5.27555421e-02,  6.69585839e-02,\n",
      "       -6.93681762e-02,  2.97508240e+00, -1.13852121e-01,  2.79264450e-01,\n",
      "        2.54749477e-01, -1.00279152e-01,  5.34725152e-02,  1.22477509e-01,\n",
      "        3.14371735e-02, -3.00179273e-01,  3.06280926e-02, -4.29858789e-02,\n",
      "       -3.30976658e-02,  2.96329986e-02,  5.06905131e-02, -5.92947342e-02,\n",
      "       -3.85212339e-02,  1.82673648e-01, -2.09794015e-01,  1.74012229e-01,\n",
      "        1.77963421e-01,  1.66532472e-01, -2.04970717e-01, -1.90997973e-01,\n",
      "       -1.22731820e-01, -1.02473035e-01,  2.89287213e-02, -1.20329544e-01,\n",
      "        1.58240125e-02,  1.04116194e-01,  2.04215959e-01,  1.16570151e+00,\n",
      "        1.95355475e-01, -1.84813529e-01,  7.60139376e-02,  3.32381576e-02,\n",
      "       -9.88001898e-02, -1.82847500e-01, -1.43704601e-02, -9.62927267e-02,\n",
      "        7.26222754e-01,  6.70353547e-02,  6.06335625e-02, -6.56291619e-02,\n",
      "        1.23432502e-01,  1.03894338e-01, -6.55526668e-02,  1.40481457e-01,\n",
      "       -3.23634669e-02, -4.87301014e-02, -1.25016896e-02, -3.22542377e-02,\n",
      "        1.95253834e-01], dtype=float32), 'embedding': array([ 1.67383589e-02, -7.34395231e-04,  1.30771488e-01,  2.17196330e-01,\n",
      "       -1.37349591e-03, -1.43832713e-03,  1.73792660e-01,  2.51915663e-01,\n",
      "        1.29233256e-01,  2.52248108e-01,  7.57634789e-02,  7.92368352e-02,\n",
      "        4.58897538e-02,  8.69646966e-02,  6.57949671e-02, -1.34519977e-03,\n",
      "        1.38100535e-01, -4.80572606e-04,  3.45617649e-03,  1.04432300e-01,\n",
      "       -1.49573537e-03,  9.73095596e-02, -1.07534858e-03,  3.10603008e-02,\n",
      "       -3.59824859e-04, -1.44303299e-03,  8.08765274e-03, -5.09437697e-04,\n",
      "        3.28541286e-02, -4.53442539e-04, -2.45409482e-03, -1.37778523e-03,\n",
      "        1.04575306e-01,  1.63819432e-01, -6.35559030e-04,  5.10971509e-02,\n",
      "        3.82587872e-02, -1.77237450e-03,  1.82086289e-01, -1.75174864e-04,\n",
      "       -2.21312209e-03, -2.06586858e-03,  4.06908654e-02,  2.21871421e-01,\n",
      "       -6.11350406e-04,  6.64679557e-02,  2.71007627e-01, -1.66819757e-03,\n",
      "        8.78861398e-02, -4.20652534e-04, -3.93100025e-04, -1.83148572e-04,\n",
      "       -4.63853212e-05, -5.41991612e-04, -2.44663120e-03, -1.02910388e-03,\n",
      "        1.12256095e-01, -8.62505403e-04,  1.15814544e-01, -3.17737460e-04],\n",
      "      dtype=float32)}\n"
     ]
    }
   ],
   "source": [
    "for n, data in graphs[0].nodes(data=True):\n",
    "    if data['node_type'] != 'concept':\n",
    "        continue\n",
    "    print(n, data)\n",
    "    break"
   ],
   "metadata": {
    "collapsed": false,
    "ExecuteTime": {
     "end_time": "2023-12-16T22:38:29.664380Z",
     "start_time": "2023-12-16T22:38:29.491427Z"
    }
   },
   "id": "6f0462a80cfe0b08"
  },
  {
   "cell_type": "code",
   "execution_count": 7,
   "outputs": [],
   "source": [
    "import pandas as pd\n",
    "\n",
    "def get_dataframe(graph):\n",
    "    # Define the data types for each column\n",
    "    dtypes = {'node_id': 'str',\n",
    "              'node_type': 'str', \n",
    "              'event_date': 'float32',  # Adjust this dtype based on the actual data type of your date\n",
    "              'article_count': 'float32',  # Assuming article count is numeric\n",
    "              'prediction': 'float32'}  # Assuming prediction is numeric\n",
    "\n",
    "    df = pd.DataFrame(columns=dtypes.keys())\n",
    "    embeddings = np.array([])\n",
    "    for node, data in graph.nodes(data=True):\n",
    "        node_type = data['node_type']\n",
    "        embedding = data['embedding']\n",
    "        embeddings = np.append(embeddings, embedding, axis=0)\n",
    "        \n",
    "        temp_dict = {'node_id': node,\n",
    "                     'node_type': node_type, \n",
    "                     'event_date': None, \n",
    "                     'article_count': None, \n",
    "                     'prediction': None}\n",
    "        \n",
    "        if node_type == 'concept':\n",
    "            df = pd.concat([df, pd.DataFrame([temp_dict], columns=df.columns)], ignore_index=True)\n",
    "            continue\n",
    "        \n",
    "        features = data['node_feature']\n",
    "        temp_dict['event_date'] = features[0] * 16600\n",
    "        \n",
    "        if node_type == 'event':\n",
    "            temp_dict['article_count'] = features[1]\n",
    "        else:\n",
    "            temp_dict['article_count'] = data['node_target'][0]\n",
    "            temp_dict['prediction'] = data['prediction'][0]\n",
    "            \n",
    "        df = pd.concat([df, pd.DataFrame([temp_dict], columns=df.columns)], ignore_index=True)\n",
    "    # Convert columns to their respective data types\n",
    "    for col, dtype in dtypes.items():\n",
    "        df[col] = df[col].astype(dtype)\n",
    "        \n",
    "    return df, embeddings\n"
   ],
   "metadata": {
    "collapsed": false,
    "ExecuteTime": {
     "end_time": "2023-12-16T22:47:46.555526Z",
     "start_time": "2023-12-16T22:47:46.527517Z"
    }
   },
   "id": "23510bfcbab6d8c3"
  },
  {
   "cell_type": "code",
   "execution_count": 8,
   "outputs": [
    {
     "name": "stderr",
     "output_type": "stream",
     "text": [
      "/var/folders/t_/181rjdy93vg4rlj82l3c36_40000gn/T/ipykernel_68340/2897005210.py:37: FutureWarning: The behavior of DataFrame concatenation with empty or all-NA entries is deprecated. In a future version, this will no longer exclude empty or all-NA columns when determining the result dtypes. To retain the old behavior, exclude the relevant entries before the concat operation.\n",
      "  df = pd.concat([df, pd.DataFrame([temp_dict], columns=df.columns)], ignore_index=True)\n",
      "/var/folders/t_/181rjdy93vg4rlj82l3c36_40000gn/T/ipykernel_68340/2897005210.py:25: FutureWarning: The behavior of DataFrame concatenation with empty or all-NA entries is deprecated. In a future version, this will no longer exclude empty or all-NA columns when determining the result dtypes. To retain the old behavior, exclude the relevant entries before the concat operation.\n",
      "  df = pd.concat([df, pd.DataFrame([temp_dict], columns=df.columns)], ignore_index=True)\n"
     ]
    }
   ],
   "source": [
    "df, embeds = get_dataframe(graphs[0])"
   ],
   "metadata": {
    "collapsed": false,
    "ExecuteTime": {
     "end_time": "2023-12-16T22:56:11.985546Z",
     "start_time": "2023-12-16T22:47:47.743781Z"
    }
   },
   "id": "ca4fe3fedc383441"
  },
  {
   "cell_type": "code",
   "execution_count": 9,
   "outputs": [
    {
     "data": {
      "text/plain": "     node_id node_type  event_date  article_count  prediction\n0  e_2765400     event    215800.0       0.995000         NaN\n1  e_2150458     event    514600.0       0.990241         NaN\n2  e_1908730     event    597600.0       0.988313         NaN\n3  e_2794829     event    564400.0       0.995361         NaN\n4  e_1664256     event    365200.0       0.986566         NaN",
      "text/html": "<div>\n<style scoped>\n    .dataframe tbody tr th:only-of-type {\n        vertical-align: middle;\n    }\n\n    .dataframe tbody tr th {\n        vertical-align: top;\n    }\n\n    .dataframe thead th {\n        text-align: right;\n    }\n</style>\n<table border=\"1\" class=\"dataframe\">\n  <thead>\n    <tr style=\"text-align: right;\">\n      <th></th>\n      <th>node_id</th>\n      <th>node_type</th>\n      <th>event_date</th>\n      <th>article_count</th>\n      <th>prediction</th>\n    </tr>\n  </thead>\n  <tbody>\n    <tr>\n      <th>0</th>\n      <td>e_2765400</td>\n      <td>event</td>\n      <td>215800.0</td>\n      <td>0.995000</td>\n      <td>NaN</td>\n    </tr>\n    <tr>\n      <th>1</th>\n      <td>e_2150458</td>\n      <td>event</td>\n      <td>514600.0</td>\n      <td>0.990241</td>\n      <td>NaN</td>\n    </tr>\n    <tr>\n      <th>2</th>\n      <td>e_1908730</td>\n      <td>event</td>\n      <td>597600.0</td>\n      <td>0.988313</td>\n      <td>NaN</td>\n    </tr>\n    <tr>\n      <th>3</th>\n      <td>e_2794829</td>\n      <td>event</td>\n      <td>564400.0</td>\n      <td>0.995361</td>\n      <td>NaN</td>\n    </tr>\n    <tr>\n      <th>4</th>\n      <td>e_1664256</td>\n      <td>event</td>\n      <td>365200.0</td>\n      <td>0.986566</td>\n      <td>NaN</td>\n    </tr>\n  </tbody>\n</table>\n</div>"
     },
     "execution_count": 9,
     "metadata": {},
     "output_type": "execute_result"
    }
   ],
   "source": [
    "df.head()"
   ],
   "metadata": {
    "collapsed": false,
    "ExecuteTime": {
     "end_time": "2023-12-16T22:56:12.022710Z",
     "start_time": "2023-12-16T22:56:12.015337Z"
    }
   },
   "id": "6a685acaa3ea7f4b"
  },
  {
   "cell_type": "code",
   "execution_count": 10,
   "outputs": [],
   "source": [
    "# save df to pickle\n",
    "with open('./df_0.pkl', 'wb') as f:\n",
    "    pickle.dump(df, f)"
   ],
   "metadata": {
    "collapsed": false,
    "ExecuteTime": {
     "end_time": "2023-12-16T22:57:44.030423Z",
     "start_time": "2023-12-16T22:57:43.974610Z"
    }
   },
   "id": "dba48bea93c632c0"
  },
  {
   "cell_type": "code",
   "execution_count": 11,
   "outputs": [],
   "source": [
    "# save embeddings to pickle\n",
    "with open('./embeds_0.pkl', 'wb') as f:\n",
    "    pickle.dump(embeds, f)"
   ],
   "metadata": {
    "collapsed": false,
    "ExecuteTime": {
     "end_time": "2023-12-16T22:57:50.790082Z",
     "start_time": "2023-12-16T22:57:50.723083Z"
    }
   },
   "id": "4774e83338c7d294"
  },
  {
   "cell_type": "code",
   "execution_count": 15,
   "outputs": [
    {
     "ename": "ValueError",
     "evalue": "cannot reshape array of size 6077940 into shape (768)",
     "output_type": "error",
     "traceback": [
      "\u001B[0;31m---------------------------------------------------------------------------\u001B[0m",
      "\u001B[0;31mValueError\u001B[0m                                Traceback (most recent call last)",
      "Cell \u001B[0;32mIn[15], line 1\u001B[0m\n\u001B[0;32m----> 1\u001B[0m embeds \u001B[38;5;241m=\u001B[39m \u001B[43membeds\u001B[49m\u001B[38;5;241;43m.\u001B[39;49m\u001B[43mreshape\u001B[49m\u001B[43m(\u001B[49m\u001B[38;5;241;43m-\u001B[39;49m\u001B[38;5;241;43m1\u001B[39;49m\u001B[43m,\u001B[49m\u001B[43m \u001B[49m\u001B[38;5;241;43m768\u001B[39;49m\u001B[43m)\u001B[49m\n",
      "\u001B[0;31mValueError\u001B[0m: cannot reshape array of size 6077940 into shape (768)"
     ]
    }
   ],
   "source": [
    "embeds = embeds.reshape(-1, 768)"
   ],
   "metadata": {
    "collapsed": false,
    "ExecuteTime": {
     "end_time": "2023-12-16T23:00:24.594247Z",
     "start_time": "2023-12-16T23:00:24.535284Z"
    }
   },
   "id": "86edc4a7171455f6"
  },
  {
   "cell_type": "code",
   "execution_count": 14,
   "outputs": [
    {
     "ename": "AttributeError",
     "evalue": "module 'umap' has no attribute 'UMAP'",
     "output_type": "error",
     "traceback": [
      "\u001B[0;31m---------------------------------------------------------------------------\u001B[0m",
      "\u001B[0;31mAttributeError\u001B[0m                            Traceback (most recent call last)",
      "Cell \u001B[0;32mIn[14], line 3\u001B[0m\n\u001B[1;32m      1\u001B[0m \u001B[38;5;28;01mimport\u001B[39;00m \u001B[38;5;21;01mumap\u001B[39;00m\n\u001B[0;32m----> 3\u001B[0m reducer \u001B[38;5;241m=\u001B[39m \u001B[43mumap\u001B[49m\u001B[38;5;241;43m.\u001B[39;49m\u001B[43mUMAP\u001B[49m()\n\u001B[1;32m      4\u001B[0m embedding \u001B[38;5;241m=\u001B[39m reducer\u001B[38;5;241m.\u001B[39mfit_transform(embeds\u001B[38;5;241m.\u001B[39mreshape(\u001B[38;5;241m-\u001B[39m\u001B[38;5;241m1\u001B[39m, \u001B[38;5;241m768\u001B[39m))\n",
      "\u001B[0;31mAttributeError\u001B[0m: module 'umap' has no attribute 'UMAP'"
     ]
    }
   ],
   "source": [
    "import umap\n",
    "\n",
    "reducer = umap.UMAP()\n",
    "embedding = reducer.fit_transform(embeds.reshape(-1, 768))"
   ],
   "metadata": {
    "collapsed": false,
    "ExecuteTime": {
     "end_time": "2023-12-16T22:59:38.560469Z",
     "start_time": "2023-12-16T22:59:37.530044Z"
    }
   },
   "id": "d148fce89c43ef3d"
  },
  {
   "cell_type": "code",
   "execution_count": 22,
   "outputs": [],
   "source": [
    "e = []\n",
    "for node, data in graphs[0].nodes(data=True):\n",
    "    e.append(data['embedding'])"
   ],
   "metadata": {
    "collapsed": false,
    "ExecuteTime": {
     "end_time": "2023-12-16T23:02:04.390362Z",
     "start_time": "2023-12-16T23:02:04.112883Z"
    }
   },
   "id": "fe861479245716f1"
  },
  {
   "cell_type": "code",
   "execution_count": 24,
   "outputs": [],
   "source": [
    "e = np.array(e)"
   ],
   "metadata": {
    "collapsed": false,
    "ExecuteTime": {
     "end_time": "2023-12-16T23:02:18.007088Z",
     "start_time": "2023-12-16T23:02:17.796698Z"
    }
   },
   "id": "6971820247552658"
  },
  {
   "cell_type": "code",
   "execution_count": 25,
   "outputs": [
    {
     "data": {
      "text/plain": "(101299, 60)"
     },
     "execution_count": 25,
     "metadata": {},
     "output_type": "execute_result"
    }
   ],
   "source": [
    "e.shape"
   ],
   "metadata": {
    "collapsed": false,
    "ExecuteTime": {
     "end_time": "2023-12-16T23:02:21.559003Z",
     "start_time": "2023-12-16T23:02:21.520488Z"
    }
   },
   "id": "35cedae3602934c3"
  },
  {
   "cell_type": "code",
   "execution_count": null,
   "outputs": [
    {
     "name": "stderr",
     "output_type": "stream",
     "text": [
      "OMP: Info #276: omp_set_nested routine deprecated, please use omp_set_max_active_levels instead.\n"
     ]
    }
   ],
   "source": [
    "import umap.umap_ as umap\n",
    "\n",
    "reducer = umap.UMAP()\n",
    "embedding = reducer.fit_transform(e)"
   ],
   "metadata": {
    "collapsed": false,
    "is_executing": true,
    "ExecuteTime": {
     "start_time": "2023-12-16T23:07:11.066906Z"
    }
   },
   "id": "aa8534f2ce003134"
  },
  {
   "cell_type": "code",
   "execution_count": null,
   "outputs": [],
   "source": [
    " "
   ],
   "metadata": {
    "collapsed": false
   },
   "id": "17bfb9e4ee3c740f"
  }
 ],
 "metadata": {
  "kernelspec": {
   "display_name": "Python 3",
   "language": "python",
   "name": "python3"
  },
  "language_info": {
   "codemirror_mode": {
    "name": "ipython",
    "version": 2
   },
   "file_extension": ".py",
   "mimetype": "text/x-python",
   "name": "python",
   "nbconvert_exporter": "python",
   "pygments_lexer": "ipython2",
   "version": "2.7.6"
  }
 },
 "nbformat": 4,
 "nbformat_minor": 5
}
