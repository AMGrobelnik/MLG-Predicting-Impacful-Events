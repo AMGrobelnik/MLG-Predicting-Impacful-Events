{
 "cells": [
  {
   "cell_type": "code",
   "execution_count": 1,
   "metadata": {},
   "outputs": [],
   "source": [
    "import copy\n",
    "import torch\n",
    "import deepsnap\n",
    "import numpy as np\n",
    "import torch.nn as nn\n",
    "import torch.nn.functional as F\n",
    "import torch_geometric.nn as pyg_nn\n",
    "\n",
    "from sklearn.metrics import f1_score\n",
    "from deepsnap.hetero_gnn import forward_op\n",
    "from deepsnap.hetero_graph import HeteroGraph\n",
    "from torch_sparse import SparseTensor, matmul\n",
    "\n",
    "import pickle\n",
    "import networkx as nx\n",
    "import wandb\n",
    "import optuna\n",
    "import argparse\n",
    "from multiprocessing.pool import ThreadPool\n",
    "\n",
    "import os\n",
    "from tqdm import tqdm"
   ]
  },
  {
   "cell_type": "code",
   "execution_count": 2,
   "metadata": {},
   "outputs": [],
   "source": [
    "import sys\n",
    "import os\n",
    "\n",
    "# Get the current working directory\n",
    "current_working_directory = os.getcwd()\n",
    "\n",
    "# Construct the relative path (adjust the relative path as needed)\n",
    "relative_path = os.path.join(current_working_directory, '../../train/gnn_llm/')\n",
    "\n",
    "# Normalize the path to resolve any '..'\n",
    "normalized_path = os.path.normpath(relative_path)\n",
    "\n",
    "# Add the path to sys.path\n",
    "sys.path.append(normalized_path)\n",
    "\n",
    "# Now you can import your module\n",
    "from hetero_gnn import HeteroGNN"
   ]
  },
  {
   "cell_type": "code",
   "execution_count": 3,
   "metadata": {},
   "outputs": [],
   "source": [
    "def load_hetero_graph(G):\n",
    "    hete = HeteroGraph(G, netlib=nx, directed=True)\n",
    "    hete[\"node_target\"] = hete._get_node_attributes(\"node_target\")\n",
    "\n",
    "    for key in hete[\"node_target\"]:\n",
    "        node_target = hete[\"node_target\"][key]\n",
    "        node_target = np.array(node_target)\n",
    "        hete[\"node_target\"][key] = torch.tensor(node_target)\n",
    "\n",
    "    for key in hete[\"node_feature\"]:\n",
    "        node_feature = hete[\"node_feature\"][key]\n",
    "        node_feature = np.array(node_feature)\n",
    "        hete[\"node_feature\"][key] = torch.tensor(node_feature)\n",
    "\n",
    "    del hete.G\n",
    "\n",
    "    return hete"
   ]
  },
  {
   "cell_type": "code",
   "execution_count": 4,
   "metadata": {},
   "outputs": [],
   "source": [
    "def get_batches_from_pickle(folder_path):\n",
    "    pickle_files = os.listdir(folder_path)\n",
    "\n",
    "    batches = []\n",
    "    cpu_batches = []\n",
    "\n",
    "    for file_name in pickle_files:\n",
    "        file_path = os.path.join(folder_path, file_name)\n",
    "        print(file_path)\n",
    "        with open(file_path, \"rb\") as f:\n",
    "            G = pickle.load(f)\n",
    "\n",
    "        hetero_graph = load_hetero_graph(G)\n",
    "        hetero_graph_cpu = load_hetero_graph(G)\n",
    "        del G\n",
    "\n",
    "        batches.append(hetero_graph)\n",
    "        cpu_batches.append(hetero_graph_cpu)\n",
    "\n",
    "    return batches, cpu_batches"
   ]
  },
  {
   "cell_type": "code",
   "execution_count": 8,
   "metadata": {},
   "outputs": [
    {
     "name": "stdout",
     "output_type": "stream",
     "text": [
      "c:\\Users\\adria\\Desktop\\MLG-Predicting-Impacful-Events\\analysis\\preds\\../../data/graphs/batches/gnn_only/test_small\\batch_00008.pkl\n"
     ]
    }
   ],
   "source": [
    "# Get the current working directory\n",
    "current_working_directory = os.getcwd()\n",
    "\n",
    "# Construct the relative path to the directory with pickle files\n",
    "output_directory = os.path.join(current_working_directory, \"../../data/graphs/batches/gnn_only/test_small\")\n",
    "\n",
    "# Call your function\n",
    "test_batches, test_batches_cpu = get_batches_from_pickle(output_directory)"
   ]
  },
  {
   "cell_type": "code",
   "execution_count": 22,
   "metadata": {},
   "outputs": [],
   "source": [
    "# dummy args\n",
    "dummy_args = {\n",
    "    # \"device\": torch.device(\"cuda\" if torch.cuda.is_available() else \"cpu\"),\n",
    "    \"device\": \"cuda\",\n",
    "    \"hidden_size\": 173,\n",
    "    \"epochs\": 30,\n",
    "    \"weight_decay\": 0.00002203762357664057,\n",
    "    \"lr\": 0.003873757421883433,\n",
    "    \"attn_size\": 63,\n",
    "    \"num_layers\": 6,\n",
    "    \"aggr\": \"attn\",\n",
    "}"
   ]
  },
  {
   "cell_type": "code",
   "execution_count": 23,
   "metadata": {},
   "outputs": [
    {
     "name": "stdout",
     "output_type": "stream",
     "text": [
      "['event', 'concept', 'event_target']\n"
     ]
    }
   ],
   "source": [
    "model = HeteroGNN(\n",
    "        test_batches_cpu[0],\n",
    "        dummy_args,\n",
    "        num_layers=dummy_args[\"num_layers\"],\n",
    "        aggr=dummy_args[\"aggr\"],\n",
    "    ).to(dummy_args[\"device\"])\n"
   ]
  },
  {
   "cell_type": "code",
   "execution_count": 24,
   "metadata": {},
   "outputs": [
    {
     "ename": "RuntimeError",
     "evalue": "Error(s) in loading state_dict for HeteroGNN:\n\tUnexpected key(s) in state_dict: \"convs.0.modules.6.lin_dst.weight\", \"convs.0.modules.6.lin_dst.bias\", \"convs.0.modules.6.lin_src.weight\", \"convs.0.modules.6.lin_src.bias\", \"convs.0.modules.6.lin_update.weight\", \"convs.0.modules.6.lin_update.bias\", \"convs.1.modules.6.lin_dst.weight\", \"convs.1.modules.6.lin_dst.bias\", \"convs.1.modules.6.lin_src.weight\", \"convs.1.modules.6.lin_src.bias\", \"convs.1.modules.6.lin_update.weight\", \"convs.1.modules.6.lin_update.bias\", \"convs.2.modules.6.lin_dst.weight\", \"convs.2.modules.6.lin_dst.bias\", \"convs.2.modules.6.lin_src.weight\", \"convs.2.modules.6.lin_src.bias\", \"convs.2.modules.6.lin_update.weight\", \"convs.2.modules.6.lin_update.bias\", \"convs.3.modules.6.lin_dst.weight\", \"convs.3.modules.6.lin_dst.bias\", \"convs.3.modules.6.lin_src.weight\", \"convs.3.modules.6.lin_src.bias\", \"convs.3.modules.6.lin_update.weight\", \"convs.3.modules.6.lin_update.bias\", \"convs.4.modules.6.lin_dst.weight\", \"convs.4.modules.6.lin_dst.bias\", \"convs.4.modules.6.lin_src.weight\", \"convs.4.modules.6.lin_src.bias\", \"convs.4.modules.6.lin_update.weight\", \"convs.4.modules.6.lin_update.bias\". ",
     "output_type": "error",
     "traceback": [
      "\u001b[1;31m---------------------------------------------------------------------------\u001b[0m",
      "\u001b[1;31mRuntimeError\u001b[0m                              Traceback (most recent call last)",
      "Cell \u001b[1;32mIn[24], line 1\u001b[0m\n\u001b[1;32m----> 1\u001b[0m \u001b[43mmodel\u001b[49m\u001b[38;5;241;43m.\u001b[39;49m\u001b[43mload_state_dict\u001b[49m\u001b[43m(\u001b[49m\u001b[43mtorch\u001b[49m\u001b[38;5;241;43m.\u001b[39;49m\u001b[43mload\u001b[49m\u001b[43m(\u001b[49m\u001b[38;5;124;43m\"\u001b[39;49m\u001b[38;5;124;43m./best_model.pkl\u001b[39;49m\u001b[38;5;124;43m\"\u001b[39;49m\u001b[43m)\u001b[49m\u001b[43m)\u001b[49m\n",
      "File \u001b[1;32mc:\\Users\\adria\\.conda\\envs\\mlg\\lib\\site-packages\\torch\\nn\\modules\\module.py:2152\u001b[0m, in \u001b[0;36mModule.load_state_dict\u001b[1;34m(self, state_dict, strict, assign)\u001b[0m\n\u001b[0;32m   2147\u001b[0m         error_msgs\u001b[38;5;241m.\u001b[39minsert(\n\u001b[0;32m   2148\u001b[0m             \u001b[38;5;241m0\u001b[39m, \u001b[38;5;124m'\u001b[39m\u001b[38;5;124mMissing key(s) in state_dict: \u001b[39m\u001b[38;5;132;01m{}\u001b[39;00m\u001b[38;5;124m. \u001b[39m\u001b[38;5;124m'\u001b[39m\u001b[38;5;241m.\u001b[39mformat(\n\u001b[0;32m   2149\u001b[0m                 \u001b[38;5;124m'\u001b[39m\u001b[38;5;124m, \u001b[39m\u001b[38;5;124m'\u001b[39m\u001b[38;5;241m.\u001b[39mjoin(\u001b[38;5;124mf\u001b[39m\u001b[38;5;124m'\u001b[39m\u001b[38;5;124m\"\u001b[39m\u001b[38;5;132;01m{\u001b[39;00mk\u001b[38;5;132;01m}\u001b[39;00m\u001b[38;5;124m\"\u001b[39m\u001b[38;5;124m'\u001b[39m \u001b[38;5;28;01mfor\u001b[39;00m k \u001b[38;5;129;01min\u001b[39;00m missing_keys)))\n\u001b[0;32m   2151\u001b[0m \u001b[38;5;28;01mif\u001b[39;00m \u001b[38;5;28mlen\u001b[39m(error_msgs) \u001b[38;5;241m>\u001b[39m \u001b[38;5;241m0\u001b[39m:\n\u001b[1;32m-> 2152\u001b[0m     \u001b[38;5;28;01mraise\u001b[39;00m \u001b[38;5;167;01mRuntimeError\u001b[39;00m(\u001b[38;5;124m'\u001b[39m\u001b[38;5;124mError(s) in loading state_dict for \u001b[39m\u001b[38;5;132;01m{}\u001b[39;00m\u001b[38;5;124m:\u001b[39m\u001b[38;5;130;01m\\n\u001b[39;00m\u001b[38;5;130;01m\\t\u001b[39;00m\u001b[38;5;132;01m{}\u001b[39;00m\u001b[38;5;124m'\u001b[39m\u001b[38;5;241m.\u001b[39mformat(\n\u001b[0;32m   2153\u001b[0m                        \u001b[38;5;28mself\u001b[39m\u001b[38;5;241m.\u001b[39m\u001b[38;5;18m__class__\u001b[39m\u001b[38;5;241m.\u001b[39m\u001b[38;5;18m__name__\u001b[39m, \u001b[38;5;124m\"\u001b[39m\u001b[38;5;130;01m\\n\u001b[39;00m\u001b[38;5;130;01m\\t\u001b[39;00m\u001b[38;5;124m\"\u001b[39m\u001b[38;5;241m.\u001b[39mjoin(error_msgs)))\n\u001b[0;32m   2154\u001b[0m \u001b[38;5;28;01mreturn\u001b[39;00m _IncompatibleKeys(missing_keys, unexpected_keys)\n",
      "\u001b[1;31mRuntimeError\u001b[0m: Error(s) in loading state_dict for HeteroGNN:\n\tUnexpected key(s) in state_dict: \"convs.0.modules.6.lin_dst.weight\", \"convs.0.modules.6.lin_dst.bias\", \"convs.0.modules.6.lin_src.weight\", \"convs.0.modules.6.lin_src.bias\", \"convs.0.modules.6.lin_update.weight\", \"convs.0.modules.6.lin_update.bias\", \"convs.1.modules.6.lin_dst.weight\", \"convs.1.modules.6.lin_dst.bias\", \"convs.1.modules.6.lin_src.weight\", \"convs.1.modules.6.lin_src.bias\", \"convs.1.modules.6.lin_update.weight\", \"convs.1.modules.6.lin_update.bias\", \"convs.2.modules.6.lin_dst.weight\", \"convs.2.modules.6.lin_dst.bias\", \"convs.2.modules.6.lin_src.weight\", \"convs.2.modules.6.lin_src.bias\", \"convs.2.modules.6.lin_update.weight\", \"convs.2.modules.6.lin_update.bias\", \"convs.3.modules.6.lin_dst.weight\", \"convs.3.modules.6.lin_dst.bias\", \"convs.3.modules.6.lin_src.weight\", \"convs.3.modules.6.lin_src.bias\", \"convs.3.modules.6.lin_update.weight\", \"convs.3.modules.6.lin_update.bias\", \"convs.4.modules.6.lin_dst.weight\", \"convs.4.modules.6.lin_dst.bias\", \"convs.4.modules.6.lin_src.weight\", \"convs.4.modules.6.lin_src.bias\", \"convs.4.modules.6.lin_update.weight\", \"convs.4.modules.6.lin_update.bias\". "
     ]
    }
   ],
   "source": [
    "model.load_state_dict(torch.load(\"./best_model.pkl\"))\n"
   ]
  },
  {
   "cell_type": "code",
   "execution_count": null,
   "metadata": {},
   "outputs": [],
   "source": [
    "for train_batch, train_batch_cpu in tqdm(zip(train_batches, train_batches_cpu), total=len(train_batches)):\n",
    " "
   ]
  }
 ],
 "metadata": {
  "kernelspec": {
   "display_name": "mlg",
   "language": "python",
   "name": "python3"
  },
  "language_info": {
   "codemirror_mode": {
    "name": "ipython",
    "version": 3
   },
   "file_extension": ".py",
   "mimetype": "text/x-python",
   "name": "python",
   "nbconvert_exporter": "python",
   "pygments_lexer": "ipython3",
   "version": "3.10.13"
  }
 },
 "nbformat": 4,
 "nbformat_minor": 2
}
