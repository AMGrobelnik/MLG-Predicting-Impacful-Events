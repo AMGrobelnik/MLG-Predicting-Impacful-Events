{
 "cells": [
  {
   "cell_type": "code",
   "execution_count": 1,
   "metadata": {},
   "outputs": [],
   "source": [
    "import copy\n",
    "import torch\n",
    "import deepsnap\n",
    "import numpy as np\n",
    "import torch.nn as nn\n",
    "import torch.nn.functional as F\n",
    "import torch_geometric.nn as pyg_nn\n",
    "\n",
    "from sklearn.metrics import f1_score\n",
    "from deepsnap.hetero_gnn import forward_op\n",
    "from deepsnap.hetero_graph import HeteroGraph\n",
    "from torch_sparse import SparseTensor, matmul\n",
    "\n",
    "import pickle\n",
    "import networkx as nx\n",
    "import wandb\n",
    "import optuna\n",
    "import argparse\n",
    "from multiprocessing.pool import ThreadPool\n",
    "\n",
    "import os\n",
    "from tqdm import tqdm"
   ]
  },
  {
   "cell_type": "code",
   "execution_count": 2,
   "metadata": {},
   "outputs": [],
   "source": [
    "import sys\n",
    "import os\n",
    "\n",
    "# Get the current working directory\n",
    "current_working_directory = os.getcwd()\n",
    "\n",
    "# Construct the relative path (adjust the relative path as needed)\n",
    "relative_path = os.path.join(current_working_directory, '../../train/gnn_llm/')\n",
    "\n",
    "# Normalize the path to resolve any '..'\n",
    "normalized_path = os.path.normpath(relative_path)\n",
    "\n",
    "# Add the path to sys.path\n",
    "sys.path.append(normalized_path)\n",
    "\n",
    "# Now you can import your module\n",
    "from hetero_gnn import HeteroGNN"
   ]
  },
  {
   "cell_type": "code",
   "execution_count": 3,
   "metadata": {},
   "outputs": [
    {
     "data": {
      "text/plain": [
       "HeteroGraph(directed=[1], edge_index=[], edge_label_index=[], edge_to_graph_mapping=[], edge_to_tensor_mapping=[771846], edge_type=[], node_feature=[], node_label_index=[], node_target=[], node_to_graph_mapping=[], node_to_tensor_mapping=[101572], node_type=[])"
      ]
     },
     "execution_count": 3,
     "metadata": {},
     "output_type": "execute_result"
    }
   ],
   "source": [
    "# Get the current working directory\n",
    "current_working_directory = os.getcwd()\n",
    "\n",
    "# Construct the relative path to the directory with pickle files\n",
    "output_directory = os.path.join(current_working_directory, \"./\")\n",
    "\n",
    "# Call your function\n",
    "\n",
    "# Path to the specific pickle file\n",
    "pickle_file_path = os.path.join(output_directory, \"batch_hg_00000.pkl\")\n",
    "\n",
    "# Function to load the HeteroGraph class from the pickle file\n",
    "def load_heterograph_from_pickle(file_path):\n",
    "    with open(file_path, 'rb') as file:\n",
    "        heterograph = pickle.load(file)\n",
    "    return heterograph\n",
    "\n",
    "# Load the HeteroGraph\n",
    "heterograph = load_heterograph_from_pickle(pickle_file_path)\n",
    "heterograph"
   ]
  },
  {
   "cell_type": "code",
   "execution_count": 4,
   "metadata": {},
   "outputs": [],
   "source": [
    "# dummy args\n",
    "dummy_args = {\n",
    "    \"device\": torch.device(\"cuda\" if torch.cuda.is_available() else \"cpu\"),\n",
    "    \"hidden_size\": 81,\n",
    "        \"epochs\": 2,\n",
    "        \"weight_decay\": 0.00002203762357664057,\n",
    "        \"lr\": 0.003873757421883433,\n",
    "        \"attn_size\": 32,\n",
    "        \"num_layers\": 3,\n",
    "        \"aggr\": \"attn\",\n",
    "}"
   ]
  },
  {
   "cell_type": "code",
   "execution_count": 5,
   "metadata": {},
   "outputs": [
    {
     "name": "stdout",
     "output_type": "stream",
     "text": [
      "['event', 'concept', 'event_target']\n"
     ]
    }
   ],
   "source": [
    "model = HeteroGNN(\n",
    "        heterograph,\n",
    "        dummy_args,\n",
    "        num_layers=dummy_args[\"num_layers\"],\n",
    "        aggr=dummy_args[\"aggr\"],\n",
    "    ).to(dummy_args[\"device\"])\n"
   ]
  },
  {
   "cell_type": "code",
   "execution_count": 6,
   "metadata": {},
   "outputs": [
    {
     "data": {
      "text/plain": [
       "<All keys matched successfully>"
      ]
     },
     "execution_count": 6,
     "metadata": {},
     "output_type": "execute_result"
    }
   ],
   "source": [
    "model.load_state_dict(torch.load(\"./best_model.pkl\"))"
   ]
  },
  {
   "cell_type": "code",
   "execution_count": null,
   "metadata": {},
   "outputs": [],
   "source": []
  }
 ],
 "metadata": {
  "kernelspec": {
   "display_name": "mlg",
   "language": "python",
   "name": "python3"
  },
  "language_info": {
   "codemirror_mode": {
    "name": "ipython",
    "version": 3
   },
   "file_extension": ".py",
   "mimetype": "text/x-python",
   "name": "python",
   "nbconvert_exporter": "python",
   "pygments_lexer": "ipython3",
   "version": "3.10.13"
  }
 },
 "nbformat": 4,
 "nbformat_minor": 2
}
