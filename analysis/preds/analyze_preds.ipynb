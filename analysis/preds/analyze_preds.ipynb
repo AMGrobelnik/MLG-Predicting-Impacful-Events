{
 "cells": [
  {
   "cell_type": "code",
   "execution_count": 40,
   "metadata": {},
   "outputs": [],
   "source": [
    "import copy\n",
    "import torch\n",
    "import deepsnap\n",
    "import numpy as np\n",
    "import torch.nn as nn\n",
    "import torch.nn.functional as F\n",
    "import torch_geometric.nn as pyg_nn\n",
    "\n",
    "from sklearn.metrics import f1_score\n",
    "from deepsnap.hetero_gnn import forward_op\n",
    "from deepsnap.hetero_graph import HeteroGraph\n",
    "import matplotlib.pyplot as plt\n",
    "from torch_sparse import SparseTensor, matmul\n",
    "\n",
    "import pickle\n",
    "import networkx as nx\n",
    "import wandb\n",
    "import optuna\n",
    "import argparse\n",
    "from multiprocessing.pool import ThreadPool\n",
    "\n",
    "import os\n",
    "from tqdm import tqdm"
   ]
  },
  {
   "cell_type": "code",
   "execution_count": 2,
   "metadata": {},
   "outputs": [],
   "source": [
    "import sys\n",
    "import os\n",
    "\n",
    "# Get the current working directory\n",
    "current_working_directory = os.getcwd()\n",
    "\n",
    "# Construct the relative path (adjust the relative path as needed)\n",
    "relative_path = os.path.join(current_working_directory, '../../train/gnn_llm/')\n",
    "\n",
    "# Normalize the path to resolve any '..'\n",
    "normalized_path = os.path.normpath(relative_path)\n",
    "\n",
    "# Add the path to sys.path\n",
    "sys.path.append(normalized_path)\n",
    "\n",
    "# Now you can import your module\n",
    "from hetero_gnn import HeteroGNN"
   ]
  },
  {
   "cell_type": "code",
   "execution_count": 3,
   "metadata": {},
   "outputs": [
    {
     "data": {
      "text/plain": [
       "HeteroGraph(directed=[1], edge_index=[], edge_label_index=[], edge_to_graph_mapping=[], edge_to_tensor_mapping=[771846], edge_type=[], node_feature=[], node_label_index=[], node_target=[], node_to_graph_mapping=[], node_to_tensor_mapping=[101572], node_type=[])"
      ]
     },
     "execution_count": 3,
     "metadata": {},
     "output_type": "execute_result"
    }
   ],
   "source": [
    "# Get the current working directory\n",
    "current_working_directory = os.getcwd()\n",
    "\n",
    "# Construct the relative path to the directory with pickle files\n",
    "output_directory = os.path.join(current_working_directory, \"./\")\n",
    "\n",
    "# Call your function\n",
    "\n",
    "# Path to the specific pickle file\n",
    "pickle_file_path = os.path.join(output_directory, \"batch_hg_00000.pkl\")\n",
    "\n",
    "# Function to load the HeteroGraph class from the pickle file\n",
    "def load_heterograph_from_pickle(file_path):\n",
    "    with open(file_path, 'rb') as file:\n",
    "        heterograph = pickle.load(file)\n",
    "    return heterograph\n",
    "\n",
    "# Load the HeteroGraph\n",
    "heterograph = load_heterograph_from_pickle(pickle_file_path)\n",
    "heterograph"
   ]
  },
  {
   "cell_type": "code",
   "execution_count": 4,
   "metadata": {},
   "outputs": [],
   "source": [
    "# dummy args\n",
    "dummy_args = {\n",
    "    \"device\": torch.device(\"cuda\" if torch.cuda.is_available() else \"cpu\"),\n",
    "    \"hidden_size\": 81,\n",
    "        \"epochs\": 2,\n",
    "        \"weight_decay\": 0.00002203762357664057,\n",
    "        \"lr\": 0.003873757421883433,\n",
    "        \"attn_size\": 32,\n",
    "        \"num_layers\": 3,\n",
    "        \"aggr\": \"attn\",\n",
    "}"
   ]
  },
  {
   "cell_type": "code",
   "execution_count": 6,
   "metadata": {},
   "outputs": [
    {
     "name": "stdout",
     "output_type": "stream",
     "text": [
      "['event', 'concept', 'event_target']\n"
     ]
    }
   ],
   "source": [
    "model = HeteroGNN(\n",
    "        heterograph,\n",
    "        dummy_args,\n",
    "        num_layers=dummy_args[\"num_layers\"],\n",
    "        aggr=dummy_args[\"aggr\"],\n",
    "    ).to(dummy_args[\"device\"])\n"
   ]
  },
  {
   "cell_type": "code",
   "execution_count": 10,
   "metadata": {},
   "outputs": [
    {
     "data": {
      "text/plain": [
       "<All keys matched successfully>"
      ]
     },
     "execution_count": 10,
     "metadata": {},
     "output_type": "execute_result"
    }
   ],
   "source": [
    "model.load_state_dict(torch.load(\"./best_model.pkl\", map_location=torch.device('cpu')))"
   ]
  },
  {
   "cell_type": "code",
   "execution_count": 36,
   "metadata": {},
   "outputs": [],
   "source": [
    "def test_predictions_mask(lower_bound, upper_bound, graph, model):\n",
    "    preds = model(graph.node_feature, graph.edge_index)\n",
    "    \n",
    "    graph_mask = (graph.node_target['event_target'] > lower_bound) & (graph.node_target['event_target'] < upper_bound)\n",
    "\n",
    "    L1 = (\n",
    "           torch.sum(torch.abs(preds[\"event_target\"][graph_mask] - graph.node_target[\"event_target\"][graph_mask]))\n",
    "           / preds[\"event_target\"][graph_mask].shape[0]\n",
    "       )\n",
    "\n",
    "    mse = torch.mean(\n",
    "            torch.square(preds[\"event_target\"][graph_mask] - graph.node_target[\"event_target\"][graph_mask])\n",
    "        )\n",
    "\n",
    "    mape = torch.mean(\n",
    "            torch.abs(\n",
    "                (preds[\"event_target\"][graph_mask] - graph.node_target[\"event_target\"][graph_mask])\n",
    "                / graph.node_target[\"event_target\"][graph_mask]\n",
    "            )\n",
    "        )\n",
    "    \n",
    "    return (L1, mse, mape)"
   ]
  },
  {
   "cell_type": "code",
   "execution_count": 46,
   "metadata": {},
   "outputs": [
    {
     "name": "stdout",
     "output_type": "stream",
     "text": [
      "[0.6050677299499512, 0.8552483320236206, 0.9267628788948059]\n"
     ]
    },
    {
     "ename": "ValueError",
     "evalue": "x and y must have same first dimension, but have shapes (4,) and (3,)",
     "output_type": "error",
     "traceback": [
      "\u001b[0;31m---------------------------------------------------------------------------\u001b[0m",
      "\u001b[0;31mValueError\u001b[0m                                Traceback (most recent call last)",
      "\u001b[1;32m/home/nejcr/dev/MLG-Predicting-Impacful-Events/analysis/preds/analyze_preds.ipynb Cell 8\u001b[0m line \u001b[0;36m1\n\u001b[1;32m     <a href='vscode-notebook-cell:/home/nejcr/dev/MLG-Predicting-Impacful-Events/analysis/preds/analyze_preds.ipynb#X10sZmlsZQ%3D%3D?line=15'>16</a>\u001b[0m \u001b[39m# Plotting the results\u001b[39;00m\n\u001b[1;32m     <a href='vscode-notebook-cell:/home/nejcr/dev/MLG-Predicting-Impacful-Events/analysis/preds/analyze_preds.ipynb#X10sZmlsZQ%3D%3D?line=16'>17</a>\u001b[0m \u001b[39m# L1 Chart\u001b[39;00m\n\u001b[1;32m     <a href='vscode-notebook-cell:/home/nejcr/dev/MLG-Predicting-Impacful-Events/analysis/preds/analyze_preds.ipynb#X10sZmlsZQ%3D%3D?line=17'>18</a>\u001b[0m plt\u001b[39m.\u001b[39mfigure(figsize\u001b[39m=\u001b[39m(\u001b[39m10\u001b[39m, \u001b[39m4\u001b[39m))\n\u001b[0;32m---> <a href='vscode-notebook-cell:/home/nejcr/dev/MLG-Predicting-Impacful-Events/analysis/preds/analyze_preds.ipynb#X10sZmlsZQ%3D%3D?line=18'>19</a>\u001b[0m plt\u001b[39m.\u001b[39;49mplot(ranges, L1_values, label\u001b[39m=\u001b[39;49m\u001b[39m'\u001b[39;49m\u001b[39mL1\u001b[39;49m\u001b[39m'\u001b[39;49m, marker\u001b[39m=\u001b[39;49m\u001b[39m'\u001b[39;49m\u001b[39mo\u001b[39;49m\u001b[39m'\u001b[39;49m, color\u001b[39m=\u001b[39;49m\u001b[39m'\u001b[39;49m\u001b[39mblue\u001b[39;49m\u001b[39m'\u001b[39;49m)\n\u001b[1;32m     <a href='vscode-notebook-cell:/home/nejcr/dev/MLG-Predicting-Impacful-Events/analysis/preds/analyze_preds.ipynb#X10sZmlsZQ%3D%3D?line=19'>20</a>\u001b[0m plt\u001b[39m.\u001b[39mxlabel(\u001b[39m'\u001b[39m\u001b[39mRange (Lower bound - Upper bound)\u001b[39m\u001b[39m'\u001b[39m)\n\u001b[1;32m     <a href='vscode-notebook-cell:/home/nejcr/dev/MLG-Predicting-Impacful-Events/analysis/preds/analyze_preds.ipynb#X10sZmlsZQ%3D%3D?line=20'>21</a>\u001b[0m plt\u001b[39m.\u001b[39mylabel(\u001b[39m'\u001b[39m\u001b[39mL1 Value\u001b[39m\u001b[39m'\u001b[39m)\n",
      "File \u001b[0;32m~/.virtualenvs/mlg_env/lib64/python3.11/site-packages/matplotlib/pyplot.py:3575\u001b[0m, in \u001b[0;36mplot\u001b[0;34m(scalex, scaley, data, *args, **kwargs)\u001b[0m\n\u001b[1;32m   3567\u001b[0m \u001b[39m@_copy_docstring_and_deprecators\u001b[39m(Axes\u001b[39m.\u001b[39mplot)\n\u001b[1;32m   3568\u001b[0m \u001b[39mdef\u001b[39;00m \u001b[39mplot\u001b[39m(\n\u001b[1;32m   3569\u001b[0m     \u001b[39m*\u001b[39margs: \u001b[39mfloat\u001b[39m \u001b[39m|\u001b[39m ArrayLike \u001b[39m|\u001b[39m \u001b[39mstr\u001b[39m,\n\u001b[0;32m   (...)\u001b[0m\n\u001b[1;32m   3573\u001b[0m     \u001b[39m*\u001b[39m\u001b[39m*\u001b[39mkwargs,\n\u001b[1;32m   3574\u001b[0m ) \u001b[39m-\u001b[39m\u001b[39m>\u001b[39m \u001b[39mlist\u001b[39m[Line2D]:\n\u001b[0;32m-> 3575\u001b[0m     \u001b[39mreturn\u001b[39;00m gca()\u001b[39m.\u001b[39;49mplot(\n\u001b[1;32m   3576\u001b[0m         \u001b[39m*\u001b[39;49margs,\n\u001b[1;32m   3577\u001b[0m         scalex\u001b[39m=\u001b[39;49mscalex,\n\u001b[1;32m   3578\u001b[0m         scaley\u001b[39m=\u001b[39;49mscaley,\n\u001b[1;32m   3579\u001b[0m         \u001b[39m*\u001b[39;49m\u001b[39m*\u001b[39;49m({\u001b[39m\"\u001b[39;49m\u001b[39mdata\u001b[39;49m\u001b[39m\"\u001b[39;49m: data} \u001b[39mif\u001b[39;49;00m data \u001b[39mis\u001b[39;49;00m \u001b[39mnot\u001b[39;49;00m \u001b[39mNone\u001b[39;49;00m \u001b[39melse\u001b[39;49;00m {}),\n\u001b[1;32m   3580\u001b[0m         \u001b[39m*\u001b[39;49m\u001b[39m*\u001b[39;49mkwargs,\n\u001b[1;32m   3581\u001b[0m     )\n",
      "File \u001b[0;32m~/.virtualenvs/mlg_env/lib64/python3.11/site-packages/matplotlib/axes/_axes.py:1721\u001b[0m, in \u001b[0;36mAxes.plot\u001b[0;34m(self, scalex, scaley, data, *args, **kwargs)\u001b[0m\n\u001b[1;32m   1478\u001b[0m \u001b[39m\u001b[39m\u001b[39m\"\"\"\u001b[39;00m\n\u001b[1;32m   1479\u001b[0m \u001b[39mPlot y versus x as lines and/or markers.\u001b[39;00m\n\u001b[1;32m   1480\u001b[0m \n\u001b[0;32m   (...)\u001b[0m\n\u001b[1;32m   1718\u001b[0m \u001b[39m(``'green'``) or hex strings (``'#008000'``).\u001b[39;00m\n\u001b[1;32m   1719\u001b[0m \u001b[39m\"\"\"\u001b[39;00m\n\u001b[1;32m   1720\u001b[0m kwargs \u001b[39m=\u001b[39m cbook\u001b[39m.\u001b[39mnormalize_kwargs(kwargs, mlines\u001b[39m.\u001b[39mLine2D)\n\u001b[0;32m-> 1721\u001b[0m lines \u001b[39m=\u001b[39m [\u001b[39m*\u001b[39m\u001b[39mself\u001b[39m\u001b[39m.\u001b[39m_get_lines(\u001b[39mself\u001b[39m, \u001b[39m*\u001b[39margs, data\u001b[39m=\u001b[39mdata, \u001b[39m*\u001b[39m\u001b[39m*\u001b[39mkwargs)]\n\u001b[1;32m   1722\u001b[0m \u001b[39mfor\u001b[39;00m line \u001b[39min\u001b[39;00m lines:\n\u001b[1;32m   1723\u001b[0m     \u001b[39mself\u001b[39m\u001b[39m.\u001b[39madd_line(line)\n",
      "File \u001b[0;32m~/.virtualenvs/mlg_env/lib64/python3.11/site-packages/matplotlib/axes/_base.py:303\u001b[0m, in \u001b[0;36m_process_plot_var_args.__call__\u001b[0;34m(self, axes, data, *args, **kwargs)\u001b[0m\n\u001b[1;32m    301\u001b[0m     this \u001b[39m+\u001b[39m\u001b[39m=\u001b[39m args[\u001b[39m0\u001b[39m],\n\u001b[1;32m    302\u001b[0m     args \u001b[39m=\u001b[39m args[\u001b[39m1\u001b[39m:]\n\u001b[0;32m--> 303\u001b[0m \u001b[39myield from\u001b[39;00m \u001b[39mself\u001b[39;49m\u001b[39m.\u001b[39;49m_plot_args(\n\u001b[1;32m    304\u001b[0m     axes, this, kwargs, ambiguous_fmt_datakey\u001b[39m=\u001b[39;49mambiguous_fmt_datakey)\n",
      "File \u001b[0;32m~/.virtualenvs/mlg_env/lib64/python3.11/site-packages/matplotlib/axes/_base.py:499\u001b[0m, in \u001b[0;36m_process_plot_var_args._plot_args\u001b[0;34m(self, axes, tup, kwargs, return_kwargs, ambiguous_fmt_datakey)\u001b[0m\n\u001b[1;32m    496\u001b[0m     axes\u001b[39m.\u001b[39myaxis\u001b[39m.\u001b[39mupdate_units(y)\n\u001b[1;32m    498\u001b[0m \u001b[39mif\u001b[39;00m x\u001b[39m.\u001b[39mshape[\u001b[39m0\u001b[39m] \u001b[39m!=\u001b[39m y\u001b[39m.\u001b[39mshape[\u001b[39m0\u001b[39m]:\n\u001b[0;32m--> 499\u001b[0m     \u001b[39mraise\u001b[39;00m \u001b[39mValueError\u001b[39;00m(\u001b[39mf\u001b[39m\u001b[39m\"\u001b[39m\u001b[39mx and y must have same first dimension, but \u001b[39m\u001b[39m\"\u001b[39m\n\u001b[1;32m    500\u001b[0m                      \u001b[39mf\u001b[39m\u001b[39m\"\u001b[39m\u001b[39mhave shapes \u001b[39m\u001b[39m{\u001b[39;00mx\u001b[39m.\u001b[39mshape\u001b[39m}\u001b[39;00m\u001b[39m and \u001b[39m\u001b[39m{\u001b[39;00my\u001b[39m.\u001b[39mshape\u001b[39m}\u001b[39;00m\u001b[39m\"\u001b[39m)\n\u001b[1;32m    501\u001b[0m \u001b[39mif\u001b[39;00m x\u001b[39m.\u001b[39mndim \u001b[39m>\u001b[39m \u001b[39m2\u001b[39m \u001b[39mor\u001b[39;00m y\u001b[39m.\u001b[39mndim \u001b[39m>\u001b[39m \u001b[39m2\u001b[39m:\n\u001b[1;32m    502\u001b[0m     \u001b[39mraise\u001b[39;00m \u001b[39mValueError\u001b[39;00m(\u001b[39mf\u001b[39m\u001b[39m\"\u001b[39m\u001b[39mx and y can be no greater than 2D, but have \u001b[39m\u001b[39m\"\u001b[39m\n\u001b[1;32m    503\u001b[0m                      \u001b[39mf\u001b[39m\u001b[39m\"\u001b[39m\u001b[39mshapes \u001b[39m\u001b[39m{\u001b[39;00mx\u001b[39m.\u001b[39mshape\u001b[39m}\u001b[39;00m\u001b[39m and \u001b[39m\u001b[39m{\u001b[39;00my\u001b[39m.\u001b[39mshape\u001b[39m}\u001b[39;00m\u001b[39m\"\u001b[39m)\n",
      "\u001b[0;31mValueError\u001b[0m: x and y must have same first dimension, but have shapes (4,) and (3,)"
     ]
    },
    {
     "data": {
      "image/png": "[encoded data removed]",
      "text/plain": [
       "<Figure size 1000x400 with 1 Axes>"
      ]
     },
     "metadata": {},
     "output_type": "display_data"
    }
   ],
   "source": [
    "results = []\n",
    "bounds = [(0, 10), (10, 25), (25, 10000000)]\n",
    "\n",
    "for bound in bounds:\n",
    "    results.append(test_predictions_mask(bound[0], bound[1], heterograph, model))\n",
    "\n",
    "# Extracting individual metrics\n",
    "L1_values = [result[0].item() for result in results]\n",
    "MSE_values = [result[1].item() for result in results]\n",
    "MAPE_values = [result[2].item() for result in results]\n",
    "\n",
    "print(MAPE_values)\n",
    "# Range values\n",
    "ranges = [f\"{i}-{i+25}\" for i in range(0, 100, 25)]\n",
    "\n",
    "# Plotting the results\n",
    "# L1 Chart\n",
    "plt.figure(figsize=(10, 4))\n",
    "plt.plot(ranges, L1_values, label='L1', marker='o', color='blue')\n",
    "plt.xlabel('Range (Lower bound - Upper bound)')\n",
    "plt.ylabel('L1 Value')\n",
    "plt.title('L1 Metric Across Different Ranges')\n",
    "plt.grid(True)\n",
    "plt.show()\n",
    "\n",
    "# MAPE Chart\n",
    "plt.figure(figsize=(10, 4))\n",
    "plt.plot(ranges, MAPE_values, label='MAPE', marker='^', color='red')\n",
    "plt.xlabel('Range (Lower bound - Upper bound)')\n",
    "plt.ylabel('MAPE Value')\n",
    "plt.title('MAPE Metric Across Different Ranges')\n",
    "plt.grid(True)\n",
    "plt.show()\n",
    "\n"
   ]
  }
 ],
 "metadata": {
  "kernelspec": {
   "display_name": "mlg",
   "language": "python",
   "name": "python3"
  },
  "language_info": {
   "codemirror_mode": {
    "name": "ipython",
    "version": 3
   },
   "file_extension": ".py",
   "mimetype": "text/x-python",
   "name": "python",
   "nbconvert_exporter": "python",
   "pygments_lexer": "ipython3",
   "version": "3.11.6"
  }
 },
 "nbformat": 4,
 "nbformat_minor": 2
}
